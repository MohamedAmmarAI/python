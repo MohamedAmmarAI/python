{
 "cells": [
  {
   "cell_type": "markdown",
   "metadata": {},
   "source": [
    "# Week 3"
   ]
  },
  {
   "cell_type": "markdown",
   "metadata": {},
   "source": [
    "#019 – Numbers\n",
    "#020 – Arithmetic Operators\n",
    "#021 – Lists\n",
    "#022 – Lists Methods Part 1\n",
    "#023 – Lists Methods Part 2\n",
    "#024 – Tuples Methods Part 1\n",
    "#025 – Tuples Methods Part 2"
   ]
  },
  {
   "cell_type": "code",
   "execution_count": 3,
   "metadata": {},
   "outputs": [
    {
     "name": "stdout",
     "output_type": "stream",
     "text": [
      "<class 'int'>\n",
      "<class 'int'>\n",
      "<class 'int'>\n",
      "<class 'float'>\n",
      "<class 'float'>\n",
      "<class 'float'>\n"
     ]
    }
   ],
   "source": [
    "# -------------\n",
    "# -- Numbers --\n",
    "# -------------\n",
    "\n",
    "# Integer\n",
    "\n",
    "print(type(12))\n",
    "print(type(23))\n",
    "print(type(-123))\n",
    "\n",
    "# float\n",
    "\n",
    "print(type(12.22))\n",
    "print(type(0.99))\n",
    "print(type(-2.34))\n"
   ]
  },
  {
   "cell_type": "code",
   "execution_count": 5,
   "metadata": {},
   "outputs": [
    {
     "name": "stdout",
     "output_type": "stream",
     "text": [
      "<class 'complex'>\n",
      "real part is : 5.0\n",
      "imaginary part is : 6.0\n"
     ]
    }
   ],
   "source": [
    "# complex\n",
    "\n",
    "mycomplexnumber=5+6j\n",
    "print(type(mycomplexnumber))\n",
    "\n",
    "print(\"real part is : {}\".format(mycomplexnumber.real))\n",
    "print(\"imaginary part is : {}\".format(mycomplexnumber.imag))"
   ]
  },
  {
   "cell_type": "code",
   "execution_count": 8,
   "metadata": {},
   "outputs": [
    {
     "name": "stdout",
     "output_type": "stream",
     "text": [
      "100\n",
      "100.0\n",
      "(100+0j)\n",
      "100.2\n",
      "100\n",
      "(100.2+0j)\n",
      "(5+6j)\n"
     ]
    }
   ],
   "source": [
    "# [1] You Can Convert From Int To Float or Complex\n",
    "# [2] You Can Convert From Float To Int or Complex\n",
    "# [3] You Cannot Convert Complex To Any Type\n",
    "\n",
    "print(100)\n",
    "print(float(100))\n",
    "print(complex(100))\n",
    "\n",
    "print(100.20)\n",
    "print(int(100.20))\n",
    "print(complex(100.20))\n",
    "\n",
    "print(5+6j)\n",
    "#print(int(5+6j)) # can't convert complex to int"
   ]
  },
  {
   "cell_type": "code",
   "execution_count": 19,
   "metadata": {},
   "outputs": [
    {
     "name": "stdout",
     "output_type": "stream",
     "text": [
      "43\n",
      "8.2\n",
      "50\n",
      "-50\n",
      "40\n",
      "200\n",
      "5.0\n",
      "5\n",
      "0\n",
      "1\n",
      "0\n",
      "2\n",
      "32\n",
      "5\n",
      "24\n"
     ]
    }
   ],
   "source": [
    "# --------------------------\n",
    "# -- Arithmetic Operators --\n",
    "# --------------------------\n",
    "# [+] Addition\n",
    "# [-] Subtraction\n",
    "# [*] Multiplication\n",
    "# [/] Division\n",
    "# [%] Modulus\n",
    "# [**] Exponent\n",
    "# [//] Floor Division\n",
    "# --------------------------\n",
    "\n",
    "# Addition\n",
    "print(23+20)\n",
    "print(3.2+5)\n",
    "\n",
    "# Subtraction\n",
    "print(100-50)\n",
    "print(50-100)\n",
    "\n",
    "# multiplication\n",
    "print(20*2)\n",
    "print(100*2)\n",
    "\n",
    "# division\n",
    "print(100/20)\n",
    "print(int(100/20))\n",
    "\n",
    "# Modulus\n",
    "print(8 % 2)\n",
    "print(9 % 2)\n",
    "print(20 % 5)\n",
    "print(22 % 5)\n",
    "\n",
    "# Exponent\n",
    "print(2**5)\n",
    "\n",
    "# Floor Division\n",
    "print(100//20)\n",
    "print(122//5)\n",
    "\n"
   ]
  },
  {
   "cell_type": "code",
   "execution_count": 3,
   "metadata": {},
   "outputs": [
    {
     "name": "stdout",
     "output_type": "stream",
     "text": [
      "['One', 'Two', 'One', 1, 100.5, True]\n",
      "Two\n",
      "True\n",
      "1\n",
      "['Two', 'One', 1]\n",
      "['One', 'Two', 'One', 1]\n",
      "['Two', 'One', 1, 100.5, True]\n",
      "['One', 'Two', 'One', 1, 100.5, True]\n",
      "['One', 'One', 100.5]\n",
      "['One', 'Two', 'One', 1, 100.5, True]\n",
      "Two\n",
      "True\n",
      "['a', 1, 100.5, True]\n"
     ]
    }
   ],
   "source": [
    "# -----------------------------\n",
    "# -- Lists --\n",
    "# -----------\n",
    "# [1] List Items Are Enclosed in Square Brackets\n",
    "# [2] List Are Ordered, To Use Index To Access Item\n",
    "# [3] List Are Mutable => Add, Delete, Edit\n",
    "# [4] List Items Is Not Unique\n",
    "# [5] List Can Have Different Data Types\n",
    "# -----------------------------\n",
    "\n",
    "myAwesomeList = [\"One\", \"Two\", \"One\", 1, 100.5, True]\n",
    "print(myAwesomeList)\n",
    "print(myAwesomeList[1])\n",
    "print(myAwesomeList[-1])\n",
    "print(myAwesomeList[-3])\n",
    "\n",
    "print(myAwesomeList[1:4])\n",
    "print(myAwesomeList[:4])\n",
    "print(myAwesomeList[1:])\n",
    "\n",
    "print(myAwesomeList[::1])\n",
    "print(myAwesomeList[::2])\n",
    "\n",
    "print(myAwesomeList)\n",
    "print(myAwesomeList[1])\n",
    "print(myAwesomeList[-1])\n",
    "\n",
    "myAwesomeList[0:3]=[\"a\"]\n",
    "print(myAwesomeList)\n",
    "\n",
    "\n",
    "\n"
   ]
  },
  {
   "cell_type": "code",
   "execution_count": 5,
   "metadata": {},
   "outputs": [
    {
     "name": "stdout",
     "output_type": "stream",
     "text": [
      "['Osama', 'Ahmed', 'Sayed', 'alaa', 100, 100.23, True, ['Haytham', 'Samah', 'Ali']]\n",
      "Sayed\n",
      "True\n",
      "['Haytham', 'Samah', 'Ali']\n",
      "Ali\n"
     ]
    }
   ],
   "source": [
    "# -------------------\n",
    "# -- Lists Methods --\n",
    "# -------------------\n",
    "\n",
    "# append()\n",
    "\n",
    "myFriends = [\"Osama\", \"Ahmed\", \"Sayed\"]\n",
    "myOldFriends = [\"Haytham\", \"Samah\", \"Ali\"]\n",
    "\n",
    "myFriends.append(\"alaa\")\n",
    "myFriends.append(100)\n",
    "myFriends.append(100.23)\n",
    "myFriends.append(True)\n",
    "myFriends.append(myOldFriends)\n",
    "\n",
    "print(myFriends)\n",
    "print(myFriends[2])\n",
    "print(myFriends[6])\n",
    "print(myFriends[7])\n",
    "print(myFriends[7][2])\n"
   ]
  },
  {
   "cell_type": "code",
   "execution_count": 7,
   "metadata": {},
   "outputs": [
    {
     "name": "stdout",
     "output_type": "stream",
     "text": [
      "[1, 2, 3, 4, 'A', 'B', 'C', 'One', 'Two']\n"
     ]
    }
   ],
   "source": [
    "a = [1, 2, 3, 4]\n",
    "b = [\"A\", \"B\", \"C\"]\n",
    "c = [\"One\", \"Two\"]\n",
    "\n",
    "a.extend(b)\n",
    "a.extend(c)\n",
    "print(a)"
   ]
  },
  {
   "cell_type": "code",
   "execution_count": 13,
   "metadata": {},
   "outputs": [
    {
     "name": "stdout",
     "output_type": "stream",
     "text": [
      "[1, 2, 3, 4, True, 'Osama', 'Osama']\n",
      "[120, 100, 29, 17, 2, 1, -10]\n",
      "['A', 'C', 'Z']\n",
      "[100, 'Osama', 100, 80, 9, 1, 10]\n"
     ]
    }
   ],
   "source": [
    "# remove()\n",
    "\n",
    "x = [1, 2, 3, 4, 5, \"Osama\", True, \"Osama\", \"Osama\"]\n",
    "\n",
    "x.remove(\"Osama\")\n",
    "x.remove(5)\n",
    "print(x)\n",
    "\n",
    "# sort()\n",
    "\n",
    "y = [1, 2, 100, 120, -10, 17, 29]\n",
    "z= [\"A\", \"Z\", \"C\"]\n",
    "y.sort(reverse=True)\n",
    "print(y)\n",
    "z.sort()\n",
    "print(z)\n",
    "\n",
    "z = [10, 1, 9, 80, 100, \"Osama\", 100]\n",
    "z.reverse()\n",
    "print(z)"
   ]
  },
  {
   "cell_type": "code",
   "execution_count": 16,
   "metadata": {},
   "outputs": [
    {
     "name": "stdout",
     "output_type": "stream",
     "text": [
      "[]\n",
      "[1, 2, 3, 4]\n",
      "[1, 2, 3, 4]\n",
      "[1, 2, 3, 4, 5]\n",
      "[1, 2, 3, 4]\n"
     ]
    }
   ],
   "source": [
    "# -------------------\n",
    "# -- Lists Methods --\n",
    "# -------------------\n",
    "\n",
    "# clear()\n",
    "a = [1, 2, 3, 4]\n",
    "a.clear()\n",
    "print(a)\n",
    "\n",
    "# copy()\n",
    "\n",
    "b = [1, 2, 3, 4]\n",
    "c=b.copy()\n",
    "print(b)\n",
    "print(c)\n",
    "\n",
    "b.append(5)\n",
    "print(b)\n",
    "print(c)\n",
    "\n"
   ]
  },
  {
   "cell_type": "code",
   "execution_count": 18,
   "metadata": {},
   "outputs": [
    {
     "name": "stdout",
     "output_type": "stream",
     "text": [
      "2\n",
      "2\n"
     ]
    }
   ],
   "source": [
    "# count()\n",
    "\n",
    "d = [1, 2, 3, 4, 3, 9, 10, 1, 2, 1]\n",
    "print(d.count(3))\n",
    "\n",
    "# index()\n",
    "\n",
    "e = [\"Osama\", \"Ahmed\", \"Sayed\", \"Ramy\", \"Ahmed\", \"Ramy\"]\n",
    "print(e.index(\"Sayed\"))"
   ]
  },
  {
   "cell_type": "code",
   "execution_count": 20,
   "metadata": {},
   "outputs": [
    {
     "name": "stdout",
     "output_type": "stream",
     "text": [
      "[0, 1, 2, 3, 4, 5, 'A', 'c', 'B']\n"
     ]
    }
   ],
   "source": [
    "# insert()\n",
    "\n",
    "f = [1, 2, 3, 4, 5, \"A\", \"B\"]\n",
    "f.insert(0,0)\n",
    "f.insert(-1,\"c\")\n",
    "\n",
    "print(f)"
   ]
  },
  {
   "cell_type": "code",
   "execution_count": 22,
   "metadata": {},
   "outputs": [
    {
     "name": "stdout",
     "output_type": "stream",
     "text": [
      "5\n",
      "[1, 2, 3, 4, 'A', 'B']\n"
     ]
    }
   ],
   "source": [
    "# pop()\n",
    "\n",
    "g = [1, 2, 3, 4, 5, \"A\", \"B\"]\n",
    "print(g.pop(-3))\n",
    "print(g)"
   ]
  },
  {
   "cell_type": "code",
   "execution_count": 28,
   "metadata": {},
   "outputs": [
    {
     "name": "stdout",
     "output_type": "stream",
     "text": [
      "('Osama', 'Ahmed')\n",
      "('Osama', 'Ahmed')\n",
      "<class 'tuple'>\n",
      "<class 'tuple'>\n",
      "1\n",
      "5\n",
      "3\n",
      "Osama\n",
      "True\n"
     ]
    }
   ],
   "source": [
    "# -----------------------------\n",
    "# -- Tuple --\n",
    "# -----------\n",
    "# [1] Tuple Items Are Enclosed in Parentheses\n",
    "# [2] You Can Remove The Parentheses If You Want\n",
    "# [3] Tuple Are Ordered, To Use Index To Access Item\n",
    "# [4] Tuple Are Immutable => You Cant Add or Delete\n",
    "# [5] Tuple Items Is Not Unique\n",
    "# [6] Tuple Can Have Different Data Types\n",
    "# [7] Operators Used in Strings and Lists Available In Tuples\n",
    "# -----------------------------\n",
    "\n",
    "# Tuple Syntax & Type Test\n",
    "\n",
    "myAwesomeTupleOne = (\"Osama\", \"Ahmed\")\n",
    "myAwesomeTupleTwo = \"Osama\", \"Ahmed\"\n",
    "\n",
    "print(myAwesomeTupleOne)\n",
    "print(myAwesomeTupleTwo)\n",
    "\n",
    "print(type(myAwesomeTupleOne))\n",
    "print(type(myAwesomeTupleTwo))\n",
    "\n",
    "# Tuple Indexing\n",
    "\n",
    "myAwesomeTupleThree = (1, 2, 3, 4, 5)\n",
    "print(myAwesomeTupleThree[0])\n",
    "print(myAwesomeTupleThree[-1])\n",
    "print(myAwesomeTupleThree[-3])\n",
    "\n",
    "\n",
    "# Tuple Assign Values\n",
    "\n",
    "myAwesomeTupleFour = (1, 2, 3, 4, 5)\n",
    "# myAwesomeTupleFour[2] = \"Three\"\n",
    "# print(myAwesomeTupleFour)  # 'tuple' object does not support item assignment\n",
    "\n",
    "# Tuple Data\n",
    "\n",
    "myAwesomeTupleFive = (\"Osama\", \"Osama\", 1, 2, 3, 100.5, True)\n",
    "print(myAwesomeTupleFive[1])\n",
    "print(myAwesomeTupleFive[-1])"
   ]
  },
  {
   "cell_type": "code",
   "execution_count": 30,
   "metadata": {},
   "outputs": [
    {
     "name": "stdout",
     "output_type": "stream",
     "text": [
      "('Osama',)\n",
      "('Osama',)\n",
      "<class 'tuple'>\n",
      "<class 'tuple'>\n",
      "1\n",
      "1\n"
     ]
    }
   ],
   "source": [
    "# -----------\n",
    "# -- Tuple --\n",
    "# -----------\n",
    "\n",
    "# Tuple With One Element\n",
    "\n",
    "myTuple1 = (\"Osama\",)\n",
    "myTuple2 = \"Osama\",\n",
    "\n",
    "print(myTuple1)\n",
    "print(myTuple2)\n",
    "\n",
    "print(type(myTuple1))\n",
    "print(type(myTuple2))\n",
    "\n",
    "print(len(myTuple1))\n",
    "print(len(myTuple2))"
   ]
  },
  {
   "cell_type": "code",
   "execution_count": 31,
   "metadata": {},
   "outputs": [
    {
     "name": "stdout",
     "output_type": "stream",
     "text": [
      "(1, 2, 3, 4, 5, 6)\n",
      "(1, 2, 3, 4, 'A', 'B', True, 5, 6)\n"
     ]
    }
   ],
   "source": [
    "# Tuple Concatenation\n",
    "\n",
    "a = (1, 2, 3, 4)\n",
    "b = (5, 6)\n",
    "\n",
    "c = a + b\n",
    "d = a + (\"A\", \"B\", True) + b\n",
    "\n",
    "print(c)\n",
    "print(d)"
   ]
  },
  {
   "cell_type": "code",
   "execution_count": 32,
   "metadata": {},
   "outputs": [
    {
     "name": "stdout",
     "output_type": "stream",
     "text": [
      "OsamaOsamaOsamaOsamaOsamaOsama\n",
      "[1, 2, 1, 2, 1, 2, 1, 2, 1, 2, 1, 2]\n",
      "('A', 'B', 'A', 'B', 'A', 'B', 'A', 'B', 'A', 'B', 'A', 'B')\n"
     ]
    }
   ],
   "source": [
    "# Tuple, List, String Repeat (*)\n",
    "\n",
    "myString = \"Osama\"\n",
    "myList = [1, 2]\n",
    "myTuple = (\"A\", \"B\")\n",
    "\n",
    "print(myString*6)\n",
    "print(myList*6)\n",
    "print(myTuple*6)"
   ]
  },
  {
   "cell_type": "code",
   "execution_count": 34,
   "metadata": {},
   "outputs": [
    {
     "name": "stdout",
     "output_type": "stream",
     "text": [
      "2\n",
      "The Position of Index Is: 2\n",
      "The Position of Index Is: 2\n",
      "A\n",
      "B\n",
      "C\n",
      "4\n"
     ]
    }
   ],
   "source": [
    "# Methods => count()\n",
    "\n",
    "a = (1, 3, 7, 8, 2, 6, 5, 8)\n",
    "print(a.count(8))\n",
    "\n",
    "# Methods => index()\n",
    "\n",
    "b = (1, 3, 7, 8, 2, 6, 5)\n",
    "# print(\"The Position of Index Is: \" + b.index(7))  # Error\n",
    "print(\"The Position of Index Is: {:d}\".format(b.index(7)))\n",
    "print(f\"The Position of Index Is: {b.index(7)}\")\n",
    "\n",
    "# Tuple Destruct\n",
    "\n",
    "a = (\"A\", \"B\", 4, \"C\")\n",
    "\n",
    "x, y, _, z = a\n",
    "\n",
    "print(x)\n",
    "print(y)\n",
    "print(z)\n",
    "print(_)"
   ]
  },
  {
   "cell_type": "markdown",
   "metadata": {},
   "source": [
    "# Assignments"
   ]
  },
  {
   "cell_type": "code",
   "execution_count": 2,
   "metadata": {},
   "outputs": [
    {
     "name": "stdout",
     "output_type": "stream",
     "text": [
      "<class 'int'>\n",
      "<class 'int'>\n",
      "<class 'float'>\n",
      "<class 'complex'>\n"
     ]
    }
   ],
   "source": [
    "# 1\n",
    "print(type(100))\n",
    "print(type(-100))\n",
    "print(type(100.32))\n",
    "print(type(3+6j))"
   ]
  },
  {
   "cell_type": "code",
   "execution_count": 3,
   "metadata": {},
   "outputs": [
    {
     "name": "stdout",
     "output_type": "stream",
     "text": [
      "2.0\n",
      "1.0\n"
     ]
    }
   ],
   "source": [
    "# 2\n",
    "x=1+2j\n",
    "\n",
    "# Print Imaginary Part Here\n",
    "# Print Real Part Here\n",
    "\n",
    "print(x.imag)\n",
    "print(x.real)"
   ]
  },
  {
   "cell_type": "code",
   "execution_count": 10,
   "metadata": {},
   "outputs": [
    {
     "name": "stdout",
     "output_type": "stream",
     "text": [
      "10.0000000000\n"
     ]
    }
   ],
   "source": [
    "# 3\n",
    "num = 10\n",
    "\n",
    "# Needed Ouput\n",
    "# 10.0000000000\n",
    "f=float(num)\n",
    "print(\"{:.10f}\".format(f))  \n",
    "\n"
   ]
  },
  {
   "cell_type": "code",
   "execution_count": 13,
   "metadata": {},
   "outputs": [
    {
     "name": "stdout",
     "output_type": "stream",
     "text": [
      "159\n",
      "<class 'int'>\n"
     ]
    }
   ],
   "source": [
    "# 4\n",
    "num = 159.650\n",
    "\n",
    "# Needed Output\n",
    "# 159\n",
    "# <class 'int'>\n",
    "\n",
    "num=int(num)\n",
    "print(int(num))\n",
    "print(type(num))\n"
   ]
  },
  {
   "cell_type": "code",
   "execution_count": 14,
   "metadata": {},
   "outputs": [],
   "source": [
    "# 5\n",
    "#100 - 115 = -15  # -\n",
    "# 50 * 30 = 1500\n",
    "# 21 % 4 = 1\n",
    "# 110 / 11 = 10\n",
    "# 97 / 20 = 4\n",
    "\n"
   ]
  },
  {
   "cell_type": "code",
   "execution_count": 16,
   "metadata": {},
   "outputs": [
    {
     "name": "stdout",
     "output_type": "stream",
     "text": [
      "Osama\n",
      "Osama\n",
      "Mahmoud\n",
      "Mahmoud\n"
     ]
    }
   ],
   "source": [
    "# 1\n",
    "\n",
    "friends = [\"Osama\", \"Ahmed\", \"Sayed\", \"Ali\", \"Mahmoud\"]\n",
    "\n",
    "# Needed Output\n",
    "# \"Osama\" => Method One\n",
    "# \"Osama\" => Method Two\n",
    "# \"Mahmoud\" => Method One\n",
    "# \"Mahmoud\" => Method Two\n",
    "\n",
    "print(friends[0])\n",
    "print(friends[-5])\n",
    "print(friends[-1])\n",
    "print(friends[4])"
   ]
  },
  {
   "cell_type": "code",
   "execution_count": 21,
   "metadata": {},
   "outputs": [
    {
     "name": "stdout",
     "output_type": "stream",
     "text": [
      "['Osama', 'Sayed', 'Mahmoud']\n",
      "['Ahmed', 'Ali']\n"
     ]
    }
   ],
   "source": [
    "# 2\n",
    "\n",
    "friends = [\"Osama\", \"Ahmed\", \"Sayed\", \"Ali\", \"Mahmoud\"]\n",
    "\n",
    "# Needed Output\n",
    "# \"Osama\", \"Sayed\", \"Mahmoud\"\n",
    "# \"Ahmed\", \"Ali\"\n",
    "\n",
    "print(friends[::2])\n",
    "print(friends[1::2])"
   ]
  },
  {
   "cell_type": "code",
   "execution_count": 22,
   "metadata": {},
   "outputs": [
    {
     "name": "stdout",
     "output_type": "stream",
     "text": [
      "['Ahmed', 'Sayed', 'Ali', 'Mahmoud']\n",
      "['Ali', 'Mahmoud']\n"
     ]
    }
   ],
   "source": [
    "# 3\n",
    "\n",
    "friends = [\"Osama\", \"Ahmed\", \"Sayed\", \"Ali\", \"Mahmoud\"]\n",
    "\n",
    "# Needed Output\n",
    "# \"Ahmed\", \"Sayed\", \"Ali\",\n",
    "# \"Ali\", \"Mahmoud\"\n",
    "\n",
    "print(friends[1:5])\n",
    "print(friends[3:5])\n"
   ]
  },
  {
   "cell_type": "code",
   "execution_count": 37,
   "metadata": {},
   "outputs": [
    {
     "name": "stdout",
     "output_type": "stream",
     "text": [
      "['Osama', 'Ahmed', 'Sayed', 'elzero', 'elzero']\n"
     ]
    }
   ],
   "source": [
    "# 4\n",
    "friends = [\"Osama\", \"Ahmed\", \"Sayed\", \"Ali\", \"Mahmoud\"]\n",
    "\n",
    "# Needed Output\n",
    "# [\"Osama\", \"Ahmed\", \"Sayed\", \"Elzero\", \"Elzero\"]\n",
    "\n",
    "friend=[\"elzero\",\"elzero\"]\n",
    "y=friends[0:3]\n",
    "result=y+friend\n",
    "print(result)"
   ]
  },
  {
   "cell_type": "code",
   "execution_count": 41,
   "metadata": {},
   "outputs": [
    {
     "name": "stdout",
     "output_type": "stream",
     "text": [
      "['salem', 'Osama', 'Ahmed', 'Sayed', 'nasser']\n"
     ]
    }
   ],
   "source": [
    "# 5\n",
    "friends = [\"Osama\", \"Ahmed\", \"Sayed\"]\n",
    "\n",
    "# Needed Output\n",
    "# [\"Nasser\", \"Osama\", \"Ahmed\", \"Sayed\"]\n",
    "# [\"Nasser\", \"Osama\", \"Ahmed\", \"Sayed\", \"Salem\"]\n",
    "\n",
    "friends.append(\"nasser\")\n",
    "friends.insert(0,\"salem\")\n",
    "print(friends)\n",
    "\n"
   ]
  },
  {
   "cell_type": "code",
   "execution_count": 46,
   "metadata": {},
   "outputs": [
    {
     "name": "stdout",
     "output_type": "stream",
     "text": [
      "['Ahmed', 'Sayed', 'Salem']\n",
      "['Ahmed', 'Sayed']\n"
     ]
    }
   ],
   "source": [
    "# 6\n",
    "friends = [\"Nasser\", \"Osama\", \"Ahmed\", \"Sayed\", \"Salem\"]\n",
    "\n",
    "# Needed Output\n",
    "# [\"Ahmed\", \"Sayed\", \"Salem\"]\n",
    "# [\"Ahmed\", \"Sayed\"]\n",
    "\n",
    "friends.remove(\"Nasser\")\n",
    "friends.remove(\"Osama\")\n",
    "print(friends)\n",
    "friends.remove(friends[-1])\n",
    "print(friends)\n",
    "\n"
   ]
  },
  {
   "cell_type": "code",
   "execution_count": 48,
   "metadata": {},
   "outputs": [
    {
     "name": "stdout",
     "output_type": "stream",
     "text": [
      "['Ahmed', 'Sayed', 'Samah', 'Eman', 'Ramy', 'Shady']\n"
     ]
    }
   ],
   "source": [
    "# 7\n",
    "\n",
    "friends = [\"Ahmed\", \"Sayed\"]\n",
    "employees = [\"Samah\", \"Eman\"]\n",
    "school = [\"Ramy\", \"Shady\"]\n",
    "\n",
    "# Needed Output\n",
    "# [\"Ahmed\", \"Sayed\", \"Samah\", \"Eman\", \"Ramy\", \"Shady\"]\n",
    "\n",
    "friends.extend(employees)\n",
    "friends.extend(school)\n",
    "print(friends)"
   ]
  },
  {
   "cell_type": "code",
   "execution_count": 50,
   "metadata": {},
   "outputs": [
    {
     "name": "stdout",
     "output_type": "stream",
     "text": [
      "['Ahmed', 'Eman', 'Ramy', 'Samah', 'Sayed', 'Shady']\n",
      "['Shady', 'Sayed', 'Samah', 'Ramy', 'Eman', 'Ahmed']\n"
     ]
    }
   ],
   "source": [
    "# 8\n",
    "friends = [\"Ahmed\", \"Sayed\", \"Samah\", \"Eman\", \"Ramy\", \"Shady\"]\n",
    "\n",
    "# Needed Output\n",
    "# ['Ahmed', 'Eman', 'Ramy', 'Samah', 'Sayed', 'Shady']\n",
    "# ['Shady', 'Sayed', 'Samah', 'Ramy', 'Eman', 'Ahmed']\n",
    "\n",
    "friends.sort()\n",
    "print(friends)\n",
    "friends.sort(reverse=True)\n",
    "print(friends)"
   ]
  },
  {
   "cell_type": "code",
   "execution_count": 54,
   "metadata": {},
   "outputs": [
    {
     "name": "stdout",
     "output_type": "stream",
     "text": [
      "6\n"
     ]
    }
   ],
   "source": [
    "# 9\n",
    "\n",
    "friends = [\"Ahmed\", \"Sayed\", \"Samah\", \"Eman\", \"Ramy\", \"Shady\"]\n",
    "\n",
    "# Needed Output\n",
    "# 6\n",
    "print(len(friends))"
   ]
  },
  {
   "cell_type": "code",
   "execution_count": 55,
   "metadata": {},
   "outputs": [
    {
     "name": "stdout",
     "output_type": "stream",
     "text": [
      "Django\n",
      "Web\n"
     ]
    }
   ],
   "source": [
    "# 10\n",
    "\n",
    "technologies = [\"Html\", \"CSS\", \"JS\", \"Python\", [\"Django\", \"Flask\", \"Web\"]]\n",
    "\n",
    "# Needed Output\n",
    "# Django\n",
    "# Web\n",
    "\n",
    "print(technologies[4][0])\n",
    "print(technologies[4][-1])"
   ]
  },
  {
   "cell_type": "code",
   "execution_count": 57,
   "metadata": {},
   "outputs": [
    {
     "name": "stdout",
     "output_type": "stream",
     "text": [
      "('mohamed',)\n",
      "<class 'tuple'>\n"
     ]
    }
   ],
   "source": [
    "# 1\n",
    "# Needed Output\n",
    "\n",
    "# \"Osama\"\n",
    "# <class 'tuple'>\n",
    "\n",
    "tple=\"mohamed\",\n",
    "print(tple)\n",
    "print(type(tple))"
   ]
  },
  {
   "cell_type": "code",
   "execution_count": 69,
   "metadata": {},
   "outputs": [
    {
     "name": "stdout",
     "output_type": "stream",
     "text": [
      "('elzero', 'Ahmed', 'Sayed')\n",
      "<class 'tuple'>\n",
      "3\n"
     ]
    }
   ],
   "source": [
    "# 2\n",
    "friends = (\"Osama\", \"Ahmed\", \"Sayed\")\n",
    "\n",
    "# Needed Output\n",
    "\n",
    "# (\"Elzero\", \"Ahmed\", \"Sayed\")\n",
    "# <class 'tuple'>\n",
    "# 3 Elements\n",
    "\n",
    "x=list(friends)\n",
    "x[0]=\"elzero\"\n",
    "friends=tuple(x)\n",
    "print(friends)\n",
    "print(type(friends))\n",
    "print(len(friends))"
   ]
  },
  {
   "cell_type": "code",
   "execution_count": 70,
   "metadata": {},
   "outputs": [
    {
     "name": "stdout",
     "output_type": "stream",
     "text": [
      "(1, 2, 3, 'A', 'B', 'C')\n",
      "6\n"
     ]
    }
   ],
   "source": [
    "# 3\n",
    "nums = (1, 2, 3)\n",
    "letters = (\"A\", \"B\", \"C\")\n",
    "\n",
    "# Needed Output\n",
    "\n",
    "# nums_and_letters_one = (1, 2, 3, \"A\", \"B\", \"C\")\n",
    "# 6 Elements\n",
    "\n",
    "num_lett=nums+letters\n",
    "\n",
    "print(num_lett)\n",
    "print(len(num_lett))\n",
    "\n",
    "\n"
   ]
  },
  {
   "cell_type": "code",
   "execution_count": 71,
   "metadata": {},
   "outputs": [
    {
     "name": "stdout",
     "output_type": "stream",
     "text": [
      "1\n",
      "2\n",
      "4\n"
     ]
    }
   ],
   "source": [
    "# 4\n",
    "my_tuple = (1, 2, 3, 4)\n",
    "\n",
    "# Needed Output\n",
    "\n",
    "# 1\n",
    "# 2\n",
    "# 4\n",
    "\n",
    "a,b,c=my_tuple[0],my_tuple[1],4\n",
    "\n",
    "print(a)\n",
    "print(b)\n",
    "print(c)"
   ]
  },
  {
   "cell_type": "code",
   "execution_count": null,
   "metadata": {},
   "outputs": [],
   "source": []
  }
 ],
 "metadata": {
  "kernelspec": {
   "display_name": "Python 3",
   "language": "python",
   "name": "python3"
  },
  "language_info": {
   "codemirror_mode": {
    "name": "ipython",
    "version": 3
   },
   "file_extension": ".py",
   "mimetype": "text/x-python",
   "name": "python",
   "nbconvert_exporter": "python",
   "pygments_lexer": "ipython3",
   "version": "3.9.0"
  },
  "orig_nbformat": 4,
  "vscode": {
   "interpreter": {
    "hash": "4a3bafef755923684b33fc831b8d38727961d539766062153e7b72b2aee38574"
   }
  }
 },
 "nbformat": 4,
 "nbformat_minor": 2
}
