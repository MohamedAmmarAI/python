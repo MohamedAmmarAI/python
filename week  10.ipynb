{
 "cells": [
  {
   "cell_type": "code",
   "execution_count": 3,
   "metadata": {},
   "outputs": [
    {
     "name": "stdout",
     "output_type": "stream",
     "text": [
      "all elements is true\n",
      "all elements is false \n"
     ]
    }
   ],
   "source": [
    "# ------------------------\n",
    "# -- Built In Functions --\n",
    "# ------------------------\n",
    "# all()\n",
    "# any()\n",
    "# bin()\n",
    "# id()\n",
    "# ------------------------\n",
    "\n",
    "x=[1,2,3,4,5]\n",
    "\n",
    "if all(x): # all elements is true\n",
    "    print(\"all elements is true\")\n",
    "else:\n",
    "    print(\"there is one element is false \")\n",
    "\n",
    "y=[0,0,0,[]]\n",
    "\n",
    "if any(y): # any element is true\n",
    "    print(\"there is at least one element is true \")\n",
    "else:\n",
    "    print(\"all elements is false \")\n",
    "    \n",
    "\n"
   ]
  },
  {
   "cell_type": "code",
   "execution_count": 4,
   "metadata": {},
   "outputs": [
    {
     "name": "stdout",
     "output_type": "stream",
     "text": [
      "0b1100100\n"
     ]
    }
   ],
   "source": [
    "print(bin(100))\n"
   ]
  },
  {
   "cell_type": "code",
   "execution_count": 5,
   "metadata": {},
   "outputs": [
    {
     "name": "stdout",
     "output_type": "stream",
     "text": [
      "140704472363816\n",
      "140704472363848\n"
     ]
    }
   ],
   "source": [
    "a=1\n",
    "b=2\n",
    "print(id(a))\n",
    "print(id(b))"
   ]
  },
  {
   "cell_type": "code",
   "execution_count": 11,
   "metadata": {},
   "outputs": [
    {
     "name": "stdout",
     "output_type": "stream",
     "text": [
      "100\n",
      "150\n",
      "100\n",
      "150.12\n",
      "[]\n",
      "[0, 1, 2, 3, 4, 5, 6, 7, 8, 9]\n",
      "[0, 2, 4, 6, 8, 10, 12, 14]\n",
      "hello @ mohamed @ how @ are @ you\n",
      "hello | mohamed | how | are | you\n",
      "first line second line\n",
      "third line\n"
     ]
    }
   ],
   "source": [
    "# ------------------------\n",
    "# -- Built In Functions --\n",
    "# ------------------------\n",
    "# sum()\n",
    "# round()\n",
    "# range()\n",
    "# print()\n",
    "# ------------------------\n",
    "\n",
    "# sum(iterable, start)\n",
    "\n",
    "a=[10,20,30,40]\n",
    "print(sum(a))\n",
    "print(sum(a,50))\n",
    "\n",
    "# round(number, numofdigits)\n",
    "print(round(100.150))\n",
    "print(round(150.123,2))\n",
    "\n",
    "# range(start, end, step)\n",
    "print(list(range(0)))\n",
    "print(list(range(10)))\n",
    "print(list(range(0,15,2)))\n",
    "\n",
    "# print()\n",
    "print(\"hello @ mohamed @ how @ are @ you\")\n",
    "print(\"hello\",\"mohamed\",\"how\",\"are\",\"you\",sep=\" | \")\n",
    "\n",
    "print(\"first line\",end=\" \")\n",
    "print(\"second line\")\n",
    "print(\"third line\")\n"
   ]
  },
  {
   "cell_type": "code",
   "execution_count": 19,
   "metadata": {},
   "outputs": [
    {
     "name": "stdout",
     "output_type": "stream",
     "text": [
      "100\n",
      "19\n",
      "10.18\n",
      "10.19\n",
      "**************************************************\n",
      "2\n",
      "32\n",
      "**************************************************\n",
      "1\n",
      "1\n",
      "ali\n",
      "**************************************************\n",
      "100\n",
      "56\n",
      "y\n",
      "**************************************************\n"
     ]
    }
   ],
   "source": [
    "# ------------------------\n",
    "# -- Built In Functions --\n",
    "# ------------------------\n",
    "# abs()\n",
    "# pow()\n",
    "# min()\n",
    "# max()\n",
    "# slice()\n",
    "# ------------------------\n",
    "\n",
    "# abs()\n",
    "print(abs(100))\n",
    "print(abs(-19))\n",
    "print(abs(10.18))\n",
    "print(abs(-10.19))\n",
    "\n",
    "print(\"*\" * 50)\n",
    "\n",
    "# pow(base, exp, mod) => Power\n",
    "print(pow(2,5,10))\n",
    "print(pow(2,5))\n",
    "\n",
    "print(\"*\" * 50)\n",
    "\n",
    "# min(item, item , item, or iterator)\n",
    "my_numbers=[1,2,3,4,5,6]\n",
    "print(min(1,2,3,4,5,6,7,8,9))\n",
    "print(min(my_numbers))\n",
    "print(min(\"x\",\"y\",\"ali\"))\n",
    "\n",
    "print(\"*\" * 50)\n",
    "\n",
    "# max(item, item , item, or iterator)\n",
    "myNumbers = (1, 20, -50, -100, 100)\n",
    "print(max(myNumbers))\n",
    "print(max(1,2,3,4,56))\n",
    "print(max(\"x\",\"y\",\"ali\"))\n",
    "\n",
    "print(\"*\" * 50)\n"
   ]
  },
  {
   "cell_type": "code",
   "execution_count": 20,
   "metadata": {},
   "outputs": [
    {
     "name": "stdout",
     "output_type": "stream",
     "text": [
      "['A', 'B', 'C', 'D', 'E']\n",
      "['A', 'B', 'C', 'D', 'E']\n",
      "['C', 'D', 'E']\n"
     ]
    }
   ],
   "source": [
    "# slice(start, end, step)\n",
    "a = [\"A\", \"B\", \"C\", \"D\", \"E\", \"F\"]\n",
    "\n",
    "print(a[:5])\n",
    "print(a[slice(5)])\n",
    "print(a[slice(2,5)])\n",
    "\n",
    "\n"
   ]
  },
  {
   "cell_type": "code",
   "execution_count": 24,
   "metadata": {},
   "outputs": [
    {
     "name": "stdout",
     "output_type": "stream",
     "text": [
      "-Mohamed-\n",
      "-Ali-\n",
      "-Ahmed-\n",
      "**************************************************\n"
     ]
    }
   ],
   "source": [
    "# -------------------------------\n",
    "# -- Built In Functions => Map --\n",
    "# -------------------------------\n",
    "# [1] Map Take A Function + Iterator\n",
    "# [2] Map Called Map Because It Map The Function On Every Element\n",
    "# [3] The Function Can Be Pre-Defined Function or Lambda Function\n",
    "# ---------------------------------------------------------------\n",
    "\n",
    "# Use Map With Predefined Function\n",
    "\n",
    "def format_text(text):\n",
    "    return f\"-{text.strip().capitalize()}-\"\n",
    "\n",
    "my_text=[\"mohamed\",\"ali\",\"AhmeD\"]\n",
    "\n",
    "#my_format=map(format_text,my_text)\n",
    "\n",
    "#print(my_format)\n",
    "for name in list(map(format_text,my_text)):\n",
    "    print(name)\n",
    "\n",
    "print(\"*\" * 50)"
   ]
  },
  {
   "cell_type": "code",
   "execution_count": 25,
   "metadata": {},
   "outputs": [
    {
     "name": "stdout",
     "output_type": "stream",
     "text": [
      "Mohamed\n",
      "Ali\n",
      "Ahmed\n"
     ]
    }
   ],
   "source": [
    "my_text=[\"mohamed\",\"ali\",\"AhmeD\"]\n",
    "for name in list(map(lambda text: f\"{text.strip().capitalize()}\" , my_text)):\n",
    "    print(name)"
   ]
  },
  {
   "cell_type": "code",
   "execution_count": 31,
   "metadata": {},
   "outputs": [
    {
     "name": "stdout",
     "output_type": "stream",
     "text": [
      "67\n",
      "23\n",
      "**************************************************\n",
      "omar\n",
      "osama\n",
      "**************************************************\n",
      "Osama\n",
      "Omer\n",
      "Omar\n",
      "Othman\n"
     ]
    }
   ],
   "source": [
    "# ----------------------------------\n",
    "# -- Built In Functions => Filter --\n",
    "# ----------------------------------\n",
    "# [1] Filter Take A Function + Iterator\n",
    "# [2] Filter Run A Function On Every Element\n",
    "# [3] The Function Can Be Pre-Defined Function or Lambda Function\n",
    "# [4] Filter Out All Elements For Which The Function Return True\n",
    "# [5] The Function Need To Return Boolean Value\n",
    "# ---------------------------------------------------------------\n",
    "\n",
    "# Example 1\n",
    "\n",
    "def check_number(num):\n",
    "    return num>10\n",
    "\n",
    "my_numbers=[1,2,3,4,5,67,23]\n",
    "my_result=filter(check_number,my_numbers)\n",
    "\n",
    "for num in my_result:\n",
    "    print(num)\n",
    "\n",
    "print(\"*\" * 50)\n",
    "\n",
    "# Example 2\n",
    "\n",
    "def check_name(name):\n",
    "    return name.startswith(\"o\")\n",
    "\n",
    "my_names=[\"mohamed\",\"ahmed\",\"omar\",\"osama\"]\n",
    "my_result=filter(check_name,my_names)\n",
    "\n",
    "for person in my_result:\n",
    "    print(person)\n",
    "\n",
    "print(\"*\" * 50)\n",
    "\n",
    "# Example 3\n",
    "\n",
    "myNames = [\"Osama\", \"Omer\", \"Omar\", \"Ahmed\", \"Sayed\", \"Othman\", \"Ameer\"]\n",
    "\n",
    "for name in filter(lambda name:name.startswith(\"O\"),myNames):\n",
    "    print(name)"
   ]
  },
  {
   "cell_type": "code",
   "execution_count": 34,
   "metadata": {},
   "outputs": [
    {
     "name": "stdout",
     "output_type": "stream",
     "text": [
      "21\n"
     ]
    }
   ],
   "source": [
    "# ----------------------------------\n",
    "# -- Built In Functions => Reduce --\n",
    "# ----------------------------------\n",
    "# [1] Reduce Take A Function + Iterator\n",
    "# [2] Reduce Run A Function On FIrst and Second Element And Give Result\n",
    "# [3] Then Run Function On Result And Third Element\n",
    "# [4] Then Run Function On Rsult And Fourth Element And So On\n",
    "# [5] Till One ELement is Left And This is The Result of The Reduce\n",
    "# [6] The Function Can Be Pre-Defined Function or Lambda Function\n",
    "# ---------------------------------------------------------------\n",
    "\n",
    "from functools import reduce\n",
    "def sumall(num1,num2):\n",
    "    return num1+num2\n",
    "\n",
    "my_numbers=[1,2,3,4,5,6]\n",
    "\n",
    "#result=reduce(sumall,my_numbers)\n",
    "result=reduce(lambda num1,num2:num1+num2,my_numbers)\n",
    "print(result)\n",
    "\n"
   ]
  },
  {
   "cell_type": "code",
   "execution_count": 1,
   "metadata": {},
   "outputs": [
    {
     "name": "stdout",
     "output_type": "stream",
     "text": [
      "<enumerate object at 0x000001366F5B29D0>\n",
      "20 html\n",
      "21 css\n",
      "22 java\n",
      "************************************************************\n"
     ]
    }
   ],
   "source": [
    "# ------------------------\n",
    "# -- Built In Functions --\n",
    "# ------------------------\n",
    "# enumerate()\n",
    "# help()\n",
    "# reversed()\n",
    "# ------------------------\n",
    "\n",
    "# enumerate(iterable, start=0)\n",
    "my_skills=[\"html\",\"css\",\"java\"]\n",
    "\n",
    "my_favorite=enumerate(my_skills,20)\n",
    "print(my_favorite)\n",
    "for count,skill in my_favorite:\n",
    "    print(f\"{count} {skill}\")\n",
    "print(\"*\" * 60)"
   ]
  },
  {
   "cell_type": "code",
   "execution_count": 2,
   "metadata": {},
   "outputs": [
    {
     "name": "stdout",
     "output_type": "stream",
     "text": [
      "Help on built-in function print in module builtins:\n",
      "\n",
      "print(*args, sep=' ', end='\\n', file=None, flush=False)\n",
      "    Prints the values to a stream, or to sys.stdout by default.\n",
      "    \n",
      "    sep\n",
      "      string inserted between values, default a space.\n",
      "    end\n",
      "      string appended after the last value, default a newline.\n",
      "    file\n",
      "      a file-like object (stream); defaults to the current sys.stdout.\n",
      "    flush\n",
      "      whether to forcibly flush the stream.\n",
      "\n",
      "None\n",
      "**************************************************\n",
      "<reversed object at 0x000001366F599E40>\n",
      "d\n",
      "e\n",
      "m\n",
      "a\n",
      "h\n",
      "o\n",
      "m\n",
      "java\n",
      "css\n",
      "html\n"
     ]
    }
   ],
   "source": [
    "# help()\n",
    "print(help(print))\n",
    "print(\"*\" * 50)\n",
    "\n",
    "# reversed(iterable)\n",
    "mystring=\"mohamed\"\n",
    "print(reversed(mystring))\n",
    "\n",
    "for letter in reversed(mystring):\n",
    "    print(letter)\n",
    "for s in reversed(my_skills):\n",
    "    print(s)"
   ]
  },
  {
   "attachments": {},
   "cell_type": "markdown",
   "metadata": {},
   "source": [
    "# assignments"
   ]
  },
  {
   "cell_type": "code",
   "execution_count": 1,
   "metadata": {},
   "outputs": [
    {
     "name": "stdout",
     "output_type": "stream",
     "text": [
      "Good\n"
     ]
    }
   ],
   "source": [
    "# 1\n",
    "\n",
    "values = (0, 1, 2)\n",
    "\n",
    "if any(values): # if any one true  my_var=0\n",
    "\n",
    "  my_var = 0\n",
    "\n",
    "my_list = [True, 1,  1, [\"A\", \"B\"], 10.5, my_var]\n",
    "\n",
    "if all(my_list[:4]) or all(my_list[:6]) or all(my_list[:]):  # print(\"good\") because 0:4 true \n",
    "\n",
    "  print(\"Good\")\n",
    "\n",
    "else:\n",
    "\n",
    "  print(\"Bad\")"
   ]
  },
  {
   "cell_type": "code",
   "execution_count": 14,
   "metadata": {},
   "outputs": [
    {
     "name": "stdout",
     "output_type": "stream",
     "text": [
      "780\n",
      "820\n"
     ]
    }
   ],
   "source": [
    "# 2\n",
    "\n",
    "v = 40\n",
    "\n",
    "my_range = list(range(v))\n",
    "\n",
    "print(sum(my_range))\n",
    "\n",
    "print(sum(my_range, v) + pow(v, v, v))  # 820"
   ]
  },
  {
   "cell_type": "code",
   "execution_count": 15,
   "metadata": {},
   "outputs": [
    {
     "name": "stdout",
     "output_type": "stream",
     "text": [
      "Good\n"
     ]
    }
   ],
   "source": [
    "# 3\n",
    "\n",
    "n = 21\n",
    "\n",
    "l = list(range(n))\n",
    "\n",
    "if round(sum(l) / n) == max(0, 3, 10, 2, -100, -23, 9):\n",
    "\n",
    "  print(\"Good\")\n",
    "\n",
    "# Output => Good"
   ]
  },
  {
   "cell_type": "code",
   "execution_count": 16,
   "metadata": {},
   "outputs": [
    {
     "name": "stdout",
     "output_type": "stream",
     "text": [
      "210\n"
     ]
    }
   ],
   "source": [
    "print(sum(range(21)))"
   ]
  },
  {
   "cell_type": "code",
   "execution_count": 17,
   "metadata": {},
   "outputs": [
    {
     "name": "stdout",
     "output_type": "stream",
     "text": [
      "210\n"
     ]
    }
   ],
   "source": [
    "print(round(210))"
   ]
  },
  {
   "cell_type": "code",
   "execution_count": 20,
   "metadata": {},
   "outputs": [
    {
     "name": "stdout",
     "output_type": "stream",
     "text": [
      "false\n"
     ]
    }
   ],
   "source": [
    "# 3\n",
    "\n",
    "# my_all\n",
    "def my_all(list):\n",
    "    if all(list):\n",
    "        print(\"true\")\n",
    "    else:\n",
    "        print(\"false\")\n",
    "my_all([1,2,3,4,[]])\n"
   ]
  },
  {
   "cell_type": "code",
   "execution_count": 24,
   "metadata": {},
   "outputs": [
    {
     "name": "stdout",
     "output_type": "stream",
     "text": [
      "true\n"
     ]
    }
   ],
   "source": [
    "# my_any\n",
    "def my_all(list):\n",
    "    if any(list):\n",
    "        print(\"true\")\n",
    "    else:\n",
    "        print(\"false\")\n",
    "my_all([2,0,0,[]])"
   ]
  },
  {
   "cell_type": "code",
   "execution_count": 28,
   "metadata": {},
   "outputs": [
    {
     "name": "stdout",
     "output_type": "stream",
     "text": [
      "2\n"
     ]
    }
   ],
   "source": [
    "# my_min\n",
    "\n",
    "def my_min(list):\n",
    "    print(min(list))\n",
    "my_min([2,543,87])\n"
   ]
  },
  {
   "cell_type": "code",
   "execution_count": 29,
   "metadata": {},
   "outputs": [
    {
     "name": "stdout",
     "output_type": "stream",
     "text": [
      "543\n"
     ]
    }
   ],
   "source": [
    "# my_max\n",
    "\n",
    "def my_max(list):\n",
    "    print(max(list))\n",
    "my_max([2,543,87])\n"
   ]
  },
  {
   "cell_type": "code",
   "execution_count": 34,
   "metadata": {},
   "outputs": [
    {
     "name": "stdout",
     "output_type": "stream",
     "text": [
      "Eman\n",
      "Ahmed\n",
      "Sameh\n",
      "Osama\n"
     ]
    }
   ],
   "source": [
    "# 1\n",
    "\n",
    "def remove_chars(string):\n",
    "    clean_string=string[1:-1]\n",
    "    return clean_string\n",
    "\n",
    "friends_map = [\"AEmanS\", \"AAhmedS\", \"DSamehF\", \"LOsamaL\"]\n",
    "\n",
    "cleaned_list=map(remove_chars,friends_map)\n",
    "for name in cleaned_list:\n",
    "    print(name)\n"
   ]
  },
  {
   "cell_type": "code",
   "execution_count": 35,
   "metadata": {},
   "outputs": [
    {
     "name": "stdout",
     "output_type": "stream",
     "text": [
      "Eman\n",
      "Ahmed\n",
      "Sameh\n",
      "Osama\n"
     ]
    }
   ],
   "source": [
    "# using lambda function \n",
    "\n",
    "friends_map = [\"AEmanS\", \"AAhmedS\", \"DSamehF\", \"LOsamaL\"]\n",
    "\n",
    "cleaned_list=map(lambda string : string[1:-1],friends_map)\n",
    "for name in cleaned_list:\n",
    "    print(name)\n"
   ]
  },
  {
   "cell_type": "code",
   "execution_count": 39,
   "metadata": {},
   "outputs": [
    {
     "name": "stdout",
     "output_type": "stream",
     "text": [
      "Wessam\n",
      "Essam\n"
     ]
    }
   ],
   "source": [
    "# 2\n",
    "\n",
    "def get_names(name):\n",
    "    if name[-1]==\"m\":\n",
    "        return name\n",
    "\n",
    "friends_filter = [\"Osama\", \"Wessam\", \"Amal\", \"Essam\", \"Gamal\", \"Othman\"]\n",
    "names=filter(get_names,friends_filter)\n",
    "for name in names:\n",
    "    print(name)"
   ]
  },
  {
   "cell_type": "code",
   "execution_count": 42,
   "metadata": {},
   "outputs": [
    {
     "name": "stdout",
     "output_type": "stream",
     "text": [
      "Wessam\n",
      "Essam\n"
     ]
    }
   ],
   "source": [
    "# using lambda\n",
    "\n",
    "friends_filter = [\"Osama\", \"Wessam\", \"Amal\", \"Essam\", \"Gamal\", \"Othman\"]\n",
    "names=filter(lambda name: name.endswith(\"m\"),friends_filter)\n",
    "for name in names:\n",
    "    print(name)"
   ]
  },
  {
   "cell_type": "code",
   "execution_count": 45,
   "metadata": {},
   "outputs": [
    {
     "name": "stdout",
     "output_type": "stream",
     "text": [
      "96\n"
     ]
    }
   ],
   "source": [
    "# 3\n",
    "\n",
    "from functools import reduce\n",
    "def multi_all(num1,num2):\n",
    "    return num1*num2\n",
    "nums = [2, 4, 6, 2]\n",
    "result=reduce(multi_all,nums)\n",
    "print(result)"
   ]
  },
  {
   "cell_type": "code",
   "execution_count": 46,
   "metadata": {},
   "outputs": [
    {
     "name": "stdout",
     "output_type": "stream",
     "text": [
      "96\n"
     ]
    }
   ],
   "source": [
    "# using lambda \n",
    "\n",
    "nums = [2, 4, 6, 2]\n",
    "result=reduce(lambda num1,num2: num1*num2,nums)\n",
    "print(result)"
   ]
  },
  {
   "cell_type": "code",
   "execution_count": 4,
   "metadata": {},
   "outputs": [
    {
     "name": "stdout",
     "output_type": "stream",
     "text": [
      "50  -JavaScript\n",
      "52  -Python\n",
      "53  -PHP\n",
      "55  -CSS\n",
      "56  -HTML\n"
     ]
    }
   ],
   "source": [
    "# 4\n",
    "\n",
    "skills = (\"HTML\", \"CSS\", 10, \"PHP\", \"Python\", 20, \"JavaScript\")\n",
    "inverse_skills=reversed(skills)\n",
    "favorite=enumerate(inverse_skills,50)\n",
    "for count,skill in favorite:\n",
    "        if type(count)!=type(skill):        \n",
    "            print(f\"{count}  -{skill}\")\n"
   ]
  },
  {
   "cell_type": "code",
   "execution_count": null,
   "metadata": {},
   "outputs": [],
   "source": []
  }
 ],
 "metadata": {
  "kernelspec": {
   "display_name": "Python 3",
   "language": "python",
   "name": "python3"
  },
  "language_info": {
   "codemirror_mode": {
    "name": "ipython",
    "version": 3
   },
   "file_extension": ".py",
   "mimetype": "text/x-python",
   "name": "python",
   "nbconvert_exporter": "python",
   "pygments_lexer": "ipython3",
   "version": "3.11.2"
  },
  "orig_nbformat": 4,
  "vscode": {
   "interpreter": {
    "hash": "574f236ff712d46a1c404309e8561dfd7fcdc74a35147926bb5932d8d5722228"
   }
  }
 },
 "nbformat": 4,
 "nbformat_minor": 2
}
