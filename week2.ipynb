{
 "cells": [
  {
   "cell_type": "markdown",
   "metadata": {},
   "source": [
    "# Week 2"
   ]
  },
  {
   "cell_type": "markdown",
   "metadata": {},
   "source": [
    "#011 – Strings\n",
    "#012 – Strings – Indexing and Slicing\n",
    "#013 – Strings Methods Part 1\n",
    "#014 – Strings Methods Part 2\n",
    "#015 – Strings Methods Part 3\n",
    "#016 – Strings Methods Part 4\n",
    "#017 – Strings Formatting Old Way\n",
    "#018 – Strings Formatting New Way"
   ]
  },
  {
   "cell_type": "code",
   "execution_count": 1,
   "metadata": {},
   "outputs": [
    {
     "name": "stdout",
     "output_type": "stream",
     "text": [
      "This is Single Quote\n",
      "This is Double Quotes\n",
      "this is single quote'test'\n",
      "this is double quote \"test\"\n",
      " first\n",
      "second 'test' \\\\ \"test\"\n",
      "third\n"
     ]
    }
   ],
   "source": [
    "# strings\n",
    "myStringOne = 'This is Single Quote'\n",
    "myStringTwo = \"This is Double Quotes\"\n",
    "\n",
    "print(myStringOne)\n",
    "print(myStringTwo)\n",
    "\n",
    "mystringthree=\"this is single quote'test'\"\n",
    "mystringfour='this is double quote \"test\"'\n",
    "\n",
    "print(mystringthree)\n",
    "print(mystringfour)\n",
    "\n",
    "mystringfive=\"\"\" first\n",
    "second 'test' \"test\"\n",
    "third\"\"\"\n",
    "\n",
    "mystringfive=\"\"\" first\n",
    "second 'test' \\\\\\ \"test\"\n",
    "third\"\"\"\n",
    "\n",
    "print(mystringfive)"
   ]
  },
  {
   "cell_type": "code",
   "execution_count": 2,
   "metadata": {},
   "outputs": [
    {
     "name": "stdout",
     "output_type": "stream",
     "text": [
      "I\n",
      "t\n",
      "n\n",
      "P\n",
      "yth\n",
      "ov\n",
      "I Love Pyt\n",
      "e Python\n",
      "I Love Python\n",
      "I Love Python\n",
      "I Love Python\n",
      "ILv yhn\n",
      "Io tn\n"
     ]
    }
   ],
   "source": [
    "# ---------------------------------\n",
    "# Strings Indexing & Slicing\n",
    "# [1] All Data in Python is Object\n",
    "# [2] Object Contain Elements\n",
    "# [3] Every Element Has Its Own Index\n",
    "# [4] Python Use Zero Based Indexing ( Index Start From Zero )\n",
    "# [5] Use Square Brackets To Access Element\n",
    "# [6] Enable Accessing Parts Of Strings, Tuples or Lists\n",
    "# ---------------------------------\n",
    "\n",
    "# Indexing ( Access Single Item )\n",
    "\n",
    "myString = \"I Love Python\"\n",
    "\n",
    "print(myString[0])  #==> I\n",
    "print(myString[9])  #==> t\n",
    "\n",
    "print(myString[-1])  #==> n\n",
    "print(myString[-6])  #==> p\n",
    "\n",
    "# Slicing ( Access Multiple Sequence Items )\n",
    "# [Start:End] End Not Included\n",
    "# [Start:End:Steps]\n",
    "\n",
    "print(myString[8:11])  #==> yth\n",
    "print(myString[3:5])   #==> ov\n",
    "\n",
    "print(myString[:10])  # If Start Is Not Here Will Start From 0 (I Love Pyt)\n",
    "print(myString[5:])  # If End Is Not Here Will Go To The End (e Python)\n",
    "print(myString[:])  # Full Data\n",
    "\n",
    "print(myString[0::1]) #full data\n",
    "print(myString[::1]) #full data\n",
    "\n",
    "print(myString[::2])\n",
    "print(myString[::3])\n"
   ]
  },
  {
   "cell_type": "code",
   "execution_count": 3,
   "metadata": {},
   "outputs": [
    {
     "name": "stdout",
     "output_type": "stream",
     "text": [
      "i love python\n",
      "    i love python\n",
      "i love python    \n",
      "I Love Python\n",
      "#####I Love Python\n",
      "I Love Python####\n",
      "I Love Python\n",
      "@#@#@#I Love Python\n",
      "I Love Python@#@#@#\n"
     ]
    }
   ],
   "source": [
    "# ---------------------\n",
    "# -- Strings Methods --\n",
    "# ---------------------\n",
    "\n",
    "# strip() rstrip() lstrip()\n",
    "\n",
    "a=\"    i love python    \"\n",
    "print(a.strip())\n",
    "print(a.rstrip())\n",
    "print(a.lstrip())\n",
    "\n",
    "a = \"#####I Love Python####\"\n",
    "print(a.strip(\"#\"))\n",
    "print(a.rstrip(\"#\"))\n",
    "print(a.lstrip(\"#\"))\n",
    "\n",
    "a = \"@#@#@#I Love Python@#@#@#\"\n",
    "print(a.strip(\"@#\"))\n",
    "print(a.rstrip(\"@#\"))\n",
    "print(a.lstrip(\"@#\"))\n"
   ]
  },
  {
   "cell_type": "code",
   "execution_count": 4,
   "metadata": {},
   "outputs": [
    {
     "name": "stdout",
     "output_type": "stream",
     "text": [
      "I Love 2D Graphics And 3G Technology And Python\n"
     ]
    }
   ],
   "source": [
    "# title() # هيخلي اول حرف من كل كلمه كابتل  \n",
    "\n",
    "b = \"I Love 2d Graphics and 3g Technology and python\"\n",
    "print(b.title())"
   ]
  },
  {
   "cell_type": "code",
   "execution_count": 5,
   "metadata": {},
   "outputs": [
    {
     "name": "stdout",
     "output_type": "stream",
     "text": [
      "I love 2d graphics and 3g technology and python\n"
     ]
    }
   ],
   "source": [
    "# capitalize()\n",
    "\n",
    "b = \"I Love 2d Graphics and 3g Technology and python\"\n",
    "print(b.capitalize())"
   ]
  },
  {
   "cell_type": "code",
   "execution_count": 6,
   "metadata": {},
   "outputs": [
    {
     "name": "stdout",
     "output_type": "stream",
     "text": [
      "1\n",
      "11\n",
      "111\n",
      "1111\n",
      "0001\n",
      "0011\n",
      "0111\n",
      "1111\n",
      "MOHAMED\n",
      "mohamed\n"
     ]
    }
   ],
   "source": [
    "# zfill\n",
    "c, d, e, f = \"1\", \"11\", \"111\", \"1111\"\n",
    "\n",
    "print(c)\n",
    "print(d)\n",
    "print(e)\n",
    "print(f)\n",
    "\n",
    "print(c.zfill(4))\n",
    "print(d.zfill(4))\n",
    "print(e.zfill(4))\n",
    "print(f.zfill(4))\n",
    "\n",
    "# upper()\n",
    "\n",
    "g = \"mohamed\"\n",
    "print(g.upper())\n",
    "\n",
    "# lower()\n",
    "\n",
    "h = \"mohamed\"\n",
    "print(h.lower())\n",
    "\n"
   ]
  },
  {
   "cell_type": "code",
   "execution_count": 7,
   "metadata": {},
   "outputs": [
    {
     "name": "stdout",
     "output_type": "stream",
     "text": [
      "['I', 'Love', 'Python', 'and', 'PHP', 'and', 'MySQL']\n"
     ]
    }
   ],
   "source": [
    "# ---------------------\n",
    "# -- Strings Methods --\n",
    "# ---------------------\n",
    "\n",
    "# split() rsplit()\n",
    "a = \"I Love Python and PHP and MySQL\"\n",
    "print(a.split())"
   ]
  },
  {
   "cell_type": "code",
   "execution_count": 8,
   "metadata": {},
   "outputs": [
    {
     "name": "stdout",
     "output_type": "stream",
     "text": [
      "['I', 'Love', 'Python', 'and', 'PHP', 'and', 'MySQL']\n"
     ]
    }
   ],
   "source": [
    "b = \"I-Love-Python-and-PHP-and-MySQL\"\n",
    "print(b.split(\"-\"))"
   ]
  },
  {
   "cell_type": "code",
   "execution_count": 9,
   "metadata": {},
   "outputs": [
    {
     "name": "stdout",
     "output_type": "stream",
     "text": [
      "['I', 'Love', 'Python', 'and-PHP-and-MySQL']\n"
     ]
    }
   ],
   "source": [
    "c = \"I-Love-Python-and-PHP-and-MySQL\"\n",
    "print(c.split(\"-\",3))"
   ]
  },
  {
   "cell_type": "code",
   "execution_count": 10,
   "metadata": {},
   "outputs": [
    {
     "name": "stdout",
     "output_type": "stream",
     "text": [
      "['I-Love-Python-and', 'PHP', 'and', 'MySQL']\n"
     ]
    }
   ],
   "source": [
    "d = \"I-Love-Python-and-PHP-and-MySQL\"\n",
    "print(d.rsplit(\"-\",3))"
   ]
  },
  {
   "cell_type": "code",
   "execution_count": 11,
   "metadata": {},
   "outputs": [
    {
     "name": "stdout",
     "output_type": "stream",
     "text": [
      " mohamed \n",
      "####mohamed####\n",
      "2\n",
      "1\n"
     ]
    }
   ],
   "source": [
    "# center()\n",
    "\n",
    "e = \"mohamed\"\n",
    "print(e.center(9))\n",
    "print(e.center(15,\"#\"))\n",
    "\n",
    "# count()\n",
    "\n",
    "f = \"I Love Python and PHP Because PHP is Easy\"\n",
    "print(f.count(\"PHP\"))\n",
    "print(f.count(\"PHP\",0,25))\n",
    "\n",
    "\n"
   ]
  },
  {
   "cell_type": "code",
   "execution_count": 12,
   "metadata": {},
   "outputs": [
    {
     "name": "stdout",
     "output_type": "stream",
     "text": [
      "i lOVE pYTHON\n",
      "I Love Python\n"
     ]
    }
   ],
   "source": [
    "# swapcase()\n",
    "\n",
    "g = \"I Love Python\"\n",
    "h = \"i lOVE pYTHON\"\n",
    "\n",
    "print(g.swapcase())\n",
    "print(h.swapcase())\n"
   ]
  },
  {
   "cell_type": "code",
   "execution_count": 13,
   "metadata": {},
   "outputs": [
    {
     "name": "stdout",
     "output_type": "stream",
     "text": [
      "True\n",
      "False\n",
      "True\n"
     ]
    }
   ],
   "source": [
    "# startswith()\n",
    "i = \"I Love Python\"\n",
    "print(i.startswith(\"I\"))\n",
    "print(i.startswith(\"s\"))\n",
    "print(i.startswith(\"P\",7,13))\n",
    "\n"
   ]
  },
  {
   "cell_type": "code",
   "execution_count": 14,
   "metadata": {},
   "outputs": [
    {
     "name": "stdout",
     "output_type": "stream",
     "text": [
      "True\n",
      "False\n",
      "True\n"
     ]
    }
   ],
   "source": [
    "# endswith()\n",
    "\n",
    "j = \"I Love Python\"\n",
    "print(j.endswith(\"n\"))\n",
    "print(j.endswith(\"S\"))\n",
    "print(j.endswith(\"e\", 2, 6))"
   ]
  },
  {
   "cell_type": "code",
   "execution_count": 15,
   "metadata": {},
   "outputs": [
    {
     "name": "stdout",
     "output_type": "stream",
     "text": [
      "7\n",
      "7\n"
     ]
    }
   ],
   "source": [
    "# ---------------------\n",
    "# -- Strings Methods --\n",
    "# ---------------------\n",
    "\n",
    "a = \"I Love Python\"\n",
    "print(a.index(\"P\"))       # 7\n",
    "print(a.index(\"P\",0,10))  # 7\n",
    "#print(a.index(\"P\",0,5))"
   ]
  },
  {
   "cell_type": "code",
   "execution_count": 16,
   "metadata": {},
   "outputs": [
    {
     "name": "stdout",
     "output_type": "stream",
     "text": [
      "7\n",
      "7\n",
      "-1\n"
     ]
    }
   ],
   "source": [
    "b = \"I Love python\"\n",
    "print(b.find(\"p\"))\n",
    "print(b.find(\"p\",0,10))\n",
    "print(b.find(\"p\",0,5))"
   ]
  },
  {
   "cell_type": "code",
   "execution_count": 17,
   "metadata": {},
   "outputs": [
    {
     "name": "stdout",
     "output_type": "stream",
     "text": [
      "   mohamed\n",
      "###mohamed\n",
      "mohamed   \n",
      "mohamed###\n"
     ]
    }
   ],
   "source": [
    "name=\"mohamed\"\n",
    "print(name.rjust(10))\n",
    "print(name.rjust(10,\"#\"))\n",
    "\n",
    "name=\"mohamed\"\n",
    "print(name.ljust(10))\n",
    "print(name.ljust(10,\"#\"))"
   ]
  },
  {
   "cell_type": "code",
   "execution_count": 18,
   "metadata": {},
   "outputs": [
    {
     "name": "stdout",
     "output_type": "stream",
     "text": [
      "['First Line', 'Second Line', 'Third Line']\n",
      "['First Line', 'Second Line', 'Third Line']\n"
     ]
    }
   ],
   "source": [
    "e = \"\"\"First Line\n",
    "Second Line\n",
    "Third Line\"\"\"\n",
    "\n",
    "print(e.splitlines())\n",
    "\n",
    "f = \"First Line\\nSecond Line\\nThird Line\"\n",
    "print(f.splitlines())"
   ]
  },
  {
   "cell_type": "code",
   "execution_count": 19,
   "metadata": {},
   "outputs": [
    {
     "name": "stdout",
     "output_type": "stream",
     "text": [
      "Hello     World     I    Love Python\n"
     ]
    }
   ],
   "source": [
    "g = \"Hello\\tWorld\\tI\\tLove\\tPython\"\n",
    "print(g.expandtabs(5))"
   ]
  },
  {
   "cell_type": "code",
   "execution_count": 20,
   "metadata": {},
   "outputs": [
    {
     "name": "stdout",
     "output_type": "stream",
     "text": [
      "True\n",
      "False\n"
     ]
    }
   ],
   "source": [
    "one = \"I Love Python And 3G\"\n",
    "two = \"I Love Python And 3g\"\n",
    "print(one.istitle())\n",
    "print(two.istitle())"
   ]
  },
  {
   "cell_type": "code",
   "execution_count": 21,
   "metadata": {},
   "outputs": [
    {
     "name": "stdout",
     "output_type": "stream",
     "text": [
      "True\n",
      "False\n"
     ]
    }
   ],
   "source": [
    "three = \" \"\n",
    "four = \"\"\n",
    "print(three.isspace())\n",
    "print(four.isspace())"
   ]
  },
  {
   "cell_type": "code",
   "execution_count": 22,
   "metadata": {},
   "outputs": [
    {
     "name": "stdout",
     "output_type": "stream",
     "text": [
      "True\n",
      "False\n"
     ]
    }
   ],
   "source": [
    "five = 'i love python'\n",
    "six = 'I Love Python'\n",
    "print(five.islower())\n",
    "print(six.islower())"
   ]
  },
  {
   "cell_type": "code",
   "execution_count": 23,
   "metadata": {},
   "outputs": [
    {
     "name": "stdout",
     "output_type": "stream",
     "text": [
      "True\n",
      "True\n",
      "False\n"
     ]
    }
   ],
   "source": [
    "seven = \"osama_elzero\"\n",
    "eight = \"OsamaElzero100\"\n",
    "nine = \"Osama--Elzero100\"\n",
    "print(seven.isidentifier())\n",
    "print(eight.isidentifier())\n",
    "print(nine.isidentifier())\n",
    "\n"
   ]
  },
  {
   "cell_type": "code",
   "execution_count": 24,
   "metadata": {},
   "outputs": [
    {
     "name": "stdout",
     "output_type": "stream",
     "text": [
      "True\n",
      "False\n"
     ]
    }
   ],
   "source": [
    "x = \"AaaaaBbbbbb\"\n",
    "y = \"AaaaaBbbbbb111\"\n",
    "print(x.isalpha())\n",
    "print(y.isalpha())"
   ]
  },
  {
   "cell_type": "code",
   "execution_count": 25,
   "metadata": {},
   "outputs": [
    {
     "name": "stdout",
     "output_type": "stream",
     "text": [
      "True\n",
      "True\n"
     ]
    }
   ],
   "source": [
    "x = \"AaaaaBbbbbb\"\n",
    "y = \"AaaaaBbbbbb111\"\n",
    "print(x.isalnum())\n",
    "print(y.isalnum())"
   ]
  },
  {
   "cell_type": "code",
   "execution_count": 26,
   "metadata": {},
   "outputs": [
    {
     "name": "stdout",
     "output_type": "stream",
     "text": [
      "Hello 1 Two Three 1 1\n",
      "Hello 1 Two Three 1 One\n"
     ]
    }
   ],
   "source": [
    "# ---------------------\n",
    "# -- Strings Methods --\n",
    "# ---------------------\n",
    "\n",
    "# replace(Old Value, New Value, Count)\n",
    "\n",
    "a = \"Hello One Two Three One One\"\n",
    "\n",
    "print(a.replace(\"One\",\"1\"))\n",
    "print(a.replace(\"One\",\"1\",2))"
   ]
  },
  {
   "cell_type": "code",
   "execution_count": 27,
   "metadata": {},
   "outputs": [
    {
     "name": "stdout",
     "output_type": "stream",
     "text": [
      "Osama-Mohamed-Elsayed\n",
      "Osama Mohamed Elsayed\n",
      "Osama , Mohamed , Elsayed\n",
      "<class 'str'>\n"
     ]
    }
   ],
   "source": [
    "# join(Iterable)\n",
    "\n",
    "myList = [\"Osama\", \"Mohamed\", \"Elsayed\"]\n",
    "\n",
    "print(\"-\".join(myList))\n",
    "print(\" \".join(myList))\n",
    "print(\" , \".join(myList))\n",
    "print(type(\"-\".join(myList)))"
   ]
  },
  {
   "cell_type": "code",
   "execution_count": 28,
   "metadata": {},
   "outputs": [
    {
     "name": "stdout",
     "output_type": "stream",
     "text": [
      "my name is : Osama\n",
      "my name is: Osama and age is: 36 and rank is: 10\n",
      "my name is osama\n",
      "my name is Osama\n",
      "my name is Osama and my age is 36\n",
      "my name is Osama and my age is 36 and my rank is 10\n"
     ]
    }
   ],
   "source": [
    "# ------------------------\n",
    "# -- Strings Formatting --\n",
    "# ------------------------\n",
    "\n",
    "name = \"Osama\"\n",
    "age = 36\n",
    "rank = 10\n",
    "print(\"my name is : \" + name)\n",
    "print(\"my name is: \" + name + \" and age is: \"+ str( age) + \" and rank is: \"+ str(rank) )\n",
    "\n",
    "print(\"my name is %s\" %\"osama\")\n",
    "print(\"my name is %s\" % name)\n",
    "print(\"my name is %s and my age is %d\" %(name,age))\n",
    "print(\"my name is %s and my age is %d and my rank is %d\" %(name,age,rank))"
   ]
  },
  {
   "cell_type": "code",
   "execution_count": 29,
   "metadata": {},
   "outputs": [
    {
     "name": "stdout",
     "output_type": "stream",
     "text": [
      "My Name is Osama Iam Python Developer With 10 Years Exp\n"
     ]
    }
   ],
   "source": [
    "# %s => String\n",
    "# %d => Number\n",
    "# %f => Float\n",
    "\n",
    "n = \"Osama\"\n",
    "l = \"Python\"\n",
    "y = 10\n",
    "\n",
    "print(\"My Name is %s Iam %s Developer With %d Years Exp\" % (n, l, y))\n"
   ]
  },
  {
   "cell_type": "code",
   "execution_count": 30,
   "metadata": {},
   "outputs": [
    {
     "name": "stdout",
     "output_type": "stream",
     "text": [
      "my number is 10\n",
      "my number is 10.000000\n",
      "my number is 10.00\n"
     ]
    }
   ],
   "source": [
    "# Control Floating Point Number\n",
    "\n",
    "myNumber = 10\n",
    "print(\"my number is %d\"%myNumber)\n",
    "print(\"my number is %f\" %myNumber)\n",
    "print(\"my number is %.2f\"%myNumber)"
   ]
  },
  {
   "cell_type": "code",
   "execution_count": 31,
   "metadata": {},
   "outputs": [
    {
     "name": "stdout",
     "output_type": "stream",
     "text": [
      "my sting is Hello Peoples of Elzero Web School I Love You All\n",
      "my string is Hello P\n"
     ]
    }
   ],
   "source": [
    "# Truncate String\n",
    "\n",
    "myLongString = \"Hello Peoples of Elzero Web School I Love You All\"\n",
    "print(\"my sting is %s\" %myLongString)\n",
    "print(\"my string is %.7s\" %myLongString)"
   ]
  },
  {
   "cell_type": "code",
   "execution_count": 32,
   "metadata": {},
   "outputs": [
    {
     "name": "stdout",
     "output_type": "stream",
     "text": [
      "my name is osama\n",
      "my name is Osama\n",
      "my name is Osama and my age is 36 and rank is 10\n",
      "my name is Osama and my age is 36 and rank is 10.000000\n"
     ]
    }
   ],
   "source": [
    "# ---------------------------------\n",
    "# -- Strings Formatting New Ways --\n",
    "# ---------------------------------\n",
    "\n",
    "name = \"Osama\"\n",
    "age = 36\n",
    "rank = 10\n",
    "\n",
    "print(\"my name is {}\".format(\"osama\"))\n",
    "print(\"my name is {}\".format(name))\n",
    "print(\"my name is {} and my age is {} and rank is {}\".format(name,age,rank))\n",
    "print(\"my name is {:s} and my age is {:d} and rank is {:f}\".format(name,age,rank))"
   ]
  },
  {
   "cell_type": "code",
   "execution_count": 33,
   "metadata": {},
   "outputs": [
    {
     "name": "stdout",
     "output_type": "stream",
     "text": [
      "my number is 10\n",
      "my number is 10.000000\n",
      "my number is 10.00\n"
     ]
    }
   ],
   "source": [
    "# Control Floating Point Number\n",
    "\n",
    "myNumber = 10\n",
    "print(\"my number is {:d}\".format(myNumber))\n",
    "print(\"my number is {:f}\".format(myNumber))\n",
    "print(\"my number is {:.2f}\".format(myNumber))"
   ]
  },
  {
   "cell_type": "code",
   "execution_count": 34,
   "metadata": {},
   "outputs": [
    {
     "name": "stdout",
     "output_type": "stream",
     "text": [
      "Message is Hello Peoples of Elzero Web School I Love You All\n",
      "Message is Hello\n",
      "Message is Hello Peoples\n"
     ]
    }
   ],
   "source": [
    "# Truncate String\n",
    "\n",
    "myLongString = \"Hello Peoples of Elzero Web School I Love You All\"\n",
    "print(\"Message is {}\".format(myLongString))\n",
    "print(\"Message is {:.5s}\".format(myLongString))\n",
    "print(\"Message is {:.13s}\".format(myLongString))"
   ]
  },
  {
   "cell_type": "code",
   "execution_count": 35,
   "metadata": {},
   "outputs": [
    {
     "name": "stdout",
     "output_type": "stream",
     "text": [
      "my money is 500162350198\n",
      "my money is 500_162_350_198\n",
      "my money is 500,162,350,198\n"
     ]
    }
   ],
   "source": [
    "# Format Money\n",
    "\n",
    "myMoney = 500162350198\n",
    "print(\"my money is {:d}\".format(myMoney))\n",
    "print(\"my money is {:_d}\".format(myMoney))\n",
    "print(\"my money is {:,d}\".format(myMoney))"
   ]
  },
  {
   "cell_type": "code",
   "execution_count": 36,
   "metadata": {},
   "outputs": [
    {
     "name": "stdout",
     "output_type": "stream",
     "text": [
      "hello One Two Three\n",
      "hello Two Three One\n",
      "hello Three Two One\n"
     ]
    }
   ],
   "source": [
    "# ReArrange Items\n",
    "\n",
    "a, b, c = \"One\", \"Two\", \"Three\"\n",
    "print(\"hello {} {} {}\".format(a,b,c))\n",
    "print(\"hello {1} {2} {0}\".format(a,b,c))\n",
    "print(\"hello {2} {1} {0}\".format(a,b,c))"
   ]
  },
  {
   "cell_type": "code",
   "execution_count": 37,
   "metadata": {},
   "outputs": [
    {
     "name": "stdout",
     "output_type": "stream",
     "text": [
      "hello 10 20 30\n",
      "hello 10 20 30\n",
      "hello 20.000000 30.000000 10.000000\n",
      "hello 30.00 20.000 10.0000\n"
     ]
    }
   ],
   "source": [
    "x, y, z = 10, 20, 30\n",
    "print(\"hello {} {} {}\".format(x,y,z))\n",
    "print(\"hello {:d} {:d} {:d}\".format(x,y,z))\n",
    "print(\"hello {1:f} {2:f} {0:f}\".format(x,y,z))\n",
    "print(\"hello {2:.2f} {1:.3f} {0:.4f}\".format(x,y,z))\n"
   ]
  },
  {
   "cell_type": "code",
   "execution_count": 38,
   "metadata": {},
   "outputs": [
    {
     "name": "stdout",
     "output_type": "stream",
     "text": [
      "my name is Osama and my age is 36\n"
     ]
    }
   ],
   "source": [
    "myName = \"Osama\"\n",
    "myAge = 36\n",
    "\n",
    "print(f\"my name is {myName} and my age is {myAge}\")"
   ]
  },
  {
   "attachments": {},
   "cell_type": "markdown",
   "metadata": {},
   "source": [
    "# assignments"
   ]
  },
  {
   "attachments": {
    "image.png": {
     "image/png": "[encoded data removed]"
    }
   },
   "cell_type": "markdown",
   "metadata": {},
   "source": [
    "![image.png](attachment:image.png)"
   ]
  },
  {
   "cell_type": "code",
   "execution_count": 62,
   "metadata": {},
   "outputs": [
    {
     "name": "stdout",
     "output_type": "stream",
     "text": [
      " #\"hello 'mohamed', how you doing \\  \"\"\" your age is \"25\"\" + and your country is : egypt\n"
     ]
    }
   ],
   "source": [
    "# 11 \n",
    "\n",
    "name=\"mohamed\"\n",
    "age=25\n",
    "country=\"egypt\"\n",
    "\n",
    "#\"Hello 'Osama', How You Doing \\ \"\"\" Your Age Is \"38\"\" + And Your Country Is: Egypt\n",
    "\n",
    "print(f\" #\\\"hello '{name}', how you doing \\\\  \\\"\\\"\\\" your age is \\\"{age}\\\"\\\" + and your country is : {country}\")\n"
   ]
  },
  {
   "attachments": {
    "image.png": {
     "image/png": "[encoded data removed]"
    }
   },
   "cell_type": "markdown",
   "metadata": {},
   "source": [
    "![image.png](attachment:image.png)"
   ]
  },
  {
   "cell_type": "code",
   "execution_count": 63,
   "metadata": {},
   "outputs": [
    {
     "name": "stdout",
     "output_type": "stream",
     "text": [
      " #\"hello 'mohamed', how you doing \\ \n",
      " \"\"\" your age is \"25\"\" + \n",
      " and your country is : egypt\n"
     ]
    }
   ],
   "source": [
    "# 12\n",
    "# \"Hello 'Osama', How You Doing \\\n",
    "# \"\"\" Your Age Is \"38\"\" +\n",
    "# And Your Country Is: Egypt \n",
    "\n",
    "print(f\" #\\\"hello '{name}', how you doing \\\\ \\n \\\"\\\"\\\" your age is \\\"{age}\\\"\\\" + \\n and your country is : {country}\")\n"
   ]
  },
  {
   "attachments": {
    "image.png": {
     "image/png": "[encoded data removed]"
    }
   },
   "cell_type": "markdown",
   "metadata": {},
   "source": [
    "![image.png](attachment:image.png)"
   ]
  },
  {
   "cell_type": "code",
   "execution_count": 65,
   "metadata": {},
   "outputs": [
    {
     "name": "stdout",
     "output_type": "stream",
     "text": [
      "l\n",
      "z\n",
      "o\n"
     ]
    }
   ],
   "source": [
    "# 13\n",
    "name = 'Elzero'\n",
    "\n",
    "# Needed Output\n",
    "# Second Letter Is \"l\"\n",
    "# Third Letter Is \"z\"\n",
    "# Last Letter Is \"o\"\n",
    "\n",
    "print(name[1])\n",
    "print(name[2])\n",
    "print(name[-1])"
   ]
  },
  {
   "attachments": {
    "image.png": {
     "image/png": "[encoded data removed]"
    }
   },
   "cell_type": "markdown",
   "metadata": {},
   "source": [
    "![image.png](attachment:image.png)"
   ]
  },
  {
   "cell_type": "code",
   "execution_count": 72,
   "metadata": {},
   "outputs": [
    {
     "name": "stdout",
     "output_type": "stream",
     "text": [
      "lze\n",
      "Ezr\n",
      "rzE\n"
     ]
    }
   ],
   "source": [
    "# 14\n",
    "name = 'Elzero'\n",
    "\n",
    "# Needed Output\n",
    "# \"lze\"\n",
    "# \"Ezr\"\n",
    "# \"rzE\"\n",
    "\n",
    "print(name[1:4])\n",
    "print(name[::2])\n",
    "print(name[-2::-2])\n"
   ]
  },
  {
   "attachments": {
    "image.png": {
     "image/png": "[encoded data removed]"
    }
   },
   "cell_type": "markdown",
   "metadata": {},
   "source": [
    "![image.png](attachment:image.png)"
   ]
  },
  {
   "cell_type": "code",
   "execution_count": 73,
   "metadata": {},
   "outputs": [
    {
     "name": "stdout",
     "output_type": "stream",
     "text": [
      "Elzero\n"
     ]
    }
   ],
   "source": [
    "# 15\n",
    "\n",
    "name = \"#@#@Elzero#@#@\"\n",
    "\n",
    "# Needed Output\n",
    "# Elzero\n",
    "\n",
    "print(name.strip(\"#@\"))"
   ]
  },
  {
   "attachments": {
    "image.png": {
     "image/png": "[encoded data removed]"
    }
   },
   "cell_type": "markdown",
   "metadata": {},
   "source": [
    "![image.png](attachment:image.png)"
   ]
  },
  {
   "cell_type": "code",
   "execution_count": 77,
   "metadata": {},
   "outputs": [
    {
     "name": "stdout",
     "output_type": "stream",
     "text": [
      "0009\n",
      "0015\n",
      "0130\n",
      "0950\n",
      "1500\n"
     ]
    }
   ],
   "source": [
    "# 16 \n",
    "num1 = \"9\"\n",
    "num2 = \"15\"\n",
    "num3 = \"130\"\n",
    "num4 = \"950\"\n",
    "num5 = \"1500\"\n",
    "\n",
    "# Needed Output\n",
    "# 0009\n",
    "# 0015\n",
    "# 0130\n",
    "# 0950\n",
    "# 1500\n",
    "\n",
    "print(num1.zfill(4))\n",
    "print(num2.zfill(4))\n",
    "print(num3.zfill(4))\n",
    "print(num4.zfill(4))\n",
    "print(num5.zfill(4))"
   ]
  },
  {
   "attachments": {
    "image.png": {
     "image/png": "[encoded data removed]"
    }
   },
   "cell_type": "markdown",
   "metadata": {},
   "source": [
    "![image.png](attachment:image.png)"
   ]
  },
  {
   "cell_type": "code",
   "execution_count": 80,
   "metadata": {},
   "outputs": [
    {
     "name": "stdout",
     "output_type": "stream",
     "text": [
      "@@@@@@@@@@@@@@@Osama\n",
      "@@@@@@@@Osama_Elzero\n"
     ]
    }
   ],
   "source": [
    "# 17 \n",
    "name_one = \"Osama\"\n",
    "name_two = \"Osama_Elzero\"\n",
    "# Needed Output\n",
    "# @@@@@@@@@@@@@@@Osama\n",
    "# @@@@@@@@Osama_Elzero\n",
    "\n",
    "print(name_one.rjust(20,\"@\"))\n",
    "print(name_two.rjust(20,\"@\"))\n"
   ]
  },
  {
   "attachments": {
    "image.png": {
     "image/png": "[encoded data removed]"
    }
   },
   "cell_type": "markdown",
   "metadata": {},
   "source": [
    "![image.png](attachment:image.png)"
   ]
  },
  {
   "cell_type": "code",
   "execution_count": 82,
   "metadata": {},
   "outputs": [
    {
     "name": "stdout",
     "output_type": "stream",
     "text": [
      "osAMa\n",
      "OSAma\n"
     ]
    }
   ],
   "source": [
    "# 18 \n",
    "name_one = \"OSamA\"\n",
    "name_two = \"osaMA\"\n",
    "\n",
    "# Needed Output\n",
    "# osAMa\n",
    "# OSAma\n",
    "\n",
    "print(name_one.swapcase())\n",
    "print(name_two.swapcase())\n"
   ]
  },
  {
   "attachments": {
    "image.png": {
     "image/png": "[encoded data removed]"
    }
   },
   "cell_type": "markdown",
   "metadata": {},
   "source": [
    "![image.png](attachment:image.png)"
   ]
  },
  {
   "cell_type": "code",
   "execution_count": 83,
   "metadata": {},
   "outputs": [
    {
     "name": "stdout",
     "output_type": "stream",
     "text": [
      "2\n"
     ]
    }
   ],
   "source": [
    "# 19\n",
    "\n",
    "msg = \"I Love Python And Although Love Elzero Web School\"\n",
    "\n",
    "# Needed Output\n",
    "# 2\n",
    "\n",
    "print(msg.count(\"Love\"))"
   ]
  },
  {
   "attachments": {
    "image.png": {
     "image/png": "[encoded data removed]"
    }
   },
   "cell_type": "markdown",
   "metadata": {},
   "source": [
    "![image.png](attachment:image.png)"
   ]
  },
  {
   "cell_type": "code",
   "execution_count": 84,
   "metadata": {},
   "outputs": [
    {
     "name": "stdout",
     "output_type": "stream",
     "text": [
      "2\n"
     ]
    }
   ],
   "source": [
    "# 20 \n",
    "name = \"Elzero\"\n",
    "\n",
    "# Needed Output\n",
    "# 2\n",
    "\n",
    "print(name.index(\"z\"))"
   ]
  },
  {
   "attachments": {
    "image.png": {
     "image/png": "[encoded data removed]"
    }
   },
   "cell_type": "markdown",
   "metadata": {},
   "source": [
    "![image.png](attachment:image.png)"
   ]
  },
  {
   "cell_type": "code",
   "execution_count": 85,
   "metadata": {},
   "outputs": [
    {
     "name": "stdout",
     "output_type": "stream",
     "text": [
      "I love Python And Although <3 Elzero Web School\n"
     ]
    }
   ],
   "source": [
    "# 21\n",
    "\n",
    "msg = \"I <3 Python And Although <3 Elzero Web School\"\n",
    "\n",
    "# Needed Output\n",
    "# I Love Python And Although <3 Elzero Web School\n",
    "\n",
    "print(msg.replace(\"<3\",\"love\",1))"
   ]
  },
  {
   "attachments": {
    "image.png": {
     "image/png": "[encoded data removed]"
    }
   },
   "cell_type": "markdown",
   "metadata": {},
   "source": [
    "![image.png](attachment:image.png)"
   ]
  },
  {
   "cell_type": "code",
   "execution_count": 87,
   "metadata": {},
   "outputs": [
    {
     "name": "stdout",
     "output_type": "stream",
     "text": [
      "I love Python And Although love Elzero Web School\n"
     ]
    }
   ],
   "source": [
    "# 22\n",
    "\n",
    "msg = \"I <3 Python And Although <3 Elzero Web School\"\n",
    "\n",
    "# Needed Output\n",
    "# I Love Python And Although Love Elzero Web School\n",
    "\n",
    "print(msg.replace(\"<3\",\"love\"))"
   ]
  },
  {
   "attachments": {
    "image.png": {
     "image/png": "[encoded data removed]"
    }
   },
   "cell_type": "markdown",
   "metadata": {},
   "source": [
    "![image.png](attachment:image.png)"
   ]
  },
  {
   "cell_type": "code",
   "execution_count": 88,
   "metadata": {},
   "outputs": [
    {
     "name": "stdout",
     "output_type": "stream",
     "text": [
      "<class 'int'>\n",
      "my name is Osama , and my age is 38 , and my country is egypt\n"
     ]
    }
   ],
   "source": [
    "# 23\n",
    "\n",
    "name = \"Osama\"\n",
    "age = 38\n",
    "country = \"Egypt\"\n",
    "\n",
    "# Needed Output Using f\"\"\n",
    "# My Name Is Osama, And My Age Is 38, And My Country Is Egypt\n",
    "\n",
    "print(type(age))\n",
    "print(f\"my name is {name} , and my age is {age} , and my country is egypt\")"
   ]
  },
  {
   "cell_type": "code",
   "execution_count": null,
   "metadata": {},
   "outputs": [],
   "source": []
  }
 ],
 "metadata": {
  "kernelspec": {
   "display_name": "Python 3",
   "language": "python",
   "name": "python3"
  },
  "language_info": {
   "codemirror_mode": {
    "name": "ipython",
    "version": 3
   },
   "file_extension": ".py",
   "mimetype": "text/x-python",
   "name": "python",
   "nbconvert_exporter": "python",
   "pygments_lexer": "ipython3",
   "version": "3.11.0"
  },
  "orig_nbformat": 4,
  "vscode": {
   "interpreter": {
    "hash": "4a3bafef755923684b33fc831b8d38727961d539766062153e7b72b2aee38574"
   }
  }
 },
 "nbformat": 4,
 "nbformat_minor": 2
}
