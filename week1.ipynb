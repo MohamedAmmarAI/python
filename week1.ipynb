{
 "cells": [
  {
   "cell_type": "markdown",
   "metadata": {},
   "source": [
    "# week 1"
   ]
  },
  {
   "cell_type": "markdown",
   "metadata": {},
   "source": [
    "\n",
    "#001 – Comments\n",
    "#002 – Dealing With Data In Python\n",
    "#003 – Some Data Types Overview\n",
    "#004 – Variables Part One\n",
    "#005 – Variables Part Two\n",
    "#006 – Escape Sequences Characters\n",
    "#007 – Concatenation And Trainings"
   ]
  },
  {
   "cell_type": "code",
   "execution_count": 2,
   "metadata": {},
   "outputs": [
    {
     "name": "stdout",
     "output_type": "stream",
     "text": [
      "hello python\n"
     ]
    }
   ],
   "source": [
    "print(\"hello python\")"
   ]
  },
  {
   "cell_type": "code",
   "execution_count": 1,
   "metadata": {},
   "outputs": [
    {
     "name": "stdout",
     "output_type": "stream",
     "text": [
      "<class 'int'>\n",
      "<class 'int'>\n",
      "<class 'int'>\n"
     ]
    }
   ],
   "source": [
    "print(type(100))  # int\n",
    "print(type(-100))  # int\n",
    "print(type(547)) # int"
   ]
  },
  {
   "cell_type": "code",
   "execution_count": 2,
   "metadata": {},
   "outputs": [
    {
     "name": "stdout",
     "output_type": "stream",
     "text": [
      "<class 'float'>\n",
      "<class 'float'>\n",
      "<class 'float'>\n"
     ]
    }
   ],
   "source": [
    "print(type(100.927))    # float\n",
    "print(type(-100.927))   # float\n",
    "print(type(1.27))      # float"
   ]
  },
  {
   "cell_type": "code",
   "execution_count": 3,
   "metadata": {},
   "outputs": [
    {
     "name": "stdout",
     "output_type": "stream",
     "text": [
      "<class 'str'>\n"
     ]
    }
   ],
   "source": [
    "print(type(\"hello world\"))  # string"
   ]
  },
  {
   "cell_type": "code",
   "execution_count": 4,
   "metadata": {},
   "outputs": [
    {
     "name": "stdout",
     "output_type": "stream",
     "text": [
      "<class 'list'>\n"
     ]
    }
   ],
   "source": [
    "print(type([1,2,3,4,5]))  # list"
   ]
  },
  {
   "cell_type": "code",
   "execution_count": 5,
   "metadata": {},
   "outputs": [
    {
     "name": "stdout",
     "output_type": "stream",
     "text": [
      "<class 'tuple'>\n"
     ]
    }
   ],
   "source": [
    "print(type((1,2,3,4,5,6)))  #tuple"
   ]
  },
  {
   "cell_type": "code",
   "execution_count": 6,
   "metadata": {},
   "outputs": [
    {
     "name": "stdout",
     "output_type": "stream",
     "text": [
      "<class 'dict'>\n"
     ]
    }
   ],
   "source": [
    "print(type({\"one\":1,\"two\":2,\"three\":3})) # dictionary"
   ]
  },
  {
   "cell_type": "code",
   "execution_count": 7,
   "metadata": {},
   "outputs": [
    {
     "name": "stdout",
     "output_type": "stream",
     "text": [
      "<class 'bool'>\n"
     ]
    }
   ],
   "source": [
    "print(type(2==2)) # bool"
   ]
  },
  {
   "cell_type": "code",
   "execution_count": 9,
   "metadata": {},
   "outputs": [
    {
     "name": "stdout",
     "output_type": "stream",
     "text": [
      "mohamed ammar\n",
      "mohamed ammar\n",
      "mohamed ammar\n"
     ]
    }
   ],
   "source": [
    "na2me=\"mohamed ammar\"\n",
    "myname=\"mohamed ammar\"\n",
    "my_name=\"mohamed ammar\"\n",
    "\n",
    "print(na2me)\n",
    "print(myname)\n",
    "print(my_name)"
   ]
  },
  {
   "cell_type": "code",
   "execution_count": 1,
   "metadata": {},
   "outputs": [
    {
     "name": "stdout",
     "output_type": "stream",
     "text": [
      "\n",
      "Here is a list of the Python keywords.  Enter any keyword to get more help.\n",
      "\n",
      "False               break               for                 not\n",
      "None                class               from                or\n",
      "True                continue            global              pass\n",
      "__peg_parser__      def                 if                  raise\n",
      "and                 del                 import              return\n",
      "as                  elif                in                  try\n",
      "assert              else                is                  while\n",
      "async               except              lambda              with\n",
      "await               finally             nonlocal            yield\n",
      "\n"
     ]
    }
   ],
   "source": [
    "# Reserved Words\n",
    "help(\"keywords\")"
   ]
  },
  {
   "cell_type": "code",
   "execution_count": 2,
   "metadata": {},
   "outputs": [
    {
     "name": "stdout",
     "output_type": "stream",
     "text": [
      "1\n",
      "2\n",
      "3\n"
     ]
    }
   ],
   "source": [
    "a,b,c=1,2,3\n",
    "print(a)\n",
    "print(b)\n",
    "print(c)\n"
   ]
  },
  {
   "cell_type": "code",
   "execution_count": 5,
   "metadata": {},
   "outputs": [
    {
     "name": "stdout",
     "output_type": "stream",
     "text": [
      "hell world\n"
     ]
    }
   ],
   "source": [
    "# back space\n",
    "print(\"hello\\b world\")"
   ]
  },
  {
   "cell_type": "code",
   "execution_count": 9,
   "metadata": {},
   "outputs": [
    {
     "name": "stdout",
     "output_type": "stream",
     "text": [
      "hello i love python \n"
     ]
    }
   ],
   "source": [
    "# Escape New Line + Back Slash\n",
    "print(\"hello \\\n",
    "i love \\\n",
    "python \\\n",
    "\")"
   ]
  },
  {
   "cell_type": "code",
   "execution_count": 10,
   "metadata": {},
   "outputs": [
    {
     "name": "stdout",
     "output_type": "stream",
     "text": [
      "i love back slash \\\n"
     ]
    }
   ],
   "source": [
    "# Escape Back Slash\n",
    "print(\"i love back slash \\\\\")"
   ]
  },
  {
   "cell_type": "code",
   "execution_count": 11,
   "metadata": {},
   "outputs": [
    {
     "name": "stdout",
     "output_type": "stream",
     "text": [
      "i love single quotation ' test '\n"
     ]
    }
   ],
   "source": [
    "# Escape Single Quote\n",
    "print(\"i love single quotation \\' test \\'\")"
   ]
  },
  {
   "cell_type": "code",
   "execution_count": 12,
   "metadata": {},
   "outputs": [
    {
     "name": "stdout",
     "output_type": "stream",
     "text": [
      "i love double quotation \" test \" \n"
     ]
    }
   ],
   "source": [
    "# Escape Double Quotes\n",
    "print(\"i love double quotation \\\" test \\\" \")"
   ]
  },
  {
   "cell_type": "code",
   "execution_count": 13,
   "metadata": {},
   "outputs": [
    {
     "name": "stdout",
     "output_type": "stream",
     "text": [
      "i love \n",
      " python\n"
     ]
    }
   ],
   "source": [
    "# Line Feed\n",
    "print(\"i love \\n python\")"
   ]
  },
  {
   "cell_type": "code",
   "execution_count": 14,
   "metadata": {},
   "outputs": [
    {
     "name": "stdout",
     "output_type": "stream",
     "text": [
      "abcde6\n"
     ]
    }
   ],
   "source": [
    "# Carriage Return\n",
    "print(\"123456\\rabcde\")"
   ]
  },
  {
   "cell_type": "code",
   "execution_count": 15,
   "metadata": {},
   "outputs": [
    {
     "name": "stdout",
     "output_type": "stream",
     "text": [
      "hello\tpython\n"
     ]
    }
   ],
   "source": [
    "# Horizontal Tab\n",
    "print(\"hello\\tpython\")"
   ]
  },
  {
   "cell_type": "code",
   "execution_count": 16,
   "metadata": {},
   "outputs": [
    {
     "name": "stdout",
     "output_type": "stream",
     "text": [
      "Os\n"
     ]
    }
   ],
   "source": [
    "# Character Hex Value\n",
    "print(\"\\x4F\\x73\")"
   ]
  },
  {
   "cell_type": "code",
   "execution_count": 21,
   "metadata": {},
   "outputs": [
    {
     "name": "stdout",
     "output_type": "stream",
     "text": [
      "i love python\n"
     ]
    }
   ],
   "source": [
    "# concatenation\n",
    "first=\"i love\"\n",
    "last=\"python\"\n",
    "print(first + \" \" + last)"
   ]
  },
  {
   "cell_type": "code",
   "execution_count": 22,
   "metadata": {},
   "outputs": [
    {
     "name": "stdout",
     "output_type": "stream",
     "text": [
      "i love python\n"
     ]
    }
   ],
   "source": [
    "full=first + \" \" + last\n",
    "print(full)\n"
   ]
  },
  {
   "cell_type": "code",
   "execution_count": 27,
   "metadata": {},
   "outputs": [
    {
     "name": "stdout",
     "output_type": "stream",
     "text": [
      "first second third  A B C \n",
      "first second third \n",
      "A B C \n"
     ]
    }
   ],
   "source": [
    "a=\"first \\\n",
    "second \\\n",
    "third \\\n",
    "\"\n",
    "b=\"A \\\n",
    "B \\\n",
    "C \\\n",
    "\"\n",
    "print(a + \" \" + b)\n",
    "print(a+ \"\\n\" +b)"
   ]
  },
  {
   "cell_type": "code",
   "execution_count": null,
   "metadata": {},
   "outputs": [],
   "source": [
    "print(\"Hello \" + 1)  # Error"
   ]
  },
  {
   "cell_type": "markdown",
   "metadata": {},
   "source": [
    " # Asignments"
   ]
  },
  {
   "attachments": {
    "image.png": {
     "image/png": "[encoded data removed]"
    }
   },
   "cell_type": "markdown",
   "metadata": {},
   "source": [
    "![image.png](attachment:image.png)"
   ]
  },
  {
   "cell_type": "code",
   "execution_count": 3,
   "metadata": {},
   "outputs": [],
   "source": [
    "\n",
    "name=\"mohamed\"\n",
    "age=25\n",
    "country=\"egypt\""
   ]
  },
  {
   "attachments": {
    "image.png": {
     "image/png": "[encoded data removed]"
    }
   },
   "cell_type": "markdown",
   "metadata": {},
   "source": [
    "![image.png](attachment:image.png)"
   ]
  },
  {
   "cell_type": "markdown",
   "metadata": {},
   "source": [
    "name=\"mohamed\"\n",
    "age=25\n",
    "country=\"egypt\""
   ]
  },
  {
   "cell_type": "code",
   "execution_count": 2,
   "metadata": {},
   "outputs": [
    {
     "name": "stdout",
     "output_type": "stream",
     "text": [
      "name: mohamed\n",
      "age: 25\n",
      "country: egypt\n"
     ]
    }
   ],
   "source": [
    "print(\"name:\",name)\n",
    "print(\"age:\",age)\n",
    "print(\"country:\",country)"
   ]
  },
  {
   "attachments": {
    "image.png": {
     "image/png": "[encoded data removed]"
    }
   },
   "cell_type": "markdown",
   "metadata": {},
   "source": [
    "![image.png](attachment:image.png)"
   ]
  },
  {
   "cell_type": "markdown",
   "metadata": {},
   "source": [
    "Hello, My Name Is Osama And Iam 38 Years Old and I Live in Egypt."
   ]
  },
  {
   "cell_type": "code",
   "execution_count": 5,
   "metadata": {},
   "outputs": [
    {
     "name": "stdout",
     "output_type": "stream",
     "text": [
      "hello,my name is mohamed iam 25 years i live in egypt\n"
     ]
    }
   ],
   "source": [
    "\n",
    "print(\"hello,my name is \"+ name +\" iam \"+str(age) + \" years \"+\"i live in \"+country)"
   ]
  },
  {
   "attachments": {
    "image.png": {
     "image/png": "[encoded data removed]"
    }
   },
   "cell_type": "markdown",
   "metadata": {},
   "source": [
    "![image.png](attachment:image.png)"
   ]
  },
  {
   "cell_type": "markdown",
   "metadata": {},
   "source": [
    "<class 'str'>\n",
    "<class 'str'>\n",
    "<class 'str'>"
   ]
  },
  {
   "cell_type": "code",
   "execution_count": 7,
   "metadata": {},
   "outputs": [
    {
     "name": "stdout",
     "output_type": "stream",
     "text": [
      "<class 'str'>\n",
      "<class 'str'>\n",
      "<class 'str'>\n"
     ]
    }
   ],
   "source": [
    "print(type(name))\n",
    "print(type(str(age)))\n",
    "print(type(country))"
   ]
  }
 ],
 "metadata": {
  "kernelspec": {
   "display_name": "Python 3.9.0 64-bit",
   "language": "python",
   "name": "python3"
  },
  "language_info": {
   "codemirror_mode": {
    "name": "ipython",
    "version": 3
   },
   "file_extension": ".py",
   "mimetype": "text/x-python",
   "name": "python",
   "nbconvert_exporter": "python",
   "pygments_lexer": "ipython3",
   "version": "3.11.0"
  },
  "orig_nbformat": 4,
  "vscode": {
   "interpreter": {
    "hash": "4a3bafef755923684b33fc831b8d38727961d539766062153e7b72b2aee38574"
   }
  }
 },
 "nbformat": 4,
 "nbformat_minor": 2
}
