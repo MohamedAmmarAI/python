{
 "cells": [
  {
   "cell_type": "code",
   "execution_count": 9,
   "metadata": {},
   "outputs": [],
   "source": [
    "f=open(\"E:\\\\1\\\\2.txt\",\"w\") # \\\\ لما يكون في فولدر جواه ملف \n",
    "f.write(\"hello\")\n",
    "f.close()"
   ]
  },
  {
   "cell_type": "code",
   "execution_count": 5,
   "metadata": {},
   "outputs": [],
   "source": [
    "f=open(\"E:\\\\1\\\\2.txt\",\"w\") # \\\\ لما يكون في فولدر جواه ملف \n",
    "f.write(\"hello\")\n",
    "f.write(\"\\nmohamed\")\n",
    "f.write(\"\\nahmed ammar\")\n",
    "f.close()"
   ]
  },
  {
   "cell_type": "code",
   "execution_count": 10,
   "metadata": {},
   "outputs": [],
   "source": [
    "f=open(\"E:\\\\1\\\\2.txt\",\"a\")  # a to add without remove old\n",
    "f.write(\"\\nnew line append to file\")\n",
    "f.close()"
   ]
  },
  {
   "cell_type": "code",
   "execution_count": 11,
   "metadata": {},
   "outputs": [
    {
     "name": "stdout",
     "output_type": "stream",
     "text": [
      "hello\n",
      "\n",
      "new line append to file\n"
     ]
    }
   ],
   "source": [
    "f=open(\"E:\\\\1\\\\2.txt\",\"r\")\n",
    "for a in f:\n",
    "    print(a)\n",
    "f.close()"
   ]
  },
  {
   "cell_type": "code",
   "execution_count": 12,
   "metadata": {},
   "outputs": [],
   "source": [
    "f=open(\"E:\\\\1\\\\3.csv\",\"w\")\n",
    "f.write(\"hello world\")\n",
    "f.close()"
   ]
  },
  {
   "cell_type": "code",
   "execution_count": 13,
   "metadata": {},
   "outputs": [
    {
     "name": "stdout",
     "output_type": "stream",
     "text": [
      "e:\\course\\python_elzero\n"
     ]
    }
   ],
   "source": [
    "import os\n",
    "a=os.getcwd() # عشان يعرفني المسار الي بتعامل معاه \n",
    "print(a)"
   ]
  },
  {
   "cell_type": "code",
   "execution_count": 16,
   "metadata": {},
   "outputs": [],
   "source": [
    "import os\n",
    "os.makedirs(\"E:\\\\1\\\\00\",exist_ok=True) # عشان انشي فولدر جوه فولدر 1\n",
    "# exist_ok=true عشان لو الفولدر موجود يمسحه ويعمل واحد جديد \n",
    "# exist_ok=false عشان يظهر رساله تحذير \n",
    "\n"
   ]
  },
  {
   "cell_type": "code",
   "execution_count": 17,
   "metadata": {},
   "outputs": [
    {
     "data": {
      "text/plain": [
       "True"
      ]
     },
     "execution_count": 17,
     "metadata": {},
     "output_type": "execute_result"
    }
   ],
   "source": [
    "import os \n",
    "os.path.exists(\"E:\\\\1\\\\00\") # عشان اعرف الفولدر موجود ولا لا وممكن اعمله علي ملف عادي \n"
   ]
  },
  {
   "cell_type": "code",
   "execution_count": 19,
   "metadata": {},
   "outputs": [
    {
     "data": {
      "text/plain": [
       "'E:\\\\1\\\\00\\\\3.txt'"
      ]
     },
     "execution_count": 19,
     "metadata": {},
     "output_type": "execute_result"
    }
   ],
   "source": [
    "import shutil as sh\n",
    "sh.copyfile(\"E:\\\\1\\\\2.txt\",\"E:\\\\1\\\\00\\\\3.txt\") # عشان اخد نسخه من ملف علي فولدر واحطه علي فولدر تاني \n",
    "\n"
   ]
  },
  {
   "cell_type": "code",
   "execution_count": 20,
   "metadata": {},
   "outputs": [
    {
     "data": {
      "text/plain": [
       "'E:\\\\1\\\\00\\\\22'"
      ]
     },
     "execution_count": 20,
     "metadata": {},
     "output_type": "execute_result"
    }
   ],
   "source": [
    "import shutil as sh\n",
    "sh.copytree(\"E:\\\\1\\\\00\",\"E:\\\\1\\\\00\\\\22\") # عشان انسخ فولدر من مكان لمكان تاني "
   ]
  },
  {
   "cell_type": "code",
   "execution_count": null,
   "metadata": {},
   "outputs": [],
   "source": [
    "import shutil as sh\n",
    "sh.move(\"E:\\\\1\\\\00\",\"E:\\\\1\\\\00\\\\22\") # عشان امسح فولدر او ملف  من مكان واحطه في مكان تاني "
   ]
  },
  {
   "cell_type": "code",
   "execution_count": null,
   "metadata": {},
   "outputs": [],
   "source": []
  }
 ],
 "metadata": {
  "kernelspec": {
   "display_name": "Python 3",
   "language": "python",
   "name": "python3"
  },
  "language_info": {
   "codemirror_mode": {
    "name": "ipython",
    "version": 3
   },
   "file_extension": ".py",
   "mimetype": "text/x-python",
   "name": "python",
   "nbconvert_exporter": "python",
   "pygments_lexer": "ipython3",
   "version": "3.11.2"
  },
  "orig_nbformat": 4
 },
 "nbformat": 4,
 "nbformat_minor": 2
}
