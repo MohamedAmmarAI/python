{
 "cells": [
  {
   "cell_type": "markdown",
   "metadata": {},
   "source": [
    "# Week 14"
   ]
  },
  {
   "cell_type": "code",
   "execution_count": 3,
   "metadata": {},
   "outputs": [],
   "source": [
    "# ------------------------------------------\n",
    "# -- Object Oriented Programming => Intro --\n",
    "# ------------------------------------------\n",
    "# [1] Python Support Object Oriented Programming\n",
    "# [2] OOP Is A Paradigm Or Coding Style\n",
    "#     OOP Paradigm =>\n",
    "#       Means Structuring Program So The Methods[Functions] and Attributes[Data]\n",
    "#       Are Bundled Into Objects\n",
    "# [3] Methods => Act As Function That Use The Information Of The Object\n",
    "# [4] Python Is Multi-Paradigm Programming Language [Procedural, OOP, Functional]\n",
    "#     - Procedural => Structure App Like Recipe, Sets Of Steps To Make The Task\n",
    "#     - Functional => Built On the Concept of Mathematical Functions\n",
    "# [5] OOP Allow You To Organize Your Code and Make It Readable and Reusable\n",
    "# [6] Everything in Python is Object\n",
    "# [7] If Man Is Object\n",
    "#     - Attributes => Name, Age, Address, Phone Number, Info [Can Be Differnet]\n",
    "#     - Methods[Behaviors] => Walking, Eating, Singing, Playing\n",
    "# [8] If Car Is Object\n",
    "#     - Attributes => Model, Colour, Price\n",
    "#     - Methods[Behaviors] => Walking, Stopping\n",
    "# [9] Class Is The Template For Creating Objects [Object Constructor | Blueprint]\n",
    "#     - Class Car Can Create Many Cars Object\n",
    "# ---------------------------------------------"
   ]
  },
  {
   "cell_type": "code",
   "execution_count": 4,
   "metadata": {},
   "outputs": [],
   "source": [
    "# ----------------------------------------------------------\n",
    "# -- Object Oriented Programming => Class Syntax and Info --\n",
    "# ----------------------------------------------------------\n",
    "# [01] Class is The Blueprint Or Construtor Of The Object\n",
    "# [02] Class Instantiate Means Create Instance of A Class\n",
    "# [03] Instance => Object Created From Class And Have Their Methods and Attributes\n",
    "# [04] Class Defined With Keyword class\n",
    "# [05] Class Name Written With PascalCase [UpperCamelCase] Style\n",
    "# [06] Class May Contains Methods and Attributes\n",
    "# [07] When Creating Object Python Look For The Built In __init__ Method\n",
    "# [08] __init__ Method Called Every Time You Create Object From Class\n",
    "# [09] __init__ Method Is Initialize The Data For The Object\n",
    "# [10] Any Method With Two Underscore in The Start and End Called Dunder or Magic Method\n",
    "# [11] self Refer To The Current Instance Created From The Class And Must Be First Param\n",
    "# [12] self Can Be Named Anything\n",
    "# [13] In Python You Dont Need To Call new() Keyword To Create Object\n",
    "# -------------------------------------------------------------------\n",
    "\n",
    "# Syntax\n",
    "# class Name:\n",
    "#     Constructor => Do Instantiation [ Create Instance From A Class ]\n",
    "#     Each Instance Is Separate Object\n",
    "#     def __init__(self, other_data)\n",
    "#         Body Of Function\n"
   ]
  },
  {
   "cell_type": "code",
   "execution_count": 6,
   "metadata": {},
   "outputs": [],
   "source": [
    "class Member:\n",
    "    def __init__(self):\n",
    "        print(\"anew member has been added\")\n",
    "    "
   ]
  },
  {
   "cell_type": "code",
   "execution_count": 7,
   "metadata": {},
   "outputs": [
    {
     "name": "stdout",
     "output_type": "stream",
     "text": [
      "anew member has been added\n",
      "anew member has been added\n",
      "anew member has been added\n"
     ]
    }
   ],
   "source": [
    "member_one=Member()\n",
    "member_two=Member()\n",
    "member_three=Member()"
   ]
  },
  {
   "cell_type": "code",
   "execution_count": 8,
   "metadata": {},
   "outputs": [
    {
     "name": "stdout",
     "output_type": "stream",
     "text": [
      "<class '__main__.Member'>\n"
     ]
    }
   ],
   "source": [
    "print(member_one.__class__)"
   ]
  },
  {
   "cell_type": "code",
   "execution_count": 9,
   "metadata": {},
   "outputs": [],
   "source": [
    "my_dictionary = {\n",
    "  'name': \"Osama\",\n",
    "  'age': 36,\n",
    "  'monthly_salary': 5000,\n",
    "  'yearly_salary': ''  # Something\n",
    "}"
   ]
  },
  {
   "cell_type": "code",
   "execution_count": 10,
   "metadata": {},
   "outputs": [],
   "source": [
    "# --------------------------------------------------------------------\n",
    "# -- Object Oriented Programming => Instance Attributes and Methods --\n",
    "# --------------------------------------------------------------------\n",
    "# Self: Point To Instance Created From Class\n",
    "# Instance Attributes: Instance Attributes Defined Inside The Constructor\n",
    "# -----------------------------------------------------------------------\n",
    "# Instance Methods: Take Self Parameter Which Point To Instance Created From Class\n",
    "# Instance Methods Can Have More Than One Parameter Like Any Function\n",
    "# Instance Methods Can Freely Access Attributes And Methods On The Same Object\n",
    "# Instance Methods Can Access The Class Itself\n",
    "# -----------------------------------------------------------\n",
    "\n",
    "class member:\n",
    "    def __init__(self,first_name,middle_name,last_name):\n",
    "        self.fname=first_name\n",
    "        self.mname=middle_name\n",
    "        self.lname=last_name\n",
    "\n",
    "member_one=member(\"osama\",\"ahmed\",\"elsayed\")\n",
    "member_two=member(\"mohamed\",\"ahmed\",\"ammar\")\n",
    "member_three=member(\"mahmoud\",\"adel\",\"shebl\")\n",
    "\n"
   ]
  },
  {
   "cell_type": "code",
   "execution_count": 11,
   "metadata": {},
   "outputs": [
    {
     "name": "stdout",
     "output_type": "stream",
     "text": [
      "['__class__', '__delattr__', '__dict__', '__dir__', '__doc__', '__eq__', '__format__', '__ge__', '__getattribute__', '__getstate__', '__gt__', '__hash__', '__init__', '__init_subclass__', '__le__', '__lt__', '__module__', '__ne__', '__new__', '__reduce__', '__reduce_ex__', '__repr__', '__setattr__', '__sizeof__', '__str__', '__subclasshook__', '__weakref__', 'fname', 'lname', 'mname']\n"
     ]
    }
   ],
   "source": [
    "print(dir(member_one))"
   ]
  },
  {
   "cell_type": "code",
   "execution_count": 12,
   "metadata": {},
   "outputs": [
    {
     "name": "stdout",
     "output_type": "stream",
     "text": [
      "osama ahmed elsayed\n",
      "ahmed\n",
      "shebl\n"
     ]
    }
   ],
   "source": [
    "print(member_one.fname,member_one.mname,member_one.lname)\n",
    "print(member_two.mname)\n",
    "print(member_three.lname)"
   ]
  },
  {
   "cell_type": "code",
   "execution_count": 35,
   "metadata": {},
   "outputs": [],
   "source": [
    "class member:\n",
    "    def __init__(self,first_name,middle_name,last_name,gender):\n",
    "        self.fname=first_name\n",
    "        self.mname=middle_name\n",
    "        self.lname=last_name\n",
    "        self.gender=gender\n",
    "\n",
    "    def full_name(self):\n",
    "        return f\"{self.fname} {self.mname} {self.lname}\"\n",
    "    \n",
    "\n",
    "    def name_with_title(self):\n",
    "        if self.gender==\"male\":\n",
    "            return f\"hello mr {self.fname}\"\n",
    "        elif self.gender==\"female\":\n",
    "            return f\"hello miss {self.fname}\"\n",
    "        else:\n",
    "            return f\"{self.fname}\"\n",
    "        \n",
    "    def get_all_info(self):\n",
    "        return f\"{self.name_with_title()} ,your name is {self.full_name()}\"\n",
    "\n",
    "\n"
   ]
  },
  {
   "cell_type": "code",
   "execution_count": 36,
   "metadata": {},
   "outputs": [],
   "source": [
    "member_one=member(\"mohamed\",\"ahmed\",\"ammar\",\"male\")"
   ]
  },
  {
   "cell_type": "code",
   "execution_count": 37,
   "metadata": {},
   "outputs": [
    {
     "name": "stdout",
     "output_type": "stream",
     "text": [
      "mohamed ahmed ammar\n"
     ]
    }
   ],
   "source": [
    "print(member_one.full_name())"
   ]
  },
  {
   "cell_type": "code",
   "execution_count": 38,
   "metadata": {},
   "outputs": [
    {
     "name": "stdout",
     "output_type": "stream",
     "text": [
      "hello mr mohamed\n"
     ]
    }
   ],
   "source": [
    "print(member_one.name_with_title())"
   ]
  },
  {
   "cell_type": "code",
   "execution_count": 39,
   "metadata": {},
   "outputs": [
    {
     "name": "stdout",
     "output_type": "stream",
     "text": [
      "hello mr mohamed ,your name is mohamed ahmed ammar\n"
     ]
    }
   ],
   "source": [
    "print(member_one.get_all_info())"
   ]
  },
  {
   "cell_type": "code",
   "execution_count": 62,
   "metadata": {},
   "outputs": [],
   "source": [
    "# -----------------------------------------------------\n",
    "# -- Object Oriented Programming => Class Attributes --\n",
    "# -----------------------------------------------------\n",
    "# Class Attributes: Attributes Defined Outside The Constructor\n",
    "# -----------------------------------------------------------\n",
    "\n",
    "class member:\n",
    "    not_allowed_names = [\"Hell\", \"Shit\", \"Baloot\"]\n",
    "    users_num = 0\n",
    "\n",
    "    def __init__(self,first_name,midle_name,last_name,gender):\n",
    "        self.fname=first_name\n",
    "        self.mname=midle_name\n",
    "        self.lname=last_name\n",
    "        self.gender=gender\n",
    "\n",
    "        member.users_num+=1\n",
    "\n",
    "    def full_name(self):\n",
    "        if self.fname in member.not_allowed_names:\n",
    "         raise ValueError(\"name not allowed\")\n",
    "        else:\n",
    "           return f\"{self.fname} {self.mname} {self.lname}\"\n",
    "        \n",
    "    \n",
    "    def name_with_title(self):\n",
    "       if self.gender==\"male\":\n",
    "          return f\"hello mr {self.fname}\"\n",
    "       elif self.gender==\"female\":\n",
    "          return f\"hello miss {self.fname}\"\n",
    "       else:\n",
    "          return f\"hello {self.fname}\"\n",
    "       \n",
    "    def get_all_info(self):\n",
    "       return f\"{self.full_name()} ,your name is {self.name_with_title()}\"\n",
    "    \n",
    "\n",
    "    def delete_user(self):\n",
    "       member.users_num-=1\n",
    "       return f\"user {self.fname} is deleted\"\n",
    "       \n",
    "       \n",
    "\n",
    "\n"
   ]
  },
  {
   "cell_type": "code",
   "execution_count": 69,
   "metadata": {},
   "outputs": [],
   "source": [
    "member_one=member(\"Hello\",\"ahmed\",\"ammar\",\"male\")\n",
    "member_two=member(\"ali\",\"ahmed\",\"ammar\",\"male\")\n",
    "member_three=member(\"ahmed\",\"ahmed\",\"ammar\",\"male\")\n",
    "member_four=member(\"amr\",\"ahmed\",\"ammar\",\"male\")"
   ]
  },
  {
   "cell_type": "code",
   "execution_count": 70,
   "metadata": {},
   "outputs": [
    {
     "name": "stdout",
     "output_type": "stream",
     "text": [
      "Hello ahmed ammar\n"
     ]
    }
   ],
   "source": [
    "print(member_one.full_name())"
   ]
  },
  {
   "cell_type": "code",
   "execution_count": 71,
   "metadata": {},
   "outputs": [
    {
     "name": "stdout",
     "output_type": "stream",
     "text": [
      "hello mr Hello\n"
     ]
    }
   ],
   "source": [
    "print(member_one.name_with_title())"
   ]
  },
  {
   "cell_type": "code",
   "execution_count": 72,
   "metadata": {},
   "outputs": [
    {
     "name": "stdout",
     "output_type": "stream",
     "text": [
      "Hello ahmed ammar ,your name is hello mr Hello\n"
     ]
    }
   ],
   "source": [
    "print(member_one.get_all_info())"
   ]
  },
  {
   "cell_type": "code",
   "execution_count": 73,
   "metadata": {},
   "outputs": [
    {
     "name": "stdout",
     "output_type": "stream",
     "text": [
      "user Hello is deleted\n"
     ]
    }
   ],
   "source": [
    "print(member_one.delete_user())"
   ]
  },
  {
   "cell_type": "code",
   "execution_count": 74,
   "metadata": {},
   "outputs": [
    {
     "name": "stdout",
     "output_type": "stream",
     "text": [
      "3\n"
     ]
    }
   ],
   "source": [
    "print(member.users_num)"
   ]
  },
  {
   "cell_type": "code",
   "execution_count": 75,
   "metadata": {},
   "outputs": [
    {
     "name": "stdout",
     "output_type": "stream",
     "text": [
      "['__class__', '__delattr__', '__dict__', '__dir__', '__doc__', '__eq__', '__format__', '__ge__', '__getattribute__', '__getstate__', '__gt__', '__hash__', '__init__', '__init_subclass__', '__le__', '__lt__', '__module__', '__ne__', '__new__', '__reduce__', '__reduce_ex__', '__repr__', '__setattr__', '__sizeof__', '__str__', '__subclasshook__', '__weakref__', 'delete_user', 'fname', 'full_name', 'gender', 'get_all_info', 'lname', 'mname', 'name_with_title', 'not_allowed_names', 'users_num']\n"
     ]
    }
   ],
   "source": [
    "print(dir(member_one))"
   ]
  },
  {
   "cell_type": "code",
   "execution_count": 76,
   "metadata": {},
   "outputs": [
    {
     "name": "stdout",
     "output_type": "stream",
     "text": [
      "['__class__', '__delattr__', '__dict__', '__dir__', '__doc__', '__eq__', '__format__', '__ge__', '__getattribute__', '__getstate__', '__gt__', '__hash__', '__init__', '__init_subclass__', '__le__', '__lt__', '__module__', '__ne__', '__new__', '__reduce__', '__reduce_ex__', '__repr__', '__setattr__', '__sizeof__', '__str__', '__subclasshook__', '__weakref__']\n"
     ]
    }
   ],
   "source": [
    "print(dir(Member))"
   ]
  },
  {
   "cell_type": "code",
   "execution_count": 12,
   "metadata": {},
   "outputs": [],
   "source": [
    "# -------------------------------------------------------------------\n",
    "# -- Object Oriented Programming => Class Methods & Static Methods --\n",
    "# -------------------------------------------------------------------\n",
    "# Class Methods:\n",
    "# - Marked With @classmethod Decorator To Flag It As Class Method\n",
    "# - It Take Cls Parameter Not Self To Point To The Class not The Instance\n",
    "# - It Doesn't Require Creation of a Class Instance\n",
    "# - Used When You Want To Do Something With The Class Itself\n",
    "# Static Methods:\n",
    "# - It Takes No Parameters\n",
    "# - Its Bound To The Class Not Instance\n",
    "# - Used When Doing Something Doesnt Have Access To Object Or Class But Related To Class\n",
    "# -----------------------------------------------------------\n",
    "\n",
    "class member:\n",
    "    not_allowed_names=[\"hello\",\"shit\",\"balot\"]\n",
    "    users_num=8\n",
    "\n",
    "    @classmethod\n",
    "    def users_count(cls):\n",
    "        print(f\"we have users {cls.users_num} in our system\")\n",
    "\n",
    "    @staticmethod\n",
    "    def say_hello():\n",
    "        print(\"hello from static method\")\n",
    "\n",
    "    def __init__(self, first_name, middle_name, last_name, gender):\n",
    "       \n",
    "       \n",
    "       self.fname = first_name\n",
    "\n",
    "       self.mname = middle_name\n",
    "\n",
    "       self.lname = last_name\n",
    "\n",
    "       self.gender = gender\n",
    "\n",
    "       Member.users_num += 1  # Member.users_num = Member.users_num + 1\n"
   ]
  },
  {
   "cell_type": "code",
   "execution_count": 9,
   "metadata": {},
   "outputs": [
    {
     "name": "stdout",
     "output_type": "stream",
     "text": [
      "we have users 8 in our system\n",
      "None\n"
     ]
    }
   ],
   "source": [
    "print(member.users_count())"
   ]
  },
  {
   "cell_type": "code",
   "execution_count": 11,
   "metadata": {},
   "outputs": [
    {
     "name": "stdout",
     "output_type": "stream",
     "text": [
      "hello from static method\n",
      "None\n"
     ]
    }
   ],
   "source": [
    "print(member.say_hello())"
   ]
  },
  {
   "cell_type": "code",
   "execution_count": 21,
   "metadata": {},
   "outputs": [
    {
     "name": "stdout",
     "output_type": "stream",
     "text": [
      "this is my skills => {self.skill}\n",
      "3\n",
      "4\n",
      "<class '__main__.skill'>\n",
      "<class 'str'>\n",
      "<class 'str'>\n",
      "['__add__', '__class__', '__contains__', '__delattr__', '__dir__', '__doc__', '__eq__', '__format__', '__ge__', '__getattribute__', '__getitem__', '__getnewargs__', '__getstate__', '__gt__', '__hash__', '__init__', '__init_subclass__', '__iter__', '__le__', '__len__', '__lt__', '__mod__', '__mul__', '__ne__', '__new__', '__reduce__', '__reduce_ex__', '__repr__', '__rmod__', '__rmul__', '__setattr__', '__sizeof__', '__str__', '__subclasshook__', 'capitalize', 'casefold', 'center', 'count', 'encode', 'endswith', 'expandtabs', 'find', 'format', 'format_map', 'index', 'isalnum', 'isalpha', 'isascii', 'isdecimal', 'isdigit', 'isidentifier', 'islower', 'isnumeric', 'isprintable', 'isspace', 'istitle', 'isupper', 'join', 'ljust', 'lower', 'lstrip', 'maketrans', 'partition', 'removeprefix', 'removesuffix', 'replace', 'rfind', 'rindex', 'rjust', 'rpartition', 'rsplit', 'rstrip', 'split', 'splitlines', 'startswith', 'strip', 'swapcase', 'title', 'translate', 'upper', 'zfill']\n",
      "OSAMA\n"
     ]
    }
   ],
   "source": [
    "# --------------------------------------------------\n",
    "# -- Object Oriented Programming => Magic Methods --\n",
    "# --------------------------------------------------\n",
    "# Everything in Python is An Object\n",
    "# __init__  Called Automatically When Instantiating Class\n",
    "# self.__class__ The class to which a class instance belongs\n",
    "# __str__   Gives a Human-Readable Output of the Object\n",
    "# __len__   Returns the Length of the Container\n",
    "#           Called When We Use the Built-in len() Function on the Object\n",
    "# ------------------------------------------------------\n",
    "\n",
    "\n",
    "class skill:\n",
    "    def __init__(self):\n",
    "        self.skill=[\"html\",\"css\",\"java\"]\n",
    "\n",
    "    def __str__(self):\n",
    "        return \"this is my skills => {self.skill}\"\n",
    "    \n",
    "    def __len__(self):\n",
    "        return len(self.skill)\n",
    "    \n",
    "\n",
    "profile=skill()\n",
    "print(profile)\n",
    "print(len(profile))\n",
    "\n",
    "profile.skill.append(\"sql\")\n",
    "\n",
    "print(len(profile))\n",
    "print(profile.__class__)\n",
    "my_string=\"osama\"\n",
    "print(type(my_string))\n",
    "print(my_string.__class__)\n",
    "print(dir(str))\n",
    "print(str.upper(my_string))\n"
   ]
  },
  {
   "cell_type": "code",
   "execution_count": 45,
   "metadata": {},
   "outputs": [],
   "source": [
    "# ------------------------------------------------\n",
    "# -- Object Oriented Programming => Inheritance --\n",
    "# ------------------------------------------------\n",
    "\n",
    "class food:  # base class\n",
    "    def __init__(self,name,price):\n",
    "        self.name=name\n",
    "        self.price=price\n",
    "        print(f\"{self.name} iss created from base class\")\n",
    "        print(\"hello\")\n",
    "\n",
    "    def eat(self):\n",
    "        print(\"is created from base class\")\n",
    "\n",
    "class apple(food):  #derived class\n",
    "    def __init__(self,name,price,amount):\n",
    "        #food.__init__(self,name)\n",
    "\n",
    "        super().__init__(name,price)\n",
    "        self.amount = amount\n",
    "\n",
    "        print(f\"{self.name} is created from derived class and price is {self.price} and amount is {self.amount}\")\n",
    "    \n",
    "    def get_from_tree(self):\n",
    "\n",
    "      print(\"Get From Tree From Derived Class\")\n",
    "\n"
   ]
  },
  {
   "cell_type": "code",
   "execution_count": 47,
   "metadata": {},
   "outputs": [
    {
     "name": "stdout",
     "output_type": "stream",
     "text": [
      "piza iss created from base class\n",
      "hello\n",
      "piza is created from derived class and price is 120 and amount is 23\n",
      "is created from base class\n",
      "Get From Tree From Derived Class\n"
     ]
    }
   ],
   "source": [
    "#food_one=food(\"pizza\",140)\n",
    "food_two=apple(\"piza\",120,23)\n",
    "food_two.eat()\n",
    "food_two.get_from_tree()"
   ]
  },
  {
   "cell_type": "code",
   "execution_count": 48,
   "metadata": {},
   "outputs": [
    {
     "name": "stdout",
     "output_type": "stream",
     "text": [
      "base one\n"
     ]
    }
   ],
   "source": [
    "# ---------------------------------------------------------\n",
    "# -- Object Oriented Programming => Multiple Inheritance --\n",
    "# ---------------------------------------------------------\n",
    "\n",
    "\n",
    "class base_one:\n",
    "    def __init__(self):\n",
    "        print(\"base one\")\n",
    "\n",
    "    def func_one(self):\n",
    "        print(\"one\")\n",
    "\n",
    "class base_two:\n",
    "    def __init__(self):\n",
    "        print(\"basetwo\")\n",
    "    \n",
    "    def func_two(self):\n",
    "        print(\"two\")\n",
    "\n",
    "class derived(base_one,base_two):\n",
    "    pass\n",
    "\n",
    "my_var=derived()\n",
    "\n",
    "\n",
    "\n",
    "\n"
   ]
  },
  {
   "cell_type": "code",
   "execution_count": 54,
   "metadata": {},
   "outputs": [
    {
     "name": "stdout",
     "output_type": "stream",
     "text": [
      "<bound method base_one.func_one of <__main__.derived object at 0x0000021608818FD0>>\n",
      "<bound method base_two.func_two of <__main__.derived object at 0x0000021608818FD0>>\n",
      "one\n",
      "two\n"
     ]
    }
   ],
   "source": [
    "print(my_var.func_one)\n",
    "print(my_var.func_two)\n",
    "\n",
    "my_var.func_one()\n",
    "my_var.func_two()"
   ]
  },
  {
   "cell_type": "code",
   "execution_count": 55,
   "metadata": {},
   "outputs": [],
   "source": [
    "class Base:\n",
    "\n",
    "  pass\n",
    "\n",
    "class DerivedOne(Base):\n",
    "\n",
    "  pass\n",
    "\n",
    "class DerivedTwo(DerivedOne):\n",
    "\n",
    "  pass"
   ]
  },
  {
   "cell_type": "code",
   "execution_count": 59,
   "metadata": {},
   "outputs": [
    {
     "name": "stdout",
     "output_type": "stream",
     "text": [
      "30\n",
      "Hello Python\n",
      "6\n",
      "12\n",
      "2\n"
     ]
    }
   ],
   "source": [
    "# -------------------------------------------------\n",
    "# -- Object Oriented Programming => Polymorphism --\n",
    "# -------------------------------------------------\n",
    "\n",
    "n1 = 10\n",
    "n2 = 20\n",
    "\n",
    "print(n1 + n2)\n",
    "\n",
    "s1 = \"Hello\"\n",
    "s2 = \"Python\"\n",
    "\n",
    "print(s1 + \" \" + s2)\n",
    "\n",
    "print(len([1, 2, 3, 4, 5, 6]))\n",
    "print(len(\"Osama Elzero\"))\n",
    "print(len({\"Key_One\": 1, \"Key_Two\": 2}))\n",
    "\n",
    "class a:\n",
    "    def do_somthing(self):\n",
    "        print(\"from class a\")\n",
    "        raise NotImplementedError(\"derived class must implement this method\")\n",
    "    \n",
    "class b(a):\n",
    "    def do_somthing(self):\n",
    "        print(\"from class b\")\n",
    "\n",
    "class c(a):\n",
    "    def do_somthing(self):\n",
    "        print(\"from class c\")\n",
    "\n",
    "\n"
   ]
  },
  {
   "cell_type": "code",
   "execution_count": 60,
   "metadata": {},
   "outputs": [
    {
     "name": "stdout",
     "output_type": "stream",
     "text": [
      "from class a\n"
     ]
    }
   ],
   "source": [
    "my_instance=b()\n",
    "my_instance.do_somthing()"
   ]
  },
  {
   "cell_type": "code",
   "execution_count": 1,
   "metadata": {},
   "outputs": [],
   "source": [
    "# --------------------------------------------------\n",
    "# -- Object Oriented Programming => Encapsulation --\n",
    "# --------------------------------------------------\n",
    "# Encapsulation\n",
    "# - Restrict Access To The Data Stored in Attirbutes and Methods\n",
    "# Public\n",
    "# - Every Attribute and Method That We Used So Far Is Public\n",
    "# - Attributes and Methods Can Be Modified and Run From Everywhere\n",
    "# - Inside Our Outside The Class\n",
    "# Protected\n",
    "# - Attributes and Methods Can Be Accessed From Within The Class And Sub Classes\n",
    "# - Attributes and Methods Prefixed With One Underscore _\n",
    "# Private\n",
    "# - Attributes and Methods Can Be Accessed From Within The Class Or Object Only\n",
    "# - Attributes Cannot Be Modified From Outside The Class\n",
    "# - Attributes and Methods Prefixed With Two Underscores __\n",
    "# ---------------------------------------------------------\n",
    "# - Attributes = Variables = Properties\n",
    "# -------------------------------------\n",
    "\n"
   ]
  },
  {
   "cell_type": "code",
   "execution_count": 3,
   "metadata": {},
   "outputs": [
    {
     "name": "stdout",
     "output_type": "stream",
     "text": [
      "ahmed\n",
      "ali\n"
     ]
    }
   ],
   "source": [
    "class member:\n",
    "    def __init__(self,name):\n",
    "        self.name=name  #public\n",
    "    \n",
    "one=member(\"ahmed\")\n",
    "print(one.name)\n",
    "one.name=\"ali\"\n",
    "print(one.name)"
   ]
  },
  {
   "cell_type": "code",
   "execution_count": 5,
   "metadata": {},
   "outputs": [
    {
     "name": "stdout",
     "output_type": "stream",
     "text": [
      "mohamed\n",
      "sayed\n"
     ]
    }
   ],
   "source": [
    "class member:\n",
    "    def __init__(self,name):\n",
    "        self._name=name   # protected\n",
    "\n",
    "one=member(\"mohamed\")\n",
    "print(one._name)\n",
    "one._name=\"sayed\"\n",
    "print(one._name)"
   ]
  },
  {
   "cell_type": "code",
   "execution_count": 6,
   "metadata": {},
   "outputs": [],
   "source": [
    "class member:\n",
    "    def __init__(self,name):\n",
    "        self.__name=name  # private\n",
    "    def say_hello(self):\n",
    "        return f\"hello {self.__name}\"\n",
    "    "
   ]
  },
  {
   "cell_type": "code",
   "execution_count": 10,
   "metadata": {},
   "outputs": [
    {
     "name": "stdout",
     "output_type": "stream",
     "text": [
      "hello tamer\n"
     ]
    }
   ],
   "source": [
    "one=member(\"tamer\")\n",
    "print(one.say_hello())"
   ]
  },
  {
   "cell_type": "code",
   "execution_count": 14,
   "metadata": {},
   "outputs": [],
   "source": [
    "# ------------------------------------------------------\n",
    "# -- Object Oriented Programming => Getters & Setters --\n",
    "# ------------------------------------------------------\n",
    "\n",
    "class member:\n",
    "    def __init__(self,name):\n",
    "        self.__name=name\n",
    "\n",
    "    def say_hello(self):\n",
    "        return f\"hello {self.__name}\"\n",
    "    \n",
    "    def get_name(self):\n",
    "        return self.__name\n",
    "    \n",
    "    def set_name(self,new_name):\n",
    "        self.__name=new_name"
   ]
  },
  {
   "cell_type": "code",
   "execution_count": 17,
   "metadata": {},
   "outputs": [
    {
     "data": {
      "text/plain": [
       "'ahmed'"
      ]
     },
     "execution_count": 17,
     "metadata": {},
     "output_type": "execute_result"
    }
   ],
   "source": [
    "one=member(\"ahmed\")\n",
    "one.say_hello()\n",
    "one.get_name()"
   ]
  },
  {
   "cell_type": "code",
   "execution_count": 18,
   "metadata": {},
   "outputs": [
    {
     "name": "stdout",
     "output_type": "stream",
     "text": [
      "Sayed\n"
     ]
    }
   ],
   "source": [
    "one._member__name = \"Sayed\"\n",
    "print(one._member__name)\n"
   ]
  },
  {
   "cell_type": "code",
   "execution_count": 21,
   "metadata": {},
   "outputs": [
    {
     "data": {
      "text/plain": [
       "'ali'"
      ]
     },
     "execution_count": 21,
     "metadata": {},
     "output_type": "execute_result"
    }
   ],
   "source": [
    "one.get_name()\n",
    "one.set_name(\"ali\")\n",
    "one.get_name()"
   ]
  },
  {
   "cell_type": "code",
   "execution_count": 26,
   "metadata": {},
   "outputs": [],
   "source": [
    "class member:\n",
    "    def __init__(self,name,age):\n",
    "        self.name=name\n",
    "        self.age=age\n",
    "\n",
    "    def say_hello(self):\n",
    "        return f\"hello {self.name}\"\n",
    "    \n",
    "    @property\n",
    "    def age_in_days(self):\n",
    "        return self.age*365\n",
    "    \n"
   ]
  },
  {
   "cell_type": "markdown",
   "metadata": {},
   "source": []
  },
  {
   "cell_type": "code",
   "execution_count": 27,
   "metadata": {},
   "outputs": [
    {
     "name": "stdout",
     "output_type": "stream",
     "text": [
      "ali\n",
      "40\n",
      "hello ali\n",
      "14600\n"
     ]
    }
   ],
   "source": [
    "one=member(\"ali\",40)\n",
    "print(one.name)\n",
    "print(one.age)\n",
    "print(one.say_hello())\n",
    "print(one.age_in_days)"
   ]
  },
  {
   "cell_type": "code",
   "execution_count": null,
   "metadata": {},
   "outputs": [],
   "source": []
  }
 ],
 "metadata": {
  "kernelspec": {
   "display_name": "Python 3",
   "language": "python",
   "name": "python3"
  },
  "language_info": {
   "codemirror_mode": {
    "name": "ipython",
    "version": 3
   },
   "file_extension": ".py",
   "mimetype": "text/x-python",
   "name": "python",
   "nbconvert_exporter": "python",
   "pygments_lexer": "ipython3",
   "version": "3.11.2"
  },
  "orig_nbformat": 4
 },
 "nbformat": 4,
 "nbformat_minor": 2
}
