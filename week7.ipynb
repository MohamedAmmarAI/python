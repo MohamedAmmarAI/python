{
 "cells": [
  {
   "cell_type": "code",
   "execution_count": 1,
   "metadata": {},
   "outputs": [
    {
     "name": "stdout",
     "output_type": "stream",
     "text": [
      "10\n"
     ]
    }
   ],
   "source": [
    "# ----------------------------\n",
    "# -- Loop => While Training --\n",
    "# ----------------------------\n",
    "# while condition_is_true\n",
    "#   Code Will Run Until Condition Become False\n",
    "# -----------------------\n",
    "\n",
    "myF = [\"Os\", \"Ah\", \"Ga\", \"Al\", \"Ra\", \"Sa\", \"Ta\", \"Ma\", \"Mo\", \"Wa\"]\n",
    "\n",
    "print(len(myF))  # List Length [10]\n"
   ]
  },
  {
   "cell_type": "code",
   "execution_count": 4,
   "metadata": {},
   "outputs": [
    {
     "name": "stdout",
     "output_type": "stream",
     "text": [
      "#001  Os\n",
      "#002  Ah\n",
      "#003  Ga\n",
      "#004  Al\n",
      "#005  Ra\n",
      "#006  Sa\n",
      "#007  Ta\n",
      "#008  Ma\n",
      "#009  Mo\n",
      "#010  Wa\n",
      "all frinds printed\n"
     ]
    }
   ],
   "source": [
    "a=0\n",
    "while a < len(myF):\n",
    "    print(f\"#{str(a+1).zfill(3)}  {myF[a]}\")\n",
    "    a+=1\n",
    "\n",
    "else:\n",
    "    print(\"all frinds printed\")"
   ]
  },
  {
   "cell_type": "code",
   "execution_count": 7,
   "metadata": {},
   "outputs": [
    {
     "name": "stdout",
     "output_type": "stream",
     "text": [
      "web added, 4 place left\n",
      "['we']\n",
      "web added, 3 place left\n",
      "['we', 'dd']\n",
      "web added, 2 place left\n",
      "['we', 'dd', 'qed']\n",
      "web added, 1 place left\n",
      "['we', 'dd', 'qed', 'e']\n",
      "web added, 0 place left\n",
      "['we', 'dd', 'qed', 'e', 'tt']\n",
      "Bookmark Is Full, You Cant Add More\n",
      "dd\n",
      "we\n",
      "tt\n",
      "qed\n",
      "e\n",
      "dd\n"
     ]
    },
    {
     "ename": "IndexError",
     "evalue": "list index out of range",
     "output_type": "error",
     "traceback": [
      "\u001b[1;31m---------------------------------------------------------------------------\u001b[0m",
      "\u001b[1;31mIndexError\u001b[0m                                Traceback (most recent call last)",
      "Cell \u001b[1;32mIn[7], line 29\u001b[0m\n\u001b[0;32m     26\u001b[0m index\u001b[39m=\u001b[39m\u001b[39m0\u001b[39m\n\u001b[0;32m     28\u001b[0m \u001b[39mwhile\u001b[39;00m index\u001b[39m<\u001b[39m\u001b[39mlen\u001b[39m(my_favorit_webs):\n\u001b[1;32m---> 29\u001b[0m      \u001b[39mprint\u001b[39m(my_favorit_webs[index])\n\u001b[0;32m     30\u001b[0m      index\u001b[39m-\u001b[39m\u001b[39m=\u001b[39m\u001b[39m1\u001b[39m\n",
      "\u001b[1;31mIndexError\u001b[0m: list index out of range"
     ]
    }
   ],
   "source": [
    "\n",
    "my_favorit_webs=[]\n",
    "\n",
    "maximum_webs=5\n",
    "\n",
    "while maximum_webs>0:\n",
    "\n",
    "    web=input(f\"enter web name without http://\")\n",
    "\n",
    "    my_favorit_webs.append(web)\n",
    "\n",
    "    maximum_webs-=1\n",
    "\n",
    "    print(f\"web added, {maximum_webs} place left\")\n",
    "\n",
    "    print(my_favorit_webs)\n",
    "\n",
    "else:\n",
    "     print(\"Bookmark Is Full, You Cant Add More\")\n",
    "\n",
    "\n",
    "\n",
    "if(len(my_favorit_webs)>0):\n",
    "     \n",
    "     my_favorit_webs.sort()\n",
    "\n",
    "     index=0\n",
    "\n",
    "     while index<len(my_favorit_webs):\n",
    "          print(my_favorit_webs[index])\n",
    "          index-=1\n",
    "     "
   ]
  },
  {
   "cell_type": "code",
   "execution_count": 12,
   "metadata": {},
   "outputs": [
    {
     "name": "stdout",
     "output_type": "stream",
     "text": [
      "\"pass wrong\" 3 \"left\"\n",
      "\"pass wrong\" 2 \"left\"\n",
      "\"pass wrong\" 1 \"left\"\n",
      "\"pass wrong\" last \"left\"\n",
      "all tries finish\n"
     ]
    }
   ],
   "source": [
    "tries=4\n",
    "main_password=\"mohamed\"\n",
    "input_password=input(\"enter the passwors\")\n",
    "\n",
    "while input_password != main_password:\n",
    "    tries-=1\n",
    "    print(f'\"pass wrong\" { \"last\" if tries==0 else tries} \"left\"')\n",
    "\n",
    "    input_password=input(\"enterpassword\")\n",
    "\n",
    "    if tries==0:\n",
    "        print(\"all tries finish\")\n",
    "        break\n",
    "else:\n",
    "        \n",
    "        print(\"ass corect\")\n",
    "\n"
   ]
  },
  {
   "cell_type": "code",
   "execution_count": 13,
   "metadata": {},
   "outputs": [
    {
     "name": "stdout",
     "output_type": "stream",
     "text": [
      "the number 1 is odd\n",
      "the number 2 is even\n",
      "the number 3 is odd\n",
      "the number 4 is even\n",
      "the number 5 is odd\n",
      "the number 6 is even\n",
      "the number 7 is odd\n",
      "the number 8 is even\n",
      "the number 9 is odd\n",
      "loop finished\n"
     ]
    }
   ],
   "source": [
    "myNumbers = [1, 2, 3, 4, 5, 6, 7, 8, 9]\n",
    "\n",
    "for number in myNumbers:\n",
    "    if number%2==0 :\n",
    "        print(f\"the number {number} is even\")\n",
    "    else:\n",
    "        print(f\"the number {number} is odd\")\n",
    "else:\n",
    "    print(\"loop finished\")"
   ]
  },
  {
   "cell_type": "code",
   "execution_count": 14,
   "metadata": {},
   "outputs": [
    {
     "name": "stdout",
     "output_type": "stream",
     "text": [
      "['M']\n",
      "['O']\n",
      "['H']\n",
      "['A']\n",
      "['M']\n",
      "['E']\n",
      "['D']\n"
     ]
    }
   ],
   "source": [
    "my_name=\"mohamed\"\n",
    "for letter in my_name:\n",
    "    print(f\"{[letter.upper()]}\")"
   ]
  },
  {
   "cell_type": "code",
   "execution_count": 17,
   "metadata": {},
   "outputs": [
    {
     "name": "stdout",
     "output_type": "stream",
     "text": [
      "1\n",
      "2\n",
      "3\n",
      "4\n",
      "5\n",
      "6\n",
      "7\n",
      "8\n",
      "9\n",
      "10\n",
      "11\n",
      "12\n",
      "13\n",
      "14\n",
      "15\n",
      "16\n",
      "17\n",
      "18\n",
      "19\n",
      "20\n",
      "21\n",
      "22\n",
      "23\n",
      "24\n",
      "25\n",
      "26\n",
      "27\n",
      "28\n",
      "29\n",
      "30\n",
      "31\n",
      "32\n",
      "33\n",
      "34\n",
      "35\n",
      "36\n",
      "37\n",
      "38\n",
      "39\n",
      "40\n",
      "41\n",
      "42\n",
      "43\n",
      "44\n",
      "45\n",
      "46\n",
      "47\n",
      "48\n",
      "49\n",
      "50\n",
      "51\n",
      "52\n",
      "53\n",
      "54\n",
      "55\n",
      "56\n",
      "57\n",
      "58\n",
      "59\n",
      "60\n",
      "61\n",
      "62\n",
      "63\n",
      "64\n",
      "65\n",
      "66\n",
      "67\n",
      "68\n",
      "69\n",
      "70\n",
      "71\n",
      "72\n",
      "73\n",
      "74\n",
      "75\n",
      "76\n",
      "77\n",
      "78\n",
      "79\n",
      "80\n",
      "81\n",
      "82\n",
      "83\n",
      "84\n",
      "85\n",
      "86\n",
      "87\n",
      "88\n",
      "89\n",
      "90\n",
      "91\n",
      "92\n",
      "93\n",
      "94\n",
      "95\n",
      "96\n",
      "97\n",
      "98\n",
      "99\n",
      "100\n"
     ]
    }
   ],
   "source": [
    "my_range=range(1,101)\n",
    "for number in my_range:\n",
    "    print(number)"
   ]
  },
  {
   "cell_type": "code",
   "execution_count": 21,
   "metadata": {},
   "outputs": [
    {
     "name": "stdout",
     "output_type": "stream",
     "text": [
      "80%\n",
      "90%\n",
      "my progress is Html is: 90%\n",
      "my progress is Css is: 60%\n",
      "my progress is PHP is: 70%\n",
      "my progress is JS is: 80%\n",
      "my progress is Python is: 90%\n",
      "my progress is MySQL is: 60%\n"
     ]
    }
   ],
   "source": [
    "mySkills = {\n",
    "  \"Html\": \"90%\",\n",
    "  \"Css\": \"60%\",\n",
    "  \"PHP\": \"70%\",\n",
    "  \"JS\": \"80%\",\n",
    "  \"Python\": \"90%\",\n",
    "  \"MySQL\": \"60%\"\n",
    "}\n",
    "\n",
    "print(mySkills[\"JS\"])\n",
    "print(mySkills.get(\"Python\"))\n",
    "\n",
    "for skill in mySkills:\n",
    "\n",
    "    print(f\"my progress is {skill} is: {mySkills[skill]}\") "
   ]
  },
  {
   "cell_type": "code",
   "execution_count": 22,
   "metadata": {},
   "outputs": [
    {
     "name": "stdout",
     "output_type": "stream",
     "text": [
      "Osama skills is :- \n",
      "Html\n",
      "Css\n",
      "Js\n",
      "Ahmed skills is :- \n",
      "Html\n",
      "Css\n",
      "Js\n",
      "Sayed skills is :- \n",
      "Html\n",
      "Css\n",
      "Js\n",
      "Ali skills is :- \n",
      "Html\n",
      "Css\n",
      "Js\n"
     ]
    }
   ],
   "source": [
    "peoples = [\"Osama\", \"Ahmed\", \"Sayed\", \"Ali\"]\n",
    "\n",
    "skills = ['Html', 'Css', 'Js']\n",
    "\n",
    "for name in peoples:\n",
    "    print(f\"{name} skills is :- \")\n",
    "\n",
    "    for skill in skills:\n",
    "        print(f\"{skill}\")"
   ]
  },
  {
   "cell_type": "code",
   "execution_count": 24,
   "metadata": {},
   "outputs": [
    {
     "name": "stdout",
     "output_type": "stream",
     "text": [
      "{'Html': '70%', 'Css': '80%', 'Js': '70%'}\n",
      "{'Html': '90%', 'Css': '80%', 'Js': '90%'}\n",
      "{'Html': '70%', 'Css': '60%', 'Js': '90%'}\n",
      "80%\n",
      "80%\n",
      "60%\n",
      "skills and progres for Osama is :\n",
      "Html\n",
      "Css\n",
      "Js\n",
      "skills and progres for Ahmed is :\n",
      "Html\n",
      "Css\n",
      "Js\n",
      "skills and progres for Sayed is :\n",
      "Html\n",
      "Css\n",
      "Js\n"
     ]
    }
   ],
   "source": [
    "# Dictionary\n",
    "\n",
    "peoples = {\n",
    "  \"Osama\": {\n",
    "    \"Html\": \"70%\",\n",
    "    \"Css\": \"80%\",\n",
    "    \"Js\": \"70%\"\n",
    "  },\n",
    "  \"Ahmed\": {\n",
    "    \"Html\": \"90%\",\n",
    "    \"Css\": \"80%\",\n",
    "    \"Js\": \"90%\"\n",
    "  },\n",
    "  \"Sayed\": {\n",
    "    \"Html\": \"70%\",\n",
    "    \"Css\": \"60%\",\n",
    "    \"Js\": \"90%\"\n",
    "  }\n",
    "}\n",
    "\n",
    "print(peoples[\"Osama\"])\n",
    "print(peoples[\"Ahmed\"])\n",
    "print(peoples[\"Sayed\"])\n",
    "\n",
    "print(peoples[\"Osama\"][\"Css\"])\n",
    "print(peoples[\"Ahmed\"][\"Css\"])\n",
    "print(peoples[\"Sayed\"][\"Css\"])\n",
    "\n",
    "for name in peoples:\n",
    "    print(f\"skills and progres for {name} is :\")\n",
    "\n",
    "    for skill in peoples[name]:\n",
    "        print(f\"{skill}\")\n",
    "\n"
   ]
  },
  {
   "cell_type": "code",
   "execution_count": 28,
   "metadata": {},
   "outputs": [
    {
     "name": "stdout",
     "output_type": "stream",
     "text": [
      "1\n",
      "2\n",
      "3\n",
      "5\n",
      "7\n",
      "10\n",
      "14\n",
      "15\n",
      "19\n",
      "##############################\n",
      "1\n",
      "2\n",
      "3\n",
      "5\n",
      "7\n",
      "10\n",
      "##############################\n",
      "1\n",
      "2\n",
      "3\n",
      "5\n",
      "7\n",
      "10\n",
      "13\n",
      "14\n",
      "15\n",
      "19\n",
      "##############################\n"
     ]
    }
   ],
   "source": [
    "# ---------------------------\n",
    "# -- Break, Continue, Pass --\n",
    "# ---------------------------\n",
    "\n",
    "myNumbers = [1, 2, 3, 5, 7, 10, 13, 14, 15, 19]\n",
    "\n",
    "# Continue\n",
    "\n",
    "for number in myNumbers:\n",
    "    if number==13:\n",
    "        continue\n",
    "    print(number)\n",
    "\n",
    "print(\"#\"*30)\n",
    "\n",
    "for number in myNumbers:\n",
    "    if number==13:\n",
    "        break\n",
    "    print(number)\n",
    "\n",
    "print(\"#\"*30)\n",
    "\n",
    "for number in myNumbers:\n",
    "    if number==13:\n",
    "        pass\n",
    "    print(number)\n",
    "\n",
    "print(\"#\"*30)"
   ]
  },
  {
   "cell_type": "code",
   "execution_count": 34,
   "metadata": {},
   "outputs": [
    {
     "name": "stdout",
     "output_type": "stream",
     "text": [
      "dict_items([('HTML', '80%'), ('CSS', '90%'), ('JS', '70%'), ('PHP', '80%')])\n",
      "HTML 80%\n",
      "CSS 90%\n",
      "JS 70%\n",
      "PHP 80%\n",
      "HTML 80%\n",
      "CSS 90%\n",
      "JS 70%\n",
      "PHP 80%\n",
      "HTML progress is \n",
      "Main\n",
      "Pugjs\n",
      "CSS progress is \n",
      "Main\n",
      "Sass\n"
     ]
    }
   ],
   "source": [
    "# ------------------------------\n",
    "# -- Advanced Dictionary Loop --\n",
    "# ------------------------------\n",
    "\n",
    "mySkills = {\n",
    "  \"HTML\": \"80%\",\n",
    "  \"CSS\": \"90%\",\n",
    "  \"JS\": \"70%\",\n",
    "  \"PHP\": \"80%\"\n",
    "}\n",
    "\n",
    "print(mySkills.items())\n",
    "\n",
    "########################\n",
    "for skill in mySkills:\n",
    "    print(f\"{skill} {mySkills[skill]}\")\n",
    "#######################\n",
    "\n",
    "for key,value in mySkills.items():\n",
    "    print(f\"{key} {value}\")\n",
    "\n",
    "#######################\n",
    "\n",
    "myUltimateSkills = {\n",
    "  \"HTML\": {\n",
    "    \"Main\": \"80%\",\n",
    "    \"Pugjs\": \"80%\"\n",
    "  },\n",
    "  \"CSS\": {\n",
    "    \"Main\": \"90%\",\n",
    "    \"Sass\": \"70%\"\n",
    "  }\n",
    "}\n",
    "\n",
    "for key,valu in myUltimateSkills.items():\n",
    "    print(f\"{key} progress is \")\n",
    "    for value in myUltimateSkills[key]:\n",
    "        print(f\"{value}\")\n",
    "S"
   ]
  },
  {
   "attachments": {},
   "cell_type": "markdown",
   "metadata": {},
   "source": [
    "assignments"
   ]
  },
  {
   "cell_type": "code",
   "execution_count": 11,
   "metadata": {},
   "outputs": [
    {
     "name": "stdout",
     "output_type": "stream",
     "text": [
      "<class 'int'>\n",
      "num > 5\n",
      "9\n",
      "8\n",
      "7\n",
      "5\n",
      "4\n",
      "3\n",
      "2\n",
      "1\n",
      "8 numbers success printed\n"
     ]
    }
   ],
   "source": [
    "# 1\n",
    "\n",
    "num=int(input(\"enter the number\"))\n",
    "print(type(num))\n",
    "if num>5:\n",
    "    print(\"num > 5\")\n",
    "else:\n",
    "    print(\"num<5\")\n",
    "\n",
    "x=0\n",
    "\n",
    "while num>1:\n",
    "    num-=1\n",
    "    if num==6:\n",
    "        continue\n",
    "    print(num)\n",
    "    x+=1\n",
    "print(f\"{x} numbers success printed\")\n",
    "    \n"
   ]
  },
  {
   "cell_type": "code",
   "execution_count": 9,
   "metadata": {},
   "outputs": [
    {
     "name": "stdout",
     "output_type": "stream",
     "text": [
      "mohamed\n",
      "ahmed\n",
      "2\n",
      "Ali\n",
      "Hemdan\n",
      "Tamr\n",
      "3\n"
     ]
    }
   ],
   "source": [
    "# 2\n",
    "friends=[\"mohamed\",\"ahmed\",\"Ali\",\"Hemdan\",\"Tamr\"]\n",
    "friend=[\"mohamed\",\"ahmed\",\"Ali\",\"Hemdan\",\"Tamr\"]\n",
    "\n",
    "small=0\n",
    "large=0\n",
    "\n",
    "for name1 in friends:\n",
    "    for name2 in friend:\n",
    "\n",
    "        if name1.lower()==name2:\n",
    "            print(name1)\n",
    "            small+=1\n",
    "print(small)   \n",
    "\n",
    "for name1 in friends:\n",
    "    for name2 in friend:\n",
    "\n",
    "        if name1.capitalize()==name2:\n",
    "            print(name1)\n",
    "            large+=1\n",
    "print(large)   \n",
    "\n",
    "\n",
    "    "
   ]
  },
  {
   "cell_type": "code",
   "execution_count": 5,
   "metadata": {},
   "outputs": [
    {
     "name": "stdout",
     "output_type": "stream",
     "text": [
      "5\n",
      "1\n",
      "2\n",
      "Ali\n",
      "2\n",
      "Hemdan\n",
      "2\n",
      "Tamr\n",
      "2\n"
     ]
    }
   ],
   "source": [
    "friend=[\"mohamed\",\"ahmed\",\"ali\",\"hemdan\",\"tamr\"]\n",
    "friends=[\"mohamed\",\"ahmed\",\"Ali\",\"Hemdan\",\"Tamr\"]\n",
    "i=0\n",
    "count=0\n",
    "x=len(friends)\n",
    "print(x)\n",
    "while x>=1:\n",
    "    if friends[i][0].isupper():\n",
    "        print(friends[i])\n",
    "    else:\n",
    "        count+=1\n",
    "\n",
    "    i+=1\n",
    "    x-=1\n",
    "    print(count)\n"
   ]
  },
  {
   "cell_type": "code",
   "execution_count": 13,
   "metadata": {},
   "outputs": [
    {
     "name": "stdout",
     "output_type": "stream",
     "text": [
      "\"HTML\"\n",
      "\"CSS\"\n",
      "\"JavaScript\"\n",
      "\"PHP\"\n",
      "\"Python\"\n"
     ]
    }
   ],
   "source": [
    "# 3\n",
    "\n",
    "# Code\n",
    "skills = [\"HTML\", \"CSS\", \"JavaScript\", \"PHP\", \"Python\"]\n",
    "\n",
    "while skills: # هيفضل شغال طول ما الليست مش فاضيه \n",
    "  \n",
    "  print(f'\"{skills.pop(0)}\"')\n",
    "\n",
    "\n",
    "  # Type The Code Here in One Line\n",
    "\n",
    "# Needed Output\n",
    "# \"HTML\"\n",
    "# \"CSS\"\n",
    "# \"JavaScript\"\n",
    "# \"PHP\"\n",
    "# \"Python\""
   ]
  },
  {
   "cell_type": "code",
   "execution_count": 30,
   "metadata": {},
   "outputs": [
    {
     "name": "stdout",
     "output_type": "stream",
     "text": [
      "ali\n",
      "convert first character\n",
      "['Ali']\n"
     ]
    }
   ],
   "source": [
    "# 4\n",
    "my_friends=[]\n",
    "max=4\n",
    "name=input(\"enter the name\")\n",
    "\n",
    "if name.isupper():\n",
    "    print(\"invalid name\")\n",
    "if name[0].isupper():\n",
    "        my_friends.append(name)\n",
    "        print(\"you added\")\n",
    "else:\n",
    "\n",
    "        my_friends.append(name.capitalize())\n",
    "        print(name)\n",
    "        print(\"convert first character\")\n",
    "if len(my_friends)<max:\n",
    "       name=input(\"enter the name\").strip()\n",
    "print(my_friends)"
   ]
  },
  {
   "cell_type": "code",
   "execution_count": 9,
   "metadata": {},
   "outputs": [
    {
     "name": "stdout",
     "output_type": "stream",
     "text": [
      "1 => 20\n",
      "2 => 15\n",
      "3 => 5\n",
      "loop finished\n"
     ]
    }
   ],
   "source": [
    "# 1\n",
    "# Input\n",
    "my_nums = [15, 81, 5, 17, 20, 21, 13]\n",
    "my_nums.sort(reverse=True)\n",
    "i=1\n",
    "\n",
    "for number in my_nums:\n",
    "    \n",
    "    if number%5==0:\n",
    "        print(f\"{i} => {number}\")\n",
    "        i+=1\n",
    "\n",
    "print(\"loop finished\")"
   ]
  },
  {
   "cell_type": "code",
   "execution_count": 16,
   "metadata": {},
   "outputs": [
    {
     "name": "stdout",
     "output_type": "stream",
     "text": [
      "01\n",
      "02\n",
      "03\n",
      "04\n",
      "05\n",
      "07\n",
      "09\n",
      "11\n",
      "12\n",
      "13\n",
      "14\n",
      "15\n",
      "16\n",
      "17\n",
      "18\n",
      "19\n",
      "20\n",
      "all numbers printed\n"
     ]
    }
   ],
   "source": [
    "# 2\n",
    "for num in range(1,21):\n",
    "    if num==6 or num==8 or num==10:\n",
    "        continue\n",
    "    print((str(num).zfill(2)))\n",
    "print(\"all numbers printed\")"
   ]
  },
  {
   "cell_type": "code",
   "execution_count": 22,
   "metadata": {},
   "outputs": [
    {
     "name": "stdout",
     "output_type": "stream",
     "text": [
      "My Rank in Math Is A And This Equal 100 Points\n",
      "My Rank in Science Is B And This Equal 80 Points\n",
      "My Rank in Drawing Is A And This Equal 100 Points\n",
      "My Rank in Sports Is C And This Equal 40 Points\n",
      "total points is 320\n"
     ]
    }
   ],
   "source": [
    "# 3\n",
    "\n",
    "# Input\n",
    "my_ranks = {\n",
    "  'Math': 'A',\n",
    "  \"Science\": 'B',\n",
    "  'Drawing': 'A',\n",
    "  'Sports': 'C'\n",
    "}\n",
    "\n",
    "\n",
    "# Needed Output\n",
    "\"My Rank in Math Is A And This Equal 100 Points\"\n",
    "\"My Rank in Science Is B And This Equal 80 Points\"\n",
    "\"My Rank in Drawing Is A And This Equal 100 Points\"\n",
    "\"My Rank in Sports Is C And This Equal 40 Points\"\n",
    "\"Total Points Is 320\"\n",
    "sum=0\n",
    "for key,value in my_ranks.items():\n",
    "\n",
    "    if key==\"Math\" and value==\"A\":\n",
    "        print(\"My Rank in Math Is A And This Equal 100 Points\")\n",
    "        sum+=100\n",
    "    elif key==\"Science\" and value==\"B\":\n",
    "        print(\"My Rank in Science Is B And This Equal 80 Points\")\n",
    "        sum+=80\n",
    "    elif key==\"Drawing\" and value==\"A\":\n",
    "        print(\"My Rank in Drawing Is A And This Equal 100 Points\")\n",
    "        sum+=100\n",
    "    else:\n",
    "        print(\"My Rank in Sports Is C And This Equal 40 Points\")\n",
    "        sum+=40\n",
    "print(f\"total points is {sum}\")\n",
    "\n"
   ]
  },
  {
   "cell_type": "code",
   "execution_count": 33,
   "metadata": {},
   "outputs": [
    {
     "name": "stdout",
     "output_type": "stream",
     "text": [
      "----------------------------------------\n",
      "\"-- student name => Ahmed \n",
      "----------------------------------------\n",
      "\"- math => 100 points\n",
      "\"- science => 80 points\n",
      "\"- draw => 40 points\n",
      "\"- sports => 20 points\n",
      "\"- thinking => 100 points\n",
      "total points for ahmed is 340\n",
      "----------------------------------------\n",
      "\"-- student name => Sayed \n",
      "----------------------------------------\n",
      "\"- math => 20 points\n",
      "\"- science => 100 points\n",
      "\"- draw => 100 points\n",
      "\"- sports => 80 points\n",
      "\"- thinking => 80 points\n",
      "total points for ahmed is 380\n",
      "----------------------------------------\n",
      "\"-- student name => Mahmoud \n",
      "----------------------------------------\n",
      "\"- math => 80 points\n",
      "\"- science => 80 points\n",
      "\"- draw => 80 points\n",
      "\"- sports => 20 points\n",
      "\"- thinking => 100 points\n",
      "total points for ahmed is 360\n"
     ]
    }
   ],
   "source": [
    "# 4\n",
    "\n",
    "# Input\n",
    "students = {\n",
    "  \"Ahmed\": {\n",
    "    \"Math\": \"A\",\n",
    "    \"Science\": \"D\",\n",
    "    \"Draw\": \"B\",\n",
    "    \"Sports\": \"C\",\n",
    "    \"Thinking\": \"A\"\n",
    "  },\n",
    "  \"Sayed\": {\n",
    "    \"Math\": \"B\",\n",
    "    \"Science\": \"B\",\n",
    "    \"Draw\": \"B\",\n",
    "    \"Sports\": \"D\",\n",
    "    \"Thinking\": \"A\"\n",
    "  },\n",
    "  \"Mahmoud\": {\n",
    "    \"Math\": \"D\",\n",
    "    \"Science\": \"A\",\n",
    "    \"Draw\": \"A\",\n",
    "    \"Sports\": \"B\",\n",
    "    \"Thinking\": \"B\"\n",
    "  }\n",
    "}\n",
    "\n",
    "a=100\n",
    "b=80\n",
    "c=40\n",
    "d=20\n",
    "\n",
    "sum=0\n",
    "for key in students:\n",
    "    if key==\"Ahmed\":\n",
    "        print(\"-\" * 40)\n",
    "        print(f\"\\\"-- student name => {key} \")\n",
    "        print(\"-\" * 40)\n",
    "        print(f\"\\\"- math => {a} points\")\n",
    "        sum+=a\n",
    "        print(f\"\\\"- science => {b} points\")\n",
    "        sum+=b\n",
    "        print(f\"\\\"- draw => {c} points\")\n",
    "        sum+=c\n",
    "        print(f\"\\\"- sports => {d} points\")\n",
    "        sum+=d\n",
    "        print(f\"\\\"- thinking => {a} points\")\n",
    "        sum+=a\n",
    "        print(f\"total points for ahmed is {sum}\")\n",
    "    elif key==\"Mahmoud\":\n",
    "        sum=0\n",
    "        print(\"-\" * 40)\n",
    "        print(f\"\\\"-- student name => {key} \")\n",
    "        print(\"-\" * 40)\n",
    "        print(f\"\\\"- math => {b} points\")\n",
    "        sum+=b\n",
    "        print(f\"\\\"- science => {b} points\")\n",
    "        sum+=b\n",
    "        print(f\"\\\"- draw => {b} points\")\n",
    "        sum+=b\n",
    "        print(f\"\\\"- sports => {d} points\")\n",
    "        sum+=d\n",
    "        print(f\"\\\"- thinking => {a} points\")\n",
    "        sum+=a\n",
    "        print(f\"total points for ahmed is {sum}\")\n",
    "    else:\n",
    "        print(\"-\" * 40)\n",
    "        print(f\"\\\"-- student name => {key} \")\n",
    "        print(\"-\" * 40)\n",
    "        sum=0\n",
    "        print(f\"\\\"- math => {d} points\")\n",
    "        sum+=d\n",
    "        print(f\"\\\"- science => {a} points\")\n",
    "        sum+=a\n",
    "        print(f\"\\\"- draw => {a} points\")\n",
    "        sum+=a\n",
    "        print(f\"\\\"- sports => {b} points\")\n",
    "        sum+=b\n",
    "        print(f\"\\\"- thinking => {b} points\")\n",
    "        sum+=b\n",
    "        print(f\"total points for ahmed is {sum}\")\n",
    "        \n",
    "\n",
    "\n"
   ]
  },
  {
   "cell_type": "code",
   "execution_count": null,
   "metadata": {},
   "outputs": [],
   "source": []
  }
 ],
 "metadata": {
  "kernelspec": {
   "display_name": "Python 3",
   "language": "python",
   "name": "python3"
  },
  "language_info": {
   "codemirror_mode": {
    "name": "ipython",
    "version": 3
   },
   "file_extension": ".py",
   "mimetype": "text/x-python",
   "name": "python",
   "nbconvert_exporter": "python",
   "pygments_lexer": "ipython3",
   "version": "3.9.0"
  },
  "orig_nbformat": 4
 },
 "nbformat": 4,
 "nbformat_minor": 2
}
