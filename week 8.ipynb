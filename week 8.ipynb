{
 "cells": [
  {
   "cell_type": "code",
   "execution_count": 1,
   "metadata": {},
   "outputs": [
    {
     "name": "stdout",
     "output_type": "stream",
     "text": [
      "hello mohamed this is your score table\n",
      "math => 100\n",
      "science => 23\n",
      "language => 83\n"
     ]
    }
   ],
   "source": [
    "# 2\n",
    "def get_score(name,math,science,language):\n",
    "    print(f\"hello {name} this is your score table\")\n",
    "    scores=[f\"math => {math}\",f\"science => {science}\" ,f\"language => {language}\"]\n",
    "    print(\"\\n\".join(scores))\n",
    "get_score(\"mohamed\",100,23,83)\n"
   ]
  },
  {
   "cell_type": "code",
   "execution_count": 2,
   "metadata": {},
   "outputs": [
    {
     "name": "stdout",
     "output_type": "stream",
     "text": [
      "hello mohamed this is your score table\n",
      "logic => 100\n",
      "program => 23\n"
     ]
    }
   ],
   "source": [
    "def get_score(name,logic,program):\n",
    "    print(f\"hello {name} this is your score table\")\n",
    "    scores=[f\"logic => {logic}\",f\"program => {program}\"]\n",
    "    print(\"\\n\".join(scores))\n",
    "get_score(\"mohamed\",100,23)"
   ]
  },
  {
   "cell_type": "code",
   "execution_count": 8,
   "metadata": {},
   "outputs": [
    {
     "name": "stdout",
     "output_type": "stream",
     "text": [
      "math => 90\n",
      "logic => 76\n"
     ]
    }
   ],
   "source": [
    "def get_scores(name=None,**scores):\n",
    "    if name is not None:\n",
    "        print(f\"hello {name} scores is :\")\n",
    "    for sub,scor in scores.items():\n",
    "        print(f\"{sub} => {scor}\")\n",
    "get_scores(math=90,logic=76)"
   ]
  },
  {
   "cell_type": "code",
   "execution_count": 10,
   "metadata": {},
   "outputs": [
    {
     "name": "stdout",
     "output_type": "stream",
     "text": [
      "hello ali you scores is\n",
      "math => 56\n"
     ]
    }
   ],
   "source": [
    "def get_scor(name,**scoree):\n",
    "    if not scoree:\n",
    "        print(f\"hello {name} you have not scores\")\n",
    "    else:\n",
    "        print(f\"hello {name} you scores is\")\n",
    "        for sub,scor in scoree.items():\n",
    "            print(f\"{sub} => {scor}\")\n",
    "get_scor(\"ali\",math=56)"
   ]
  },
  {
   "cell_type": "code",
   "execution_count": 16,
   "metadata": {},
   "outputs": [
    {
     "name": "stdout",
     "output_type": "stream",
     "text": [
      "math => 34\n",
      "science => 345\n",
      "logic => 234\n"
     ]
    }
   ],
   "source": [
    "# 3\n",
    "scors_list={\"math\":34,\"science\":345,\"logic\":234}\n",
    "def get_scores(name=None,**scores):\n",
    "\n",
    "    if name is not None:\n",
    "      print(f\"hello {name} this is score \")\n",
    "    if not scores:\n",
    "       print(f\"hello {name} you have not scores\")\n",
    "    else:\n",
    "          \n",
    "      for sub,scor in scores.items():\n",
    "        print(f\"{sub} => {scor}\")\n",
    "#get_scores(\"ali\",**scres_list)\n",
    "#get_scores(\"ali\")\n",
    "get_scores(**scors_list)"
   ]
  },
  {
   "cell_type": "code",
   "execution_count": null,
   "metadata": {},
   "outputs": [],
   "source": []
  }
 ],
 "metadata": {
  "kernelspec": {
   "display_name": "Python 3",
   "language": "python",
   "name": "python3"
  },
  "language_info": {
   "codemirror_mode": {
    "name": "ipython",
    "version": 3
   },
   "file_extension": ".py",
   "mimetype": "text/x-python",
   "name": "python",
   "nbconvert_exporter": "python",
   "pygments_lexer": "ipython3",
   "version": "3.11.2"
  },
  "orig_nbformat": 4
 },
 "nbformat": 4,
 "nbformat_minor": 2
}
