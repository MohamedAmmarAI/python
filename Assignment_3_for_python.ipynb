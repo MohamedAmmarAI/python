{
  "cells": [
    {
      "cell_type": "markdown",
      "metadata": {
        "id": "sYtlKxkK3z1k"
      },
      "source": [
        "# Assignment 3"
      ]
    },
    {
      "cell_type": "markdown",
      "metadata": {
        "id": "Ei2a5_Uj3z1p"
      },
      "source": [
        "### Write a function to count the number 4 in a given list."
      ]
    },
    {
      "cell_type": "code",
      "execution_count": null,
      "metadata": {
        "collapsed": true,
        "colab": {
          "base_uri": "https://localhost:8080/"
        },
        "id": "VdTqiucb3z1q",
        "outputId": "14e56186-9598-41a4-b937-c8aef7369335"
      },
      "outputs": [
        {
          "output_type": "execute_result",
          "data": {
            "text/plain": [
              "3"
            ]
          },
          "metadata": {},
          "execution_count": 7
        }
      ],
      "source": [
        "\n",
        "def num(my_list):\n",
        "  count=0\n",
        "  for i in my_list:\n",
        "    if i==4:\n",
        "      count+=1\n",
        "  return count\n",
        "my_list=[1,2,4,5,6,4,3,4]\n",
        "num(my_list)"
      ]
    },
    {
      "cell_type": "markdown",
      "metadata": {
        "id": "42q5R7ja3z1s"
      },
      "source": [
        "### write a  function to check whether a number is divisible by another number."
      ]
    },
    {
      "cell_type": "code",
      "execution_count": null,
      "metadata": {
        "collapsed": true,
        "colab": {
          "base_uri": "https://localhost:8080/"
        },
        "id": "P3KcTIfL3z1u",
        "outputId": "e52ec59c-183c-40bd-ddab-30fce3b30c92"
      },
      "outputs": [
        {
          "output_type": "stream",
          "name": "stdout",
          "text": [
            "true\n"
          ]
        }
      ],
      "source": [
        "def divisible(num1,num2):\n",
        "  if num1 % num2 ==0:\n",
        "    print(\"true\")\n",
        "  else:\n",
        "    print(\"false\")\n",
        "divisible(10,5)"
      ]
    },
    {
      "cell_type": "markdown",
      "metadata": {
        "id": "byXGjYOx3z1u"
      },
      "source": [
        "### write a function to find the maximum and minimum numbers from a sequence of numbers."
      ]
    },
    {
      "cell_type": "code",
      "execution_count": null,
      "metadata": {
        "collapsed": true,
        "colab": {
          "base_uri": "https://localhost:8080/"
        },
        "id": "ib-0rxtk3z1v",
        "outputId": "16fd42df-7966-4f68-9d72-501d1609332d"
      },
      "outputs": [
        {
          "output_type": "execute_result",
          "data": {
            "text/plain": [
              "(67, 1)"
            ]
          },
          "metadata": {},
          "execution_count": 21
        }
      ],
      "source": [
        "def max_min(data):\n",
        "  first=data[0]\n",
        "  second=data[0]\n",
        "  for num in data:\n",
        "    if num>first:\n",
        "      first=num\n",
        "    elif num<second:\n",
        "      second=num\n",
        "  return (first,second)\n",
        "\n",
        "max_min([1,2,3,4,5,67,34])"
      ]
    },
    {
      "cell_type": "markdown",
      "metadata": {
        "id": "VeXMRGlQ3z1v"
      },
      "source": [
        "### Write a Python function that takes two lists and returns True if they have at least one common member."
      ]
    },
    {
      "cell_type": "code",
      "execution_count": null,
      "metadata": {
        "collapsed": true,
        "colab": {
          "base_uri": "https://localhost:8080/"
        },
        "id": "EKbPP9Qc3z1w",
        "outputId": "0b027286-74a8-4447-ba21-5053ae192252"
      },
      "outputs": [
        {
          "output_type": "execute_result",
          "data": {
            "text/plain": [
              "True"
            ]
          },
          "metadata": {},
          "execution_count": 24
        }
      ],
      "source": [
        "def member(list1,list2):\n",
        "  for i in list1:\n",
        "    for j in list2:\n",
        "      if i==j:\n",
        "        return True\n",
        "member([1,3,5,7,9],[2,4,6,8,9])"
      ]
    },
    {
      "cell_type": "markdown",
      "metadata": {
        "id": "viFAi8RP3z1y"
      },
      "source": [
        "### Write a Python function to calculate the factorial of a number (a non-negative integer). The function accepts the number from the user"
      ]
    },
    {
      "cell_type": "code",
      "execution_count": null,
      "metadata": {
        "collapsed": true,
        "colab": {
          "base_uri": "https://localhost:8080/"
        },
        "id": "TSKZpN4S3z1z",
        "outputId": "f2756a00-b447-4e03-a2ba-4f41bd4305db"
      },
      "outputs": [
        {
          "output_type": "execute_result",
          "data": {
            "text/plain": [
              "120"
            ]
          },
          "metadata": {},
          "execution_count": 25
        }
      ],
      "source": [
        "def factorial(num):\n",
        "  if num==1:\n",
        "    return 1\n",
        "  else:\n",
        "    return num*factorial(num-1)\n",
        "factorial(5)"
      ]
    },
    {
      "cell_type": "markdown",
      "metadata": {
        "id": "u1AoPmvk3z10"
      },
      "source": [
        "### Write a Python function to check whether a number is in a given range.\n",
        "\n",
        "### The range is from 3 to 11\n"
      ]
    },
    {
      "cell_type": "code",
      "execution_count": null,
      "metadata": {
        "collapsed": true,
        "colab": {
          "base_uri": "https://localhost:8080/"
        },
        "id": "_glLsejT3z11",
        "outputId": "73be254f-3a57-40a9-f5e1-44369884634d"
      },
      "outputs": [
        {
          "output_type": "stream",
          "name": "stdout",
          "text": [
            "the number in range\n"
          ]
        }
      ],
      "source": [
        "def check(num):\n",
        "  if num in range(3,12):\n",
        "    print(\"the number in range\")\n",
        "  else:\n",
        "    print(\"the number is not in range\")\n",
        "check(7)\n"
      ]
    },
    {
      "cell_type": "markdown",
      "metadata": {
        "id": "AhZvM4jp3z11"
      },
      "source": [
        "### Write a  program to create the multiplication table (from 1 to 10) of a number."
      ]
    },
    {
      "cell_type": "code",
      "execution_count": null,
      "metadata": {
        "collapsed": true,
        "colab": {
          "base_uri": "https://localhost:8080/"
        },
        "id": "2MUuRSSu3z12",
        "outputId": "70cbc09c-8e9d-4d14-bfc8-7f981dced2b5"
      },
      "outputs": [
        {
          "output_type": "stream",
          "name": "stdout",
          "text": [
            "1 * 10 = 10\n",
            "2 * 10 = 20\n",
            "3 * 10 = 30\n",
            "4 * 10 = 40\n",
            "5 * 10 = 50\n",
            "6 * 10 = 60\n",
            "7 * 10 = 70\n",
            "8 * 10 = 80\n",
            "9 * 10 = 90\n",
            "10 * 10 = 100\n"
          ]
        }
      ],
      "source": [
        "for i in range(1,11):\n",
        "  print(i,\"*\",10,\"=\",i*10 )"
      ]
    },
    {
      "cell_type": "markdown",
      "metadata": {
        "id": "NiIsum8W3z13"
      },
      "source": [
        "#### LESSER OF TWO EVENS: Write a function that returns the lesser of two given numbers *if* both numbers are even, but returns the greater if one or both numbers are odd\n",
        "    lesser_of_two_evens(2,4) --> 2\n",
        "    lesser_of_two_evens(2,5) --> 5"
      ]
    },
    {
      "cell_type": "code",
      "execution_count": 4,
      "metadata": {
        "id": "b9jITnVZ3z13",
        "colab": {
          "base_uri": "https://localhost:8080/"
        },
        "outputId": "0070e977-d5dc-4420-886a-77fa3cf874be"
      },
      "outputs": [
        {
          "output_type": "execute_result",
          "data": {
            "text/plain": [
              "2"
            ]
          },
          "metadata": {},
          "execution_count": 4
        }
      ],
      "source": [
        "def lesser_of_two_evens(num1,num2):\n",
        "  if num1 % 2==0 and num2 % 2==0:\n",
        "    if num1<num2:\n",
        "      return num1\n",
        "    else:\n",
        "      return num2\n",
        "  elif num1 % 2 !=0 or num2 % 2 !=0:\n",
        "    if num1>num2:\n",
        "      return num1\n",
        "    else:\n",
        "      return num2\n",
        "lesser_of_two_evens(2,4)  # return 2\n",
        "#lesser_of_two_evens(2,5)  # return 5"
      ]
    },
    {
      "cell_type": "markdown",
      "metadata": {
        "id": "HIbfdb813z14"
      },
      "source": [
        "#### ANIMAL CRACKERS: Write a function takes a two-word string and returns True if both words begin with same letter\n",
        "    animal_crackers('Levelheaded Llama') --> True\n",
        "    animal_crackers('Crazy Kangaroo') --> False"
      ]
    },
    {
      "cell_type": "code",
      "execution_count": 8,
      "metadata": {
        "id": "RXfqVuL03z14",
        "colab": {
          "base_uri": "https://localhost:8080/",
          "height": 35
        },
        "outputId": "20d291da-c82e-480c-91eb-5ff8186da533"
      },
      "outputs": [
        {
          "output_type": "execute_result",
          "data": {
            "text/plain": [
              "'true'"
            ],
            "application/vnd.google.colaboratory.intrinsic+json": {
              "type": "string"
            }
          },
          "metadata": {},
          "execution_count": 8
        }
      ],
      "source": [
        "def animal_crackers(text):\n",
        "  st=text.split()\n",
        "  if st[0][0]==st[1][0]:\n",
        "    return \"true\"\n",
        "  else:\n",
        "    return \"false\"\n",
        "animal_crackers(\"Levelheaded Llama\") # return true\n",
        "#animal_crackers(\"Crazy Kangaroo\") # return false"
      ]
    },
    {
      "cell_type": "markdown",
      "metadata": {
        "id": "LgbUzo4t3z15"
      },
      "source": [
        "#### MAKES TWENTY: Given two integers, return True if the sum of the integers is 20 *or* if one of the integers is 20. If not, return False\n",
        "\n",
        "    makes_twenty(20,10) --> True\n",
        "    makes_twenty(12,8) --> True\n",
        "    makes_twenty(2,3) --> False"
      ]
    },
    {
      "cell_type": "code",
      "execution_count": 12,
      "metadata": {
        "id": "y_JVZLjH3z16",
        "colab": {
          "base_uri": "https://localhost:8080/"
        },
        "outputId": "0db27743-1c2a-41e0-f42d-d29acbb92542"
      },
      "outputs": [
        {
          "output_type": "execute_result",
          "data": {
            "text/plain": [
              "False"
            ]
          },
          "metadata": {},
          "execution_count": 12
        }
      ],
      "source": [
        "def makes_twenty(num1,num2):\n",
        "  if num1+num2 ==20 or num1==20 or num2==20:\n",
        "    return \"true\"\n",
        "  return False\n",
        "\n",
        "# makes_twenty(20,10) # true\n",
        "# makes_twenty(12,8)  # true\n",
        "makes_twenty(2,3)   # false\n",
        "\n",
        "\n"
      ]
    },
    {
      "cell_type": "markdown",
      "metadata": {
        "id": "8t-n_t5-3z17"
      },
      "source": [
        "#### ALMOST THERE: Given an integer n, return True if n is within 10 of either 100 or 200\n",
        "\n",
        "    almost_there(90) --> True\n",
        "    almost_there(104) --> True\n",
        "    almost_there(150) --> False\n",
        "    almost_there(209) --> True\n",
        "    \n",
        "NOTE: `abs(num)` returns the absolute value of a number"
      ]
    },
    {
      "cell_type": "code",
      "execution_count": 17,
      "metadata": {
        "id": "ILPxRp5d3z18",
        "colab": {
          "base_uri": "https://localhost:8080/"
        },
        "outputId": "2986c549-54d1-484c-e6b7-205098d30dd1"
      },
      "outputs": [
        {
          "output_type": "execute_result",
          "data": {
            "text/plain": [
              "True"
            ]
          },
          "metadata": {},
          "execution_count": 17
        }
      ],
      "source": [
        "def almost_there(n):\n",
        "    return n in range(90,111) or n in range(190,211)\n",
        "\n",
        "#almost_there(90)      # true\n",
        "almost_there(104)   # true\n",
        "# almost_there(150)   # false\n",
        "# almost_there(209)   # true"
      ]
    },
    {
      "cell_type": "markdown",
      "metadata": {
        "id": "pqoLCHEp3z18"
      },
      "source": [
        "#### BLACKJACK: Given three integers between 1 and 11, if their sum is less than or equal to 21, return their sum. If their sum exceeds 21 *and* there's an eleven, reduce the total sum by 10. Finally, if the sum  exceeds 21, return 'BUST'\n",
        "    blackjack(5,6,7) --> 18\n",
        "    blackjack(9,9,9) --> 'BUST'\n",
        "    blackjack(9,9,11) --> 19"
      ]
    },
    {
      "cell_type": "code",
      "execution_count": 19,
      "metadata": {
        "id": "u5hI3p6Z3z1-",
        "colab": {
          "base_uri": "https://localhost:8080/"
        },
        "outputId": "0ecbb964-e397-46d4-caf7-a670ceca0bd5"
      },
      "outputs": [
        {
          "output_type": "execute_result",
          "data": {
            "text/plain": [
              "18"
            ]
          },
          "metadata": {},
          "execution_count": 19
        }
      ],
      "source": [
        "def blackjack(x,y,z):\n",
        "  sum=x+y+z\n",
        "  if sum <= 21:\n",
        "    return sum\n",
        "  elif sum  > 21 :\n",
        "    if x==11 or y==11 or z==11:\n",
        "      sum=sum-10\n",
        "    else:\n",
        "      return \"Bust\"\n",
        "\n",
        "blackjack(5,6,7)    #--> 18\n",
        "# blackjack(9,9,9)    #--> 'BUST'\n",
        "# blackjack(9,9,11)   #--> 19\n"
      ]
    },
    {
      "cell_type": "code",
      "source": [],
      "metadata": {
        "id": "iVhXH7wzuLlK"
      },
      "execution_count": null,
      "outputs": []
    }
  ],
  "metadata": {
    "kernelspec": {
      "display_name": "Python 3",
      "language": "python",
      "name": "python3"
    },
    "language_info": {
      "codemirror_mode": {
        "name": "ipython",
        "version": 3
      },
      "file_extension": ".py",
      "mimetype": "text/x-python",
      "name": "python",
      "nbconvert_exporter": "python",
      "pygments_lexer": "ipython3",
      "version": "3.8.5"
    },
    "colab": {
      "name": "Assignment 3 for python.ipynb",
      "provenance": [],
      "collapsed_sections": []
    }
  },
  "nbformat": 4,
  "nbformat_minor": 0
}