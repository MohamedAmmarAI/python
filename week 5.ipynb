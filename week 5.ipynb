{
 "cells": [
  {
   "cell_type": "markdown",
   "metadata": {},
   "source": [
    "# Week 5"
   ]
  },
  {
   "cell_type": "markdown",
   "metadata": {},
   "source": [
    "#041 – Control Flow – If, Elif, Else\n",
    "#042 – Control Flow – Nested If And Trainings\n",
    "#043 – Control Flow – Ternary Conditional Operator\n",
    "#044 – Calculate Age Advanced Version And Training\n",
    "#045 – Membership Operators\n",
    "#046 – Practical Membership Control"
   ]
  },
  {
   "cell_type": "code",
   "execution_count": 2,
   "metadata": {},
   "outputs": [
    {
     "name": "stdout",
     "output_type": "stream",
     "text": [
      "True\n",
      "****************************************\n",
      "False\n",
      "True\n",
      "True\n",
      "****************************************\n"
     ]
    }
   ],
   "source": [
    "# -------------\n",
    "# -- Boolean --\n",
    "# -------------\n",
    "# [1] In Programming You Need to Known Your If Your Code Output is True Or False\n",
    "# [2] Boolean Values Are The Two Constant Objects False + True.\n",
    "# ---------------------------------------------------------------\n",
    "\n",
    "name = \" \"\n",
    "print(name.isspace())\n",
    "print(\"*\" * 40)\n",
    "\n",
    "print(100>200)\n",
    "print(100>30)\n",
    "print(120>43)\n",
    "\n",
    "print(\"*\"*40)"
   ]
  },
  {
   "cell_type": "code",
   "execution_count": 3,
   "metadata": {},
   "outputs": [
    {
     "name": "stdout",
     "output_type": "stream",
     "text": [
      "True\n",
      "True\n",
      "True\n",
      "True\n",
      "True\n",
      "==================================================\n",
      "False\n",
      "False\n",
      "False\n",
      "False\n",
      "False\n",
      "False\n",
      "False\n",
      "False\n"
     ]
    }
   ],
   "source": [
    "# True Values\n",
    "\n",
    "print(bool(\"Osama\"))\n",
    "print(bool(100))\n",
    "print(bool(100.95))\n",
    "print(bool(True))\n",
    "print(bool([1, 2, 3, 4, 5]))\n",
    "\n",
    "print(\"=\" * 50)\n",
    "\n",
    "# False Values\n",
    "\n",
    "print(bool(0))\n",
    "print(bool(\"\"))\n",
    "print(bool(''))\n",
    "print(bool([]))\n",
    "print(bool(False))\n",
    "print(bool(()))\n",
    "print(bool({}))\n",
    "print(bool(None))"
   ]
  },
  {
   "cell_type": "code",
   "execution_count": 9,
   "metadata": {},
   "outputs": [
    {
     "name": "stdout",
     "output_type": "stream",
     "text": [
      "True\n",
      "False\n",
      "True\n",
      "False\n",
      "True\n",
      "False\n"
     ]
    }
   ],
   "source": [
    "# -----------------------\n",
    "# -- Boolean Operators --\n",
    "# -----------------------\n",
    "# and\n",
    "# or\n",
    "# not\n",
    "# -----------------------\n",
    "\n",
    "age = 36\n",
    "country = \"Egypt\"\n",
    "rank = 10\n",
    "\n",
    "print(age>16 and country==\"Egypt\" and rank>0) # true\n",
    "print(age>34 and country==\"egypt\" and rank<0) # false\n",
    "\n",
    "\n",
    "print(age<16 or country==\"ksa\" or rank>0) # true\n",
    "print(age<16 and country==\"ksa\" and rank<0) # false\n",
    "\n",
    "print(age>16)\n",
    "print(not age>16)\n"
   ]
  },
  {
   "cell_type": "code",
   "execution_count": 10,
   "metadata": {},
   "outputs": [
    {
     "name": "stdout",
     "output_type": "stream",
     "text": [
      "-10\n",
      "10\n"
     ]
    }
   ],
   "source": [
    "# --------------------------\n",
    "# -- Assignment Operators --\n",
    "# --------------------------\n",
    "# =\n",
    "# +=\n",
    "# -=\n",
    "# *=\n",
    "# /=\n",
    "# **=\n",
    "# %=\n",
    "# //=\n",
    "# --------------------------\n",
    "\n",
    "x = 10  # Var One\n",
    "y = 20  # Var Two\n",
    "\n",
    "# Var One = Self [Operator] Var Two\n",
    "# Var One [Operator]= Var Two\n",
    "\n",
    "x-=y\n",
    "print(x)\n",
    "x+=y\n",
    "print(x)"
   ]
  },
  {
   "cell_type": "code",
   "execution_count": 19,
   "metadata": {},
   "outputs": [
    {
     "name": "stdout",
     "output_type": "stream",
     "text": [
      "True\n",
      "False\n",
      "True\n",
      "**************************************************\n",
      "False\n",
      "True\n",
      "False\n",
      "**************************************************\n",
      "False\n",
      "True\n",
      "False\n",
      "**************************************************\n",
      "False\n",
      "False\n",
      "False\n",
      "**************************************************\n",
      "True\n",
      "True\n",
      "False\n",
      "**************************************************\n",
      "False\n",
      "True\n",
      "True\n"
     ]
    }
   ],
   "source": [
    "# --------------------------\n",
    "# -- Comparison Operators --\n",
    "# --------------------------\n",
    "# [ == ] Equal\n",
    "# [ != ] Not Equal\n",
    "# [ > ] Greater Than\n",
    "# [ < ] Less Than\n",
    "# [ >= ] Greater Than Or Equal\n",
    "# [ <= ] Less Than Or Equal\n",
    "# --------------------------\n",
    "\n",
    "# Equal + Not Equal\n",
    "\n",
    "print(100==100)\n",
    "print(100==200)\n",
    "print(100==100.00)\n",
    "\n",
    "print(\"*\" * 50)\n",
    "\n",
    "print(100!=100)\n",
    "print(100!=200)\n",
    "print(100!=100.00)\n",
    "\n",
    "print(\"*\" * 50)\n",
    "\n",
    "# Greater Than + Less Than\n",
    "print(100>100)\n",
    "print(100>23)\n",
    "print(190>246)\n",
    "\n",
    "print(\"*\" * 50)\n",
    "\n",
    "print(100<23)\n",
    "print(100<50)\n",
    "print(10<3)\n",
    "\n",
    "print(\"*\"*50)\n",
    "\n",
    "# Greater Than Or Equal + Less Than Or Equal\n",
    "\n",
    "print(100>=100)\n",
    "print(100>=23)\n",
    "print(100>=200)\n",
    "\n",
    "print(\"*\"*50)\n",
    "\n",
    "print(100<=23)\n",
    "print(100<=100)\n",
    "print(100<=200)\n",
    "\n"
   ]
  },
  {
   "cell_type": "code",
   "execution_count": 26,
   "metadata": {},
   "outputs": [
    {
     "name": "stdout",
     "output_type": "stream",
     "text": [
      "<class 'int'>\n",
      "<class 'str'>\n",
      "**************************************************\n",
      "('O', 's', 'a', 'm', 'a')\n",
      "(1, 2, 3, 4, 5)\n",
      "('A', 'B', 'C')\n",
      "('A', 'B')\n",
      "**************************************************\n",
      "['O', 's', 'a', 'm', 'a']\n",
      "[1, 2, 3, 4, 5]\n",
      "['A', 'B', 'C']\n",
      "['A', 'B']\n"
     ]
    }
   ],
   "source": [
    "# ---------------------\n",
    "# -- Type Conversion --\n",
    "# ----------------------\n",
    "\n",
    "# str()\n",
    "\n",
    "a=10\n",
    "print(type(a))\n",
    "print(type(str(a)))\n",
    "\n",
    "print(\"*\"*50)\n",
    "\n",
    "# tuple()\n",
    "\n",
    "c = \"Osama\"  # String\n",
    "d = [1, 2, 3, 4, 5]  # List\n",
    "e = {\"A\", \"B\", \"C\"}  # Set\n",
    "f = {\"A\": 1, \"B\": 2}  # Dictionary\n",
    "print(tuple(c))\n",
    "print(tuple(d))\n",
    "print(tuple(e))\n",
    "print(tuple(f))\n",
    "\n",
    "print(\"*\"*50)\n",
    "\n",
    "# list()\n",
    "\n",
    "c = \"Osama\"  # String\n",
    "d = (1, 2, 3, 4, 5)  # Tuple\n",
    "e = {\"A\", \"B\", \"C\"}  # Set\n",
    "f = {\"A\": 1, \"B\": 2}  # Dictionary\n",
    "\n",
    "print(list(c))\n",
    "print(list(d))\n",
    "print(list(e))\n",
    "print(list(f))\n",
    "\n"
   ]
  },
  {
   "cell_type": "code",
   "execution_count": 28,
   "metadata": {},
   "outputs": [
    {
     "name": "stdout",
     "output_type": "stream",
     "text": [
      "{'s', 'a', 'O', 'm'}\n",
      "{1, 2, 3, 4, 5}\n",
      "{'A', 'B', 'C'}\n",
      "{'A', 'B'}\n",
      "##################################################\n"
     ]
    }
   ],
   "source": [
    "# set()\n",
    "c = \"Osama\"  # String\n",
    "d = (1, 2, 3, 4, 5)  # Tuple\n",
    "e = [\"A\", \"B\", \"C\"]  # List\n",
    "f = {\"A\": 1, \"B\": 2}  # Dictionary\n",
    "\n",
    "print(set(c))\n",
    "print(set(d))\n",
    "print(set(e))\n",
    "print(set(f))\n",
    "\n",
    "print(\"#\"*50)"
   ]
  },
  {
   "cell_type": "code",
   "execution_count": 30,
   "metadata": {},
   "outputs": [
    {
     "name": "stdout",
     "output_type": "stream",
     "text": [
      "{'a': 1, 'b': 2, 'c': 3}\n",
      "{'one': 1, 'two': 2, 'three': 3}\n"
     ]
    }
   ],
   "source": [
    "# dict()\n",
    "\n",
    "d=((\"a\",1),(\"b\",2),(\"c\",3))\n",
    "e=[[\"one\",1],[\"two\",2],[\"three\",3]]\n",
    "\n",
    "print(dict(d))\n",
    "print(dict(e))\n"
   ]
  },
  {
   "cell_type": "code",
   "execution_count": 9,
   "metadata": {},
   "outputs": [],
   "source": [
    "fname=input(\"what\\'s is your first name\")"
   ]
  },
  {
   "cell_type": "code",
   "execution_count": 10,
   "metadata": {},
   "outputs": [],
   "source": [
    "mname=input(\"what\\'s is your middle name\")"
   ]
  },
  {
   "cell_type": "code",
   "execution_count": 11,
   "metadata": {},
   "outputs": [],
   "source": [
    "lname=input(\"what\\'s is your last name\")"
   ]
  },
  {
   "cell_type": "code",
   "execution_count": 12,
   "metadata": {},
   "outputs": [
    {
     "name": "stdout",
     "output_type": "stream",
     "text": [
      "hello Mohamed Ahmed Ammar happy to see you\n"
     ]
    }
   ],
   "source": [
    "fname=fname.strip().capitalize()\n",
    "mname=mname.strip().capitalize()\n",
    "lname=lname.strip().capitalize()\n",
    "\n",
    "print(f\"hello {fname} {mname} {lname} happy to see you\")"
   ]
  },
  {
   "cell_type": "code",
   "execution_count": 1,
   "metadata": {},
   "outputs": [],
   "source": [
    "# ---------------------------\n",
    "# -- Practical Slice Email --\n",
    "# ---------------------------\n",
    "\n",
    "thename=input(\"what's your name\")\n",
    "theemail=input(\"what's your email\")\n"
   ]
  },
  {
   "cell_type": "code",
   "execution_count": 2,
   "metadata": {},
   "outputs": [
    {
     "name": "stdout",
     "output_type": "stream",
     "text": [
      "hello mohamed ahmed amar your email is mohamed@gmail.com\n",
      "you user name is mohamed \n",
      " your website is gmail.com\n"
     ]
    }
   ],
   "source": [
    "username=theemail[:theemail.index(\"@\")]\n",
    "website=theemail[theemail.index(\"@\")+1:]\n",
    "\n",
    "print(f\"hello {thename} your email is {theemail}\")\n",
    "print(f\"you user name is {username} \\n your website is {website}\")"
   ]
  },
  {
   "cell_type": "code",
   "execution_count": 4,
   "metadata": {},
   "outputs": [],
   "source": [
    "# -------------------------------------\n",
    "# -- Practical Your Age Full Details --\n",
    "# -------------------------------------\n",
    "\n",
    "# Input Age\n",
    "\n",
    "age=int(input(\"what is your age\"))\n",
    "\n"
   ]
  },
  {
   "cell_type": "code",
   "execution_count": 6,
   "metadata": {},
   "outputs": [
    {
     "name": "stdout",
     "output_type": "stream",
     "text": [
      "you live for :\n",
      "300 months\n",
      "1200 weeks\n",
      "9,125 days\n",
      "219,000 hours\n",
      "13,140,000 minutes\n",
      "788,400,000 seconds\n"
     ]
    }
   ],
   "source": [
    "months=age*12\n",
    "weeks=months*4\n",
    "days=age*365\n",
    "hours=days*24\n",
    "minutes=hours*60\n",
    "seconds=minutes*60\n",
    "\n",
    "print(\"you live for :\")\n",
    "print(f\"{months} months\")\n",
    "print(f\"{weeks} weeks\")\n",
    "print(f\"{days:,} days\")\n",
    "print(f\"{hours:,} hours\")\n",
    "print(f\"{minutes:,} minutes\")\n",
    "print(f\"{seconds:,} seconds\")"
   ]
  },
  {
   "cell_type": "markdown",
   "metadata": {},
   "source": [
    "# Assignments"
   ]
  },
  {
   "cell_type": "code",
   "execution_count": 10,
   "metadata": {},
   "outputs": [
    {
     "name": "stdout",
     "output_type": "stream",
     "text": [
      "True\n",
      "True\n",
      "True\n",
      "True\n",
      "False\n",
      "False\n",
      "False\n",
      "False\n"
     ]
    }
   ],
   "source": [
    "# 1\n",
    "# Needed Output\n",
    "\n",
    "True\n",
    "True\n",
    "True\n",
    "True\n",
    "False\n",
    "False\n",
    "False\n",
    "False\n",
    "\n",
    "print(bool(1))\n",
    "print(bool(200))\n",
    "print(bool(True))\n",
    "print(bool(\"mohamed\"))\n",
    "\n",
    "print(bool())\n",
    "print(bool([]))\n",
    "print(bool(False))\n",
    "print(bool(0))"
   ]
  },
  {
   "cell_type": "code",
   "execution_count": 11,
   "metadata": {},
   "outputs": [
    {
     "name": "stdout",
     "output_type": "stream",
     "text": [
      "True\n"
     ]
    }
   ],
   "source": [
    "# 2\n",
    "\n",
    "html = 80\n",
    "css = 60\n",
    "javascript = 70\n",
    "\n",
    "# Needed Output\n",
    "\n",
    "True\n",
    "\n",
    "print(html>50 and css>50 and javascript>50)"
   ]
  },
  {
   "cell_type": "code",
   "execution_count": 12,
   "metadata": {},
   "outputs": [
    {
     "name": "stdout",
     "output_type": "stream",
     "text": [
      "True\n",
      "False\n"
     ]
    }
   ],
   "source": [
    "# 3\n",
    "num_one = 10\n",
    "num_two = 20\n",
    "num = 20\n",
    "\n",
    "# Needed Output\n",
    "# true\n",
    "# false\n",
    "\n",
    "print(num>num_one or num>num_two)\n",
    "print(num>num_one and num>num_two)"
   ]
  },
  {
   "cell_type": "code",
   "execution_count": 18,
   "metadata": {},
   "outputs": [
    {
     "name": "stdout",
     "output_type": "stream",
     "text": [
      "30\n",
      "27000\n",
      "1000\n",
      "200.0\n",
      "<class 'float'>\n",
      "<class 'str'>\n"
     ]
    }
   ],
   "source": [
    "num_one=10\n",
    "num_two=20\n",
    "result=num_one+num_two\n",
    "print(result)\n",
    "print(result**3)\n",
    "print((result**3)%26000)\n",
    "print(1000/5)\n",
    "print(type(200.0))\n",
    "print(type(str(200.0)))"
   ]
  },
  {
   "cell_type": "code",
   "execution_count": 19,
   "metadata": {},
   "outputs": [
    {
     "name": "stdout",
     "output_type": "stream",
     "text": [
      "hello Mohamed ahmed ammar happy to see\n"
     ]
    }
   ],
   "source": [
    "# 1\n",
    "# Input\n",
    "\"     osAmA   \"\n",
    "\n",
    "# Needed Output\n",
    "\n",
    "\"Hello Osama, Happy To See You Here.\"\n",
    "\n",
    "name=input(\"what is your name\").strip().capitalize()\n",
    "print(f\"hello {name} happy to see\")"
   ]
  },
  {
   "cell_type": "code",
   "execution_count": 22,
   "metadata": {},
   "outputs": [
    {
     "name": "stdout",
     "output_type": "stream",
     "text": [
      "<class 'int'>\n",
      "Hello Your Age Is , All Articles Is Suitable For You\n"
     ]
    }
   ],
   "source": [
    "# 2\n",
    "age = int(input(\"what is your age\"))\n",
    "print(type(age))\n",
    "if age < 16:\n",
    "    print(\"Hello Your Age Is Under 16, Some Articles Is Not Suitable For You\")\n",
    "elif (age>16 or age==16):\n",
    "    print(\"Hello Your Age Is , All Articles Is Suitable For You\")  \n",
    "\n"
   ]
  },
  {
   "cell_type": "code",
   "execution_count": 23,
   "metadata": {},
   "outputs": [
    {
     "name": "stdout",
     "output_type": "stream",
     "text": [
      "hello Mohamed A.\n"
     ]
    }
   ],
   "source": [
    "# 3\n",
    "first_name=input(\"what is the first name\").strip().capitalize()\n",
    "second_name=input(\"what is the scond name\").strip().capitalize()\n",
    "# Needed Output\n",
    "\n",
    "\"Hello {First_Name} {First_Letter_From_Second_Name}.\" # Example \"Osama M.\"\n",
    "\n",
    "print(f\"hello {first_name} {second_name:.1s}.\")\n"
   ]
  },
  {
   "cell_type": "code",
   "execution_count": 33,
   "metadata": {},
   "outputs": [
    {
     "name": "stdout",
     "output_type": "stream",
     "text": [
      "Ali\n",
      "gmail\n",
      "com\n"
     ]
    }
   ],
   "source": [
    "# 4\n",
    "\n",
    "email=input(\"what is your email\").strip().lower()\n",
    "\n",
    "print(email[:email.index(\"@\")].capitalize())\n",
    "\n",
    "print(email[email.index(\"@\")+1:email.index(\".\")])\n",
    "\n",
    "print(email[email.index(\".\")+1:])\n"
   ]
  },
  {
   "cell_type": "code",
   "execution_count": null,
   "metadata": {},
   "outputs": [],
   "source": []
  }
 ],
 "metadata": {
  "kernelspec": {
   "display_name": "Python 3",
   "language": "python",
   "name": "python3"
  },
  "language_info": {
   "codemirror_mode": {
    "name": "ipython",
    "version": 3
   },
   "file_extension": ".py",
   "mimetype": "text/x-python",
   "name": "python",
   "nbconvert_exporter": "python",
   "pygments_lexer": "ipython3",
   "version": "3.11.0"
  },
  "orig_nbformat": 4,
  "vscode": {
   "interpreter": {
    "hash": "4a3bafef755923684b33fc831b8d38727961d539766062153e7b72b2aee38574"
   }
  }
 },
 "nbformat": 4,
 "nbformat_minor": 2
}
