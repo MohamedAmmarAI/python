{
 "cells": [
  {
   "cell_type": "markdown",
   "metadata": {},
   "source": [
    "# Week 4"
   ]
  },
  {
   "cell_type": "markdown",
   "metadata": {},
   "source": [
    "#026 – Set\n",
    "#027 – Set Methods Part 1\n",
    "#028 – Set Methods Part 2\n",
    "#029 – Set Methods Part 3\n",
    "#030 – Dictionary\n",
    "#031 – Dictionary Methods Part 1\n",
    "#032 – Dictionary Methods Part 2"
   ]
  },
  {
   "cell_type": "code",
   "execution_count": 14,
   "metadata": {},
   "outputs": [
    {
     "name": "stdout",
     "output_type": "stream",
     "text": [
      "{'Ahmed', 'Osama', 100}\n",
      "{True, 100.5, 100, 'Osama', (1, 2, 3)}\n",
      "{1, 2, 'One', 'Osama'}\n"
     ]
    }
   ],
   "source": [
    "# -----------------------------\n",
    "# -- Set --\n",
    "# ---------\n",
    "# [1] Set Items Are Enclosed in Curly Braces\n",
    "# [2] Set Items Are Not Ordered And Not Indexed\n",
    "# [3] Set Indexing and Slicing Cant Be Done\n",
    "# [4] Set Has Only Immutable Data Types (Numbers, Strings, Tuples) List and Dict Are Not\n",
    "# [5] Set Items Is Unique\n",
    "# -----------------------------\n",
    "\n",
    "# Not Ordered And Not Indexed\n",
    "\n",
    "mySetOne = {\"Osama\", \"Ahmed\", 100}\n",
    "print(mySetOne)\n",
    "#print(mySetOne[0])\n",
    "\n",
    "# Slicing Cant Be Done\n",
    "\n",
    "mySetTwo = {1, 2, 3, 4, 5, 6}\n",
    "#print(mySetTwo[0:3])\n",
    "\n",
    "# Has Only Immutable Data Types\n",
    "\n",
    "#mySetThree = {\"Osama\", 100, 100.5, True, [1, 2, 3]} # unhashable type: 'list'\n",
    "# Has Only Immutable Data Types\n",
    "\n",
    "mySetThree = {\"Osama\", 100, 100.5, True, (1, 2, 3)}\n",
    "print(mySetThree)\n",
    "\n",
    "# Items Is Unique\n",
    "\n",
    "mySetFour = {1, 2, \"Osama\", \"One\", \"Osama\", 1}\n",
    "print(mySetFour)\n"
   ]
  },
  {
   "cell_type": "code",
   "execution_count": 4,
   "metadata": {},
   "outputs": [
    {
     "name": "stdout",
     "output_type": "stream",
     "text": [
      "set()\n",
      "{'2', 'Three', '3', '1', 'One', 'Two'}\n",
      "{'2', 'Three', '3', 'Zero', '1', 'One', 'Cool', 'Two'}\n",
      "{1, 2, 3, 4, 5, 6}\n"
     ]
    }
   ],
   "source": [
    "# -----------------\n",
    "# -- Set Methods --\n",
    "# -----------------\n",
    "\n",
    "# clear()\n",
    "\n",
    "a={1,2,3}\n",
    "a.clear()\n",
    "print(a)\n",
    "\n",
    "# union()\n",
    "\n",
    "b = {\"One\", \"Two\", \"Three\"}\n",
    "c = {\"1\", \"2\", \"3\"}\n",
    "x = {\"Zero\", \"Cool\"}\n",
    "\n",
    "print(b | c)\n",
    "print(b.union(c,x))\n",
    "\n",
    "# add()\n",
    "\n",
    "d = {1, 2, 3, 4}\n",
    "d.add(5)\n",
    "d.add(6)\n",
    "print(d)"
   ]
  },
  {
   "cell_type": "code",
   "execution_count": 17,
   "metadata": {},
   "outputs": [
    {
     "name": "stdout",
     "output_type": "stream",
     "text": [
      "{1, 2, 3, 4}\n",
      "{1, 2, 3, 4}\n",
      "{1, 2, 3, 4, 6}\n",
      "{1, 2, 3, 4}\n",
      "{2, 3, 4}\n",
      "{2, 3, 4}\n",
      "True\n"
     ]
    }
   ],
   "source": [
    "# copy()\n",
    "\n",
    "e = {1, 2, 3, 4}\n",
    "f=e.copy()\n",
    "\n",
    "print(e)\n",
    "print(f)\n",
    "e.add(6)\n",
    "\n",
    "print(e)\n",
    "print(f)\n",
    "\n",
    "# remove()\n",
    "\n",
    "g = {1, 2, 3, 4}\n",
    "g.remove(1)\n",
    "#g.remove(7)\n",
    "print(g)\n",
    "\n",
    "# discard()\n",
    "\n",
    "h = {1, 2, 3, 4}\n",
    "h.discard(1)\n",
    "h.discard(7)\n",
    "print(h)\n",
    "\n",
    "# pop() Remove a random item from the set:\n",
    "\n",
    "i = {\"A\", True, 1, 2, 3, 4, 5}\n",
    "print(i.pop())"
   ]
  },
  {
   "cell_type": "code",
   "execution_count": 21,
   "metadata": {},
   "outputs": [
    {
     "name": "stdout",
     "output_type": "stream",
     "text": [
      "{1, 2, 3, 'B', 'A', 'Html', 'Css'}\n"
     ]
    }
   ],
   "source": [
    "# update()\n",
    "\n",
    "j = {1, 2, 3}\n",
    "k = {1, \"A\", \"B\", 2}\n",
    "j.update([\"Html\", \"Css\"])\n",
    "j.update(k)\n",
    "\n",
    "print(j)\n"
   ]
  },
  {
   "cell_type": "code",
   "execution_count": 24,
   "metadata": {},
   "outputs": [
    {
     "name": "stdout",
     "output_type": "stream",
     "text": [
      "{1, 2, 3, 4}\n",
      "{4}\n",
      "{1, 2, 3, 4}\n",
      "******************************\n",
      "{1, 2, 3, 4}\n",
      "{3, 4}\n",
      "========================================\n"
     ]
    }
   ],
   "source": [
    "# -----------------\n",
    "# -- Set Methods --\n",
    "# -----------------\n",
    "\n",
    "# difference()\n",
    "\n",
    "a = {1, 2, 3, 4}\n",
    "b = {1, 2, 3, \"Osama\", \"Ahmed\"}\n",
    "\n",
    "print(a)\n",
    "print(a.difference(b))\n",
    "print(a)\n",
    "\n",
    "print(\"*\" * 30)\n",
    "\n",
    "# difference_update()\n",
    "\n",
    "c = {1, 2, 3, 4}\n",
    "d = {1, 2, \"Osama\", \"Ahmed\"}\n",
    "print(c)\n",
    "c.difference_update(d)  # c - d\n",
    "print(c)\n",
    "\n",
    "print(\"=\" * 40)  # Separator"
   ]
  },
  {
   "cell_type": "code",
   "execution_count": 2,
   "metadata": {},
   "outputs": [
    {
     "name": "stdout",
     "output_type": "stream",
     "text": [
      "{1, 'Osama', 3, 2, 4, 'X'}\n",
      "{'Osama', 2, 'X'}\n",
      "{1, 'Osama', 3, 2, 4, 'X'}\n",
      "========================================\n",
      "{1, 'Osama', 3, 2, 4, 'X'}\n",
      "{'Osama', 2, 'X'}\n",
      "========================================\n",
      "{1, 2, 3, 4, 5, 'X'}\n",
      "{'Osama', 3, 5, 'Zero'}\n",
      "{1, 2, 3, 4, 5, 'X'}\n",
      "******************************\n",
      "{1, 2, 3, 4, 5, 'X'}\n",
      "{3, 5, 'Osama', 'Zero'}\n"
     ]
    }
   ],
   "source": [
    "e = {1, 2, 3, 4, \"X\", \"Osama\"}\n",
    "f = {\"Osama\", \"X\", 2}\n",
    "\n",
    "print(e)\n",
    "print(e.intersection(f))\n",
    "print(e)\n",
    "\n",
    "print(\"=\" * 40)  # Separator\n",
    "\n",
    "# intersection_update()\n",
    "\n",
    "g = {1, 2, 3, 4, \"X\", \"Osama\"}\n",
    "h = {\"Osama\", \"X\", 2}\n",
    "\n",
    "print(g)\n",
    "g.intersection_update(h)\n",
    "print(g)\n",
    "\n",
    "print(\"=\" * 40)  # Separator\n",
    "\n",
    "# symmetric_difference()\n",
    "\n",
    "i = {1, 2, 3, 4, 5, \"X\"}\n",
    "j = {\"Osama\", \"Zero\", 1, 2, 4, \"X\"}\n",
    "\n",
    "print(i)\n",
    "print(i.symmetric_difference(j))\n",
    "print(i)\n",
    "\n",
    "print(\"*\" * 30)\n",
    "\n",
    "\n",
    "# symmetric_difference_update()\n",
    "\n",
    "k = {1, 2, 3, 4, 5, \"X\"}\n",
    "l = {\"Osama\", \"Zero\", 1, 2, 4, \"X\"}\n",
    "\n",
    "print(k)\n",
    "k.symmetric_difference_update(l)\n",
    "print(k)\n"
   ]
  },
  {
   "cell_type": "code",
   "execution_count": 6,
   "metadata": {},
   "outputs": [
    {
     "name": "stdout",
     "output_type": "stream",
     "text": [
      "True\n",
      "False\n",
      "==================================================\n",
      "False\n",
      "True\n",
      "False\n",
      "True\n"
     ]
    }
   ],
   "source": [
    "# -----------------\n",
    "# -- Set Methods --\n",
    "# -----------------\n",
    "\n",
    "# issuperset()\n",
    "\n",
    "a = {1, 2, 3, 4}\n",
    "b = {1, 2, 3}\n",
    "c = {1, 2, 3, 4, 5}\n",
    "\n",
    "print(a.issuperset(b)) # true\n",
    "print(a.issuperset(c)) # false\n",
    "\n",
    "print(\"=\" * 50)\n",
    "\n",
    "# issubset()\n",
    "\n",
    "d = {1, 2, 3, 4}\n",
    "e = {1, 2, 3}\n",
    "f = {1, 2, 3, 4, 5}\n",
    "\n",
    "print(d.issubset(e)) \n",
    "print(d.issubset(f))\n",
    "\n",
    "# isdisjoint()\n",
    "\n",
    "g = {1, 2, 3, 4}\n",
    "h = {1, 2, 3}\n",
    "i = {10, 11, 12}\n",
    "\n",
    "print(g.isdisjoint(h))\n",
    "print(g.isdisjoint(i))\n"
   ]
  },
  {
   "cell_type": "code",
   "execution_count": 8,
   "metadata": {},
   "outputs": [
    {
     "name": "stdout",
     "output_type": "stream",
     "text": [
      "{'name': 'Osama', 'age': 36, 'country': 'Egypt', 'skills': ['Html', 'Css', 'JS'], 'rating': 10.5}\n",
      "Egypt\n",
      "Egypt\n",
      "dict_keys(['name', 'age', 'country', 'skills', 'rating'])\n",
      "dict_values(['Osama', 36, 'Egypt', ['Html', 'Css', 'JS'], 10.5])\n"
     ]
    }
   ],
   "source": [
    "# ---------------------------\n",
    "# -- Dictionary --\n",
    "# ----------------\n",
    "# [1] Dict Items Are Enclosed in Curly Braces\n",
    "# [2] Dict Items Are Contains Key : Value\n",
    "# [3] Dict Key Need To Be Immutable => (Number, String, Tuple) List Not Allowed\n",
    "# [4] Dict Value Can Have Any Data Types\n",
    "# [5] Dict Key Need To Be Unique\n",
    "# [6] Dict Is Not Ordered You Access Its Element With Key\n",
    "# ----------------------------\n",
    "\n",
    "# Dictionary\n",
    "user = {\n",
    "  \"name\": \"Osama\",\n",
    "  \"age\": 36,\n",
    "  \"country\": \"Egypt\",\n",
    "  \"skills\": [\"Html\", \"Css\", \"JS\"],\n",
    "  \"rating\": 10.5\n",
    "}\n",
    "\n",
    "print(user)\n",
    "print(user[\"country\"])\n",
    "print(user.get(\"country\"))\n",
    "\n",
    "print(user.keys())\n",
    "print(user.values())"
   ]
  },
  {
   "cell_type": "code",
   "execution_count": 1,
   "metadata": {},
   "outputs": [
    {
     "name": "stdout",
     "output_type": "stream",
     "text": [
      "{'One': {'name': 'Html', 'progress': '80%'}, 'Two': {'name': 'Css', 'progress': '90%'}, 'Three': {'name': 'Js', 'progress': '90%'}}\n",
      "{'name': 'Html', 'progress': '80%'}\n",
      "Js\n",
      "3\n",
      "2\n"
     ]
    }
   ],
   "source": [
    "# Two-Dimensional Dictionary\n",
    "\n",
    "languages = {\n",
    "  \"One\": {\n",
    "    \"name\": \"Html\",\n",
    "    \"progress\": \"80%\"\n",
    "  },\n",
    "  \"Two\": {\n",
    "    \"name\": \"Css\",\n",
    "    \"progress\": \"90%\"\n",
    "  },\n",
    "  \"Three\": {\n",
    "    \"name\": \"Js\",\n",
    "    \"progress\": \"90%\"\n",
    "  }\n",
    "}\n",
    "\n",
    "print(languages)\n",
    "print(languages['One'])\n",
    "print(languages['Three']['name'])\n",
    "\n",
    "# Dictionary Length\n",
    "print(len(languages))\n",
    "print(len(languages[\"Two\"]))\n"
   ]
  },
  {
   "cell_type": "code",
   "execution_count": 2,
   "metadata": {},
   "outputs": [
    {
     "name": "stdout",
     "output_type": "stream",
     "text": [
      "{'one': {'name': 'Vuejs', 'progress': '80%'}, 'two': {'name': 'ReactJs', 'progress': '80%'}, 'three': {'name': 'Angular', 'progress': '80%'}}\n"
     ]
    }
   ],
   "source": [
    "# Create Dictionary From Variables\n",
    "\n",
    "frameworkOne = {\n",
    "  \"name\": \"Vuejs\",\n",
    "  \"progress\": \"80%\"\n",
    "}\n",
    "\n",
    "frameworkTwo = {\n",
    "  \"name\": \"ReactJs\",\n",
    "  \"progress\": \"80%\"\n",
    "}\n",
    "\n",
    "frameworkThree = {\n",
    "  \"name\": \"Angular\",\n",
    "  \"progress\": \"80%\"\n",
    "}\n",
    "\n",
    "allFramework = {\n",
    "  \"one\": frameworkOne,\n",
    "  \"two\": frameworkTwo,\n",
    "  \"three\": frameworkThree\n",
    "}\n",
    "\n",
    "print(allFramework)"
   ]
  },
  {
   "cell_type": "code",
   "execution_count": 5,
   "metadata": {},
   "outputs": [
    {
     "name": "stdout",
     "output_type": "stream",
     "text": [
      "{'name': 'Osama'}\n",
      "{}\n",
      "==================================================\n",
      "{'name': 'Osama'}\n",
      "{'name': 'Osama', 'age': 45}\n",
      "{'name': 'Osama', 'age': 45, 'country': 'china'}\n"
     ]
    }
   ],
   "source": [
    "# ------------------------\n",
    "# -- Dictionary Methods --\n",
    "# ------------------------\n",
    "\n",
    "# clear()\n",
    "\n",
    "user = {\n",
    "  \"name\": \"Osama\"\n",
    "}\n",
    "\n",
    "print(user)\n",
    "user.clear()\n",
    "print(user)\n",
    "\n",
    "print(\"=\" * 50)\n",
    "\n",
    "# update()\n",
    "\n",
    "member = {\n",
    "  \"name\": \"Osama\"\n",
    "}\n",
    "\n",
    "print(member)\n",
    "member[\"age\"]=45\n",
    "print(member)\n",
    "member.update({\"country\":\"china\"})\n",
    "print(member)"
   ]
  },
  {
   "cell_type": "code",
   "execution_count": 6,
   "metadata": {},
   "outputs": [
    {
     "name": "stdout",
     "output_type": "stream",
     "text": [
      "==================================================\n",
      "{'name': 'Osama'}\n",
      "{'name': 'Osama', 'skills': 'Fighting'}\n",
      "{'name': 'Osama'}\n",
      "dict_keys(['name', 'skills'])\n",
      "dict_values(['Osama', 'Fighting'])\n"
     ]
    }
   ],
   "source": [
    "print(\"=\" * 50)\n",
    "\n",
    "# copy()\n",
    "\n",
    "main = {\n",
    "  \"name\": \"Osama\"\n",
    "}\n",
    "\n",
    "b=main.copy()\n",
    "print(b)\n",
    "main.update({\"skills\": \"Fighting\"})\n",
    "print(main)\n",
    "print(b)\n",
    "\n",
    "# keys() + values()\n",
    "\n",
    "print(main.keys())\n",
    "print(main.values())"
   ]
  },
  {
   "cell_type": "code",
   "execution_count": 7,
   "metadata": {},
   "outputs": [
    {
     "name": "stdout",
     "output_type": "stream",
     "text": [
      "{'name': 'Osama'}\n",
      "36\n",
      "{'name': 'Osama', 'age': 36}\n"
     ]
    }
   ],
   "source": [
    "# ------------------------\n",
    "# -- Dictionary Methods --\n",
    "# ------------------------\n",
    "\n",
    "# setdefault()\n",
    "\n",
    "user = {\n",
    "  \"name\": \"Osama\"\n",
    "}\n",
    "print(user)\n",
    "print(user.setdefault(\"age\",36))\n",
    "print(user)"
   ]
  },
  {
   "cell_type": "code",
   "execution_count": 16,
   "metadata": {},
   "outputs": [
    {
     "name": "stdout",
     "output_type": "stream",
     "text": [
      "========================================\n",
      "{'name': 'Osama', 'skill': 'PS4'}\n",
      "('age', 34)\n",
      "{'name': 'Osama', 'skill': 'PS4'}\n",
      "========================================\n",
      "{'name': 'Osama', 'skill': 'XBox'}\n",
      "dict_items([('name', 'Osama'), ('skill', 'XBox'), ('age', 36)])\n",
      "<class 'dict_items'>\n",
      "========================================\n",
      "{'MyKeyOne': 'X', 'MyKeyTwo': 'X', 'MyKeyThree': 'X'}\n"
     ]
    }
   ],
   "source": [
    "print(\"=\" * 40)\n",
    "\n",
    "# popitem()\n",
    "\n",
    "member = {\n",
    "  \"name\": \"Osama\",\n",
    "  \"skill\": \"PS4\"\n",
    "}\n",
    "\n",
    "print(member)\n",
    "member.update({\"age\":34})\n",
    "print(member.popitem())\n",
    "print(member)\n",
    "\n",
    "print(\"=\" * 40)\n",
    "\n",
    "# items()\n",
    "\n",
    "view = {\n",
    "  \"name\": \"Osama\",\n",
    "  \"skill\": \"XBox\"\n",
    "}\n",
    "\n",
    "allItems = view.items()\n",
    "print(view)\n",
    "view[\"age\"] = 36\n",
    "\n",
    "print(allItems)\n",
    "print(type(allItems))\n",
    "\n",
    "print(\"=\" * 40)\n",
    "\n",
    "# fromkeys()\n",
    "\n",
    "a = ('MyKeyOne', 'MyKeyTwo', 'MyKeyThree')\n",
    "b = \"X\"\n",
    "\n",
    "print(dict.fromkeys(a,b))\n"
   ]
  },
  {
   "attachments": {},
   "cell_type": "markdown",
   "metadata": {},
   "source": [
    "# assignments"
   ]
  },
  {
   "cell_type": "code",
   "execution_count": 7,
   "metadata": {},
   "outputs": [
    {
     "name": "stdout",
     "output_type": "stream",
     "text": [
      "[1, 2, 3, 4, 5]\n",
      "<class 'list'>\n",
      "[1, 2, 3, 4]\n"
     ]
    }
   ],
   "source": [
    "# 1\n",
    "my_list = [1, 2, 3, 3, 4, 5, 1]\n",
    "# Needed Output\n",
    "\n",
    "# 1, 2, 3, 4, 5\n",
    "# <class 'list'>\n",
    "# 1, 2, 3, 4\n",
    "\n",
    "unique_list=list(set(my_list))\n",
    "print(unique_list)\n",
    "print(type(unique_list))\n",
    "print(unique_list[:-1])"
   ]
  },
  {
   "cell_type": "code",
   "execution_count": 21,
   "metadata": {},
   "outputs": [
    {
     "name": "stdout",
     "output_type": "stream",
     "text": [
      "{1, 2, 3, 'A', 'B', 'C'}\n",
      "{1, 2, 3, 'A', 'B', 'C'}\n",
      "{1, 2, 3, 'A', 'B', 'C'}\n"
     ]
    }
   ],
   "source": [
    "# 2\n",
    "nums = {1, 2, 3}\n",
    "letters = {\"A\", \"B\", \"C\"}\n",
    "\n",
    "# Needed Output\n",
    "\n",
    "# {1, 2, 3, \"A\", \"B\", \"C\"}\n",
    "# {1, 2, 3, \"A\", \"B\", \"C\"}\n",
    "# {1, 2, 3, \"A\", \"B\", \"C\"}\n",
    "\n",
    "num_letter=(nums|letters)\n",
    "print(num_letter)\n",
    "print(nums.union(letters))\n",
    "nums.update(letters)\n",
    "print(nums)\n"
   ]
  },
  {
   "cell_type": "code",
   "execution_count": 29,
   "metadata": {},
   "outputs": [
    {
     "name": "stdout",
     "output_type": "stream",
     "text": [
      "{1, 2, 3}\n",
      "set()\n",
      "{'a', 'b'}\n"
     ]
    }
   ],
   "source": [
    "# 3\n",
    "my_set = {1, 2, 3}\n",
    "letters = {\"A\", \"B\", \"C\"}\n",
    "\n",
    "# Needed Output\n",
    "\n",
    "# {1, 2, 3}\n",
    "# set()\n",
    "# {\"A\", \"B\"}\n",
    "\n",
    "print(my_set)\n",
    "my_set.clear()\n",
    "print(my_set)\n",
    "my_set.add(\"b\")\n",
    "my_set.add(\"a\")\n",
    "print(my_set)\n",
    "my_set.discard(\"c\")"
   ]
  },
  {
   "cell_type": "code",
   "execution_count": 31,
   "metadata": {},
   "outputs": [
    {
     "name": "stdout",
     "output_type": "stream",
     "text": [
      "True\n"
     ]
    }
   ],
   "source": [
    "# 4\n",
    "\n",
    "set_one = {1, 2, 3}\n",
    "set_two = {1, 2, 3, 4, 5, 6}\n",
    "\n",
    "# Needed Output\n",
    "\n",
    "print(set_one.issubset(set_two))"
   ]
  },
  {
   "cell_type": "code",
   "execution_count": 14,
   "metadata": {},
   "outputs": [
    {
     "name": "stdout",
     "output_type": "stream",
     "text": [
      "html is 90%\n",
      "css is 80%\n",
      "java is 60%\n",
      "web is 87%\n"
     ]
    }
   ],
   "source": [
    "# 5\n",
    "\n",
    "skills={\"html\":\"90%\" ,\"css\": \"80%\" ,\"java\": \"60%\"}\n",
    "\n",
    "print(\"html is\" , skills[\"html\"])\n",
    "print(\"css is\" , skills[\"css\"])\n",
    "print(\"java is\" , skills[\"java\"])\n",
    "skills[\"web\"]=\"87%\"\n",
    "print(\"web is\" , skills[\"web\"])\n",
    "\n"
   ]
  },
  {
   "cell_type": "code",
   "execution_count": null,
   "metadata": {},
   "outputs": [],
   "source": []
  }
 ],
 "metadata": {
  "kernelspec": {
   "display_name": "Python 3",
   "language": "python",
   "name": "python3"
  },
  "language_info": {
   "codemirror_mode": {
    "name": "ipython",
    "version": 3
   },
   "file_extension": ".py",
   "mimetype": "text/x-python",
   "name": "python",
   "nbconvert_exporter": "python",
   "pygments_lexer": "ipython3",
   "version": "3.9.0"
  },
  "orig_nbformat": 4,
  "vscode": {
   "interpreter": {
    "hash": "4a3bafef755923684b33fc831b8d38727961d539766062153e7b72b2aee38574"
   }
  }
 },
 "nbformat": 4,
 "nbformat_minor": 2
}
