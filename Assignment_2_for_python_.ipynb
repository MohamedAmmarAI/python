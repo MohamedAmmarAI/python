{
  "cells": [
    {
      "cell_type": "markdown",
      "metadata": {
        "collapsed": true,
        "id": "-Kq8ocd2jxfP"
      },
      "source": [
        "# Assignment 2\n",
        "Let's test your knowledge!"
      ]
    },
    {
      "cell_type": "markdown",
      "metadata": {
        "id": "x_ZzQd9SjxfU"
      },
      "source": [
        "_____\n",
        "**Use <code>for</code>, .split(), and <code>if</code> to create a Statement that will print out words that start with 's':**"
      ]
    },
    {
      "cell_type": "code",
      "execution_count": 5,
      "metadata": {
        "id": "_aXrVVL7jxfW"
      },
      "outputs": [],
      "source": [
        "st = 'Print only the words that start with s in this sentence'"
      ]
    },
    {
      "cell_type": "code",
      "execution_count": 6,
      "metadata": {
        "colab": {
          "base_uri": "https://localhost:8080/"
        },
        "id": "4TyM7us1jxfY",
        "outputId": "b4eaaa90-9b9a-4f52-8858-1e683e28522f"
      },
      "outputs": [
        {
          "output_type": "stream",
          "name": "stdout",
          "text": [
            "start\n",
            "s\n",
            "sentence\n"
          ]
        }
      ],
      "source": [
        "#Code here\n",
        "st=st.split() # return list for words\n",
        "for word in st:\n",
        "  if word[0]==\"s\":\n",
        "    print(word)"
      ]
    },
    {
      "cell_type": "markdown",
      "metadata": {
        "id": "nrLAcHmKjxfZ"
      },
      "source": [
        "______\n",
        "**Use range() to print all the even numbers from 0 to 10.**"
      ]
    },
    {
      "cell_type": "code",
      "execution_count": 7,
      "metadata": {
        "colab": {
          "base_uri": "https://localhost:8080/"
        },
        "id": "IeVyagKjjxfb",
        "outputId": "41e6b553-5169-4117-f629-7b33cf949167"
      },
      "outputs": [
        {
          "output_type": "stream",
          "name": "stdout",
          "text": [
            "0\n",
            "2\n",
            "4\n",
            "6\n",
            "8\n",
            "10\n"
          ]
        }
      ],
      "source": [
        "# print the even numbers from 0 to 10\n",
        "for i in range(11):\n",
        "  if i % 2 ==0:\n",
        "    print(i)"
      ]
    },
    {
      "cell_type": "markdown",
      "metadata": {
        "id": "n_k7LFPgjxfc"
      },
      "source": [
        "___\n",
        "**Use a List Comprehension to create a list of all numbers between 1 and 50 that are divisible by 3.**"
      ]
    },
    {
      "cell_type": "code",
      "execution_count": 9,
      "metadata": {
        "colab": {
          "base_uri": "https://localhost:8080/"
        },
        "id": "18j2S48Wjxfd",
        "outputId": "13f3a78f-0848-4f72-dd45-7501f102e519"
      },
      "outputs": [
        {
          "output_type": "execute_result",
          "data": {
            "text/plain": [
              "[3, 6, 9, 12, 15, 18, 21, 24, 27, 30, 33, 36, 39, 42, 45, 48]"
            ]
          },
          "metadata": {},
          "execution_count": 9
        }
      ],
      "source": [
        "#Code Here\n",
        "my_list=[i for i in range(1,51) if i % 3==0 ]\n",
        "\n",
        "my_list\n",
        "\n"
      ]
    },
    {
      "cell_type": "markdown",
      "metadata": {
        "id": "Ogo5vls9jxfe"
      },
      "source": [
        "_____\n",
        "**Go through the string below and if the length of a word is even print \"even!\"**"
      ]
    },
    {
      "cell_type": "code",
      "execution_count": 19,
      "metadata": {
        "id": "9juK7Jeijxff"
      },
      "outputs": [],
      "source": [
        "st = 'Print every word in this sentence that has an even number of letters'"
      ]
    },
    {
      "cell_type": "code",
      "execution_count": 20,
      "metadata": {
        "colab": {
          "base_uri": "https://localhost:8080/"
        },
        "id": "cNM-gsWMjxfg",
        "outputId": "bf95fcb1-aa46-460b-bf44-ce0b462ded6b"
      },
      "outputs": [
        {
          "output_type": "stream",
          "name": "stdout",
          "text": [
            "word even\n",
            "in even\n",
            "this even\n",
            "sentence even\n",
            "that even\n",
            "an even\n",
            "even even\n",
            "number even\n",
            "of even\n"
          ]
        }
      ],
      "source": [
        "#Code in this cell\n",
        "st=st.split()\n",
        "for word in st:\n",
        "  if len(word) % 2==0:\n",
        "    print(word ,\"even\")"
      ]
    },
    {
      "cell_type": "markdown",
      "metadata": {
        "id": "mRQhhaYYjxfh"
      },
      "source": [
        "____\n",
        "**Write a program that prints the integers from 1 to 100. But for multiples of three print \"Fizz\" instead of the number, and for the multiples of five print \"Buzz\". For numbers which are multiples of both three and five print \"FizzBuzz\".**"
      ]
    },
    {
      "cell_type": "code",
      "execution_count": 21,
      "metadata": {
        "colab": {
          "base_uri": "https://localhost:8080/"
        },
        "id": "9qEBDq-Vjxfj",
        "outputId": "709a58ad-317d-4dc1-b728-989865a9f876"
      },
      "outputs": [
        {
          "output_type": "stream",
          "name": "stdout",
          "text": [
            "1\n",
            "2\n",
            "fizz\n",
            "4\n",
            "buzz\n",
            "fizz\n",
            "7\n",
            "8\n",
            "fizz\n",
            "buzz\n",
            "11\n",
            "fizz\n",
            "13\n",
            "14\n",
            "fizzbuzz\n",
            "16\n",
            "17\n",
            "fizz\n",
            "19\n",
            "buzz\n",
            "fizz\n",
            "22\n",
            "23\n",
            "fizz\n",
            "buzz\n",
            "26\n",
            "fizz\n",
            "28\n",
            "29\n",
            "fizzbuzz\n",
            "31\n",
            "32\n",
            "fizz\n",
            "34\n",
            "buzz\n",
            "fizz\n",
            "37\n",
            "38\n",
            "fizz\n",
            "buzz\n",
            "41\n",
            "fizz\n",
            "43\n",
            "44\n",
            "fizzbuzz\n",
            "46\n",
            "47\n",
            "fizz\n",
            "49\n",
            "buzz\n",
            "fizz\n",
            "52\n",
            "53\n",
            "fizz\n",
            "buzz\n",
            "56\n",
            "fizz\n",
            "58\n",
            "59\n",
            "fizzbuzz\n",
            "61\n",
            "62\n",
            "fizz\n",
            "64\n",
            "buzz\n",
            "fizz\n",
            "67\n",
            "68\n",
            "fizz\n",
            "buzz\n",
            "71\n",
            "fizz\n",
            "73\n",
            "74\n",
            "fizzbuzz\n",
            "76\n",
            "77\n",
            "fizz\n",
            "79\n",
            "buzz\n",
            "fizz\n",
            "82\n",
            "83\n",
            "fizz\n",
            "buzz\n",
            "86\n",
            "fizz\n",
            "88\n",
            "89\n",
            "fizzbuzz\n",
            "91\n",
            "92\n",
            "fizz\n",
            "94\n",
            "buzz\n",
            "fizz\n",
            "97\n",
            "98\n",
            "fizz\n",
            "buzz\n"
          ]
        }
      ],
      "source": [
        "#Code in this cell\n",
        "for i in range(1,101):\n",
        "  if i % 3==0 and i % 5==0:\n",
        "    print(\"fizzbuzz\")\n",
        "  elif i % 3==0:\n",
        "    print(\"fizz\")\n",
        "  elif i % 5==0:\n",
        "    print(\"buzz\")\n",
        "  else:\n",
        "    print(i)"
      ]
    },
    {
      "cell_type": "markdown",
      "metadata": {
        "id": "Uh_somlYjxfk"
      },
      "source": [
        "____\n",
        "**Use List Comprehension to create a list of the first letters of every word in the string below:**"
      ]
    },
    {
      "cell_type": "code",
      "execution_count": 27,
      "metadata": {
        "id": "5wEGr0yDjxfk"
      },
      "outputs": [],
      "source": [
        "st = 'Create a list of the first letters of every word in this string'"
      ]
    },
    {
      "cell_type": "code",
      "execution_count": 28,
      "metadata": {
        "colab": {
          "base_uri": "https://localhost:8080/"
        },
        "id": "WaVtIzpsjxfl",
        "outputId": "a0f0300d-2e27-4a7c-dad2-d8d3a3e1d57f"
      },
      "outputs": [
        {
          "output_type": "execute_result",
          "data": {
            "text/plain": [
              "['C', 'a', 'l', 'o', 't', 'f', 'l', 'o', 'e', 'w', 'i', 't', 's']"
            ]
          },
          "metadata": {},
          "execution_count": 28
        }
      ],
      "source": [
        "#Code in this cell\n",
        "# list of the first letters of every word in the string\n",
        "st=st.split()\n",
        "my_list=[ word[0] for word in st ]\n",
        "my_list\n",
        " \n"
      ]
    },
    {
      "cell_type": "markdown",
      "metadata": {
        "id": "NzUhexfSjxfl"
      },
      "source": [
        "### Great Job!"
      ]
    }
  ],
  "metadata": {
    "kernelspec": {
      "display_name": "Python 3",
      "language": "python",
      "name": "python3"
    },
    "language_info": {
      "codemirror_mode": {
        "name": "ipython",
        "version": 3
      },
      "file_extension": ".py",
      "mimetype": "text/x-python",
      "name": "python",
      "nbconvert_exporter": "python",
      "pygments_lexer": "ipython3",
      "version": "3.8.5"
    },
    "colab": {
      "name": "Assignment 2 for python .ipynb",
      "provenance": [],
      "collapsed_sections": []
    }
  },
  "nbformat": 4,
  "nbformat_minor": 0
}